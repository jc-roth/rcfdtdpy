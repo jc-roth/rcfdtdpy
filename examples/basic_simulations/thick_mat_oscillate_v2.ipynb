{
 "cells": [
  {
   "cell_type": "markdown",
   "metadata": {},
   "source": [
    "## Setup Simulation\n",
    "\n",
    "Import needed libraries and define constants"
   ]
  },
  {
   "cell_type": "code",
   "execution_count": 1,
   "metadata": {},
   "outputs": [],
   "source": [
    "# Set plotting in separate window\n",
    "%matplotlib qt\n",
    "# Imports\n",
    "from rcfdtd_sim import Sim, Current, Mat, vis\n",
    "import numpy as np\n",
    "from scipy.fftpack import fft, fftfreq\n",
    "from matplotlib import pyplot as plt\n",
    "from pathlib import Path\n",
    "# Determine file save name\n",
    "fsave = 'thick_mat_oscillate_v2.npz'\n",
    "# Constants\n",
    "c0 = 1 # um/ps\n",
    "di = 0.3 # 0.003 um\n",
    "dn = di/c0 # (0.3 um) / (300 um/ps) = 0.001 ps = 1 fs\n",
    "epsilon0 = 1\n",
    "mu0 = 1"
   ]
  },
  {
   "cell_type": "markdown",
   "metadata": {},
   "source": [
    "Define simulation bounds and calculate length in indicies"
   ]
  },
  {
   "cell_type": "code",
   "execution_count": 2,
   "metadata": {},
   "outputs": [],
   "source": [
    "# Define bounds\n",
    "i0 = -100 # -100 um\n",
    "i1 = 1100 # 1100 um\n",
    "n0 = -300 # (1 fs) * (-300 um) / (0.3 um/step) = (1 fs) * (-1,000 steps) = -1 ps\n",
    "n1 = 5100 # (1 fs) * (5100 um) / (0.3 um/step) = (1 fs) * (17,000 steps) = 17 ps\n",
    "# Calculate dimensions\n",
    "nlen, ilen = Sim.calc_dims(n0, n1, dn, i0, i1, di)"
   ]
  },
  {
   "cell_type": "code",
   "execution_count": 3,
   "metadata": {},
   "outputs": [
    {
     "name": "stdout",
     "output_type": "stream",
     "text": [
      "18000 4002\n"
     ]
    }
   ],
   "source": [
    "print(nlen, ilen)"
   ]
  },
  {
   "cell_type": "markdown",
   "metadata": {},
   "source": [
    "Create our time and space arrays to help construct our material and current pulse"
   ]
  },
  {
   "cell_type": "code",
   "execution_count": 4,
   "metadata": {},
   "outputs": [],
   "source": [
    "# Create a arrays that hold the value of the center of each cell\n",
    "t = np.linspace(n0+dn/2, n1+dn/2, nlen, endpoint=False) * (10/3) # Multiply by 10/3 to get from um -> fs\n",
    "z = np.linspace(i0+di/2, i1+di/2, ilen, endpoint=False)"
   ]
  },
  {
   "cell_type": "markdown",
   "metadata": {},
   "source": [
    "## Setup Current\n",
    "\n",
    "Specify the location of our current pulse in time and space"
   ]
  },
  {
   "cell_type": "code",
   "execution_count": 5,
   "metadata": {},
   "outputs": [],
   "source": [
    "cp_loc_val = -50 # -50 um\n",
    "cp_time_val = 0 # 0 fs"
   ]
  },
  {
   "cell_type": "markdown",
   "metadata": {},
   "source": [
    "Determine the simulation indicies that correspond to these locations"
   ]
  },
  {
   "cell_type": "code",
   "execution_count": 6,
   "metadata": {},
   "outputs": [],
   "source": [
    "# Find indicies\n",
    "cp_loc_ind = np.argmin(np.abs(np.subtract(z, cp_loc_val)))\n",
    "cp_time_ind = np.argmin(np.abs(np.subtract(t, cp_time_val)))\n",
    "# Find start and end indicies in time\n",
    "spread = int(500 / 1) # (500 fs) / (1 fs/step) = 500 steps\n",
    "cp_time_s = cp_time_ind - spread\n",
    "cp_time_e = cp_time_ind + spread"
   ]
  },
  {
   "cell_type": "markdown",
   "metadata": {},
   "source": [
    "Create the current pulse"
   ]
  },
  {
   "cell_type": "code",
   "execution_count": 7,
   "metadata": {},
   "outputs": [],
   "source": [
    "# Make pulse\n",
    "cpulse = np.append(np.diff(np.diff(np.exp(-((t[cp_time_s:cp_time_e]-cp_time_val)**2)/(2e4)))), [0,0])\n",
    "# Plot\n",
    "plt.plot(t[cp_time_s:cp_time_e], cpulse)\n",
    "plt.xlabel('time [fs]')\n",
    "plt.ylabel('current [mA]')\n",
    "plt.show()\n",
    "# Create Current object\n",
    "current = Current(nlen, ilen, cp_time_s, cp_loc_ind, cpulse)"
   ]
  },
  {
   "cell_type": "markdown",
   "metadata": {},
   "source": [
    "## Setup Material\n",
    "\n",
    "Specify the location of our material (which will be $2$um in length)"
   ]
  },
  {
   "cell_type": "code",
   "execution_count": 8,
   "metadata": {},
   "outputs": [],
   "source": [
    "# Set material length\n",
    "m_len = 1000 # 1000 um = 1mm\n",
    "# Set locations\n",
    "m_s_val = 0\n",
    "m_e_val = m_s_val + m_len"
   ]
  },
  {
   "cell_type": "markdown",
   "metadata": {},
   "source": [
    "Calculate the starting and ending indicies of our material"
   ]
  },
  {
   "cell_type": "code",
   "execution_count": 9,
   "metadata": {},
   "outputs": [],
   "source": [
    "m_s_ind = np.argmin(np.abs(np.subtract(z, m_s_val)))\n",
    "m_e_ind = np.argmin(np.abs(np.subtract(z, m_e_val)))"
   ]
  },
  {
   "cell_type": "markdown",
   "metadata": {},
   "source": [
    "Setup material behavior"
   ]
  },
  {
   "cell_type": "code",
   "execution_count": 10,
   "metadata": {},
   "outputs": [],
   "source": [
    "# Set constants\n",
    "a = np.complex64(1)\n",
    "gamma = np.complex64(1e-2)\n",
    "freq = np.complex64(2e-1)\n",
    "# Calculate beta\n",
    "ang_gamma = np.complex64(gamma * 2 * np.pi)\n",
    "omega = np.complex64(freq * 2 * np.pi)\n",
    "beta = np.sqrt(np.add(np.square(ang_gamma), -np.square(omega)), dtype=np.complex64)\n",
    "a1 = np.complex64(a/(2*beta))\n",
    "a2 = np.complex64(-a/(2*beta))"
   ]
  },
  {
   "cell_type": "code",
   "execution_count": 11,
   "metadata": {},
   "outputs": [
    {
     "name": "stdout",
     "output_type": "stream",
     "text": [
      "(0.01+0j) 1.2550653j -0.39838564j (-0+0.39838564j)\n"
     ]
    }
   ],
   "source": [
    "print(gamma, beta, a1, a2)"
   ]
  },
  {
   "cell_type": "markdown",
   "metadata": {},
   "source": [
    "Create our material behavior matrices"
   ]
  },
  {
   "cell_type": "code",
   "execution_count": 12,
   "metadata": {},
   "outputs": [],
   "source": [
    "# Determine matrix length\n",
    "mlen = m_e_ind - m_s_ind\n",
    "# Create matrices\n",
    "m = np.ones((1, mlen), dtype=np.complex64)\n",
    "mgamma = m * ang_gamma\n",
    "mbeta = m * beta\n",
    "ma1 = m * a1\n",
    "ma2 = m * a2"
   ]
  },
  {
   "cell_type": "markdown",
   "metadata": {},
   "source": [
    "Create our material object"
   ]
  },
  {
   "cell_type": "code",
   "execution_count": 13,
   "metadata": {},
   "outputs": [],
   "source": [
    "inf_perm = 9\n",
    "material = Mat(dn, ilen, nlen, m_s_ind, inf_perm, ma1, ma2, mgamma, mbeta, storelocs=[1])"
   ]
  },
  {
   "cell_type": "markdown",
   "metadata": {},
   "source": [
    "## Running the Simulation\n",
    "\n",
    "Create and run our simulation (or load simulation if one already exists)"
   ]
  },
  {
   "cell_type": "code",
   "execution_count": 14,
   "metadata": {},
   "outputs": [],
   "source": [
    "# Create Sim object\n",
    "s = Sim(i0, i1, di, n0, n1, dn, epsilon0, mu0, 'absorbing', current, material, nstore=int(nlen/40), storelocs=[5,ilen-6])\n",
    "# Run simulation if simulation save doesn't exist\n",
    "sim_file = Path(fsave)\n",
    "if sim_file.is_file():\n",
    "    # Load results\n",
    "    dat = np.load(fsave)\n",
    "    n = dat['n']\n",
    "    ls = dat['ls']\n",
    "    els = dat['els']\n",
    "    erls = dat['erls']\n",
    "    hls = dat['hls']\n",
    "    hrls = dat['hrls']\n",
    "    chi = dat['chi']\n",
    "else:\n",
    "    # Run simulation\n",
    "    s.simulate()\n",
    "    # Export visualization\n",
    "    vis.timeseries(s, iunit='um')#, fname=fsave+'.mp4')\n",
    "    # Export and save arrays\n",
    "    n, ls, els, erls, hls, hrls = s.export_locs()\n",
    "    ls_mat, chi = material.export_locs()\n",
    "    n = n * (10/3) # 10/3 scale factor converts from um -> fs\n",
    "    np.savez(fsave, n=n, ls=ls, els=els, erls=erls, hls=hls, hrls=hrls, chi=chi)"
   ]
  },
  {
   "cell_type": "markdown",
   "metadata": {},
   "source": [
    "## Looking at $\\chi$\n",
    "\n",
    "We look at the value of $\\chi$ in time"
   ]
  },
  {
   "cell_type": "code",
   "execution_count": 15,
   "metadata": {},
   "outputs": [],
   "source": [
    "# Plot\n",
    "plt.plot(n, np.real(chi))\n",
    "plt.xlabel('time [fs]')\n",
    "plt.show()"
   ]
  },
  {
   "cell_type": "code",
   "execution_count": 16,
   "metadata": {},
   "outputs": [
    {
     "name": "stderr",
     "output_type": "stream",
     "text": [
      "/Users/jroth/anaconda3/lib/python3.6/site-packages/numpy/core/numeric.py:492: ComplexWarning: Casting complex values to real discards the imaginary part\n",
      "  return array(a, dtype, copy=False, order=order)\n"
     ]
    }
   ],
   "source": [
    "# Extract incident, transmitted, and reflected fields\n",
    "inc = erls[:,1]\n",
    "trans = els[:,1]\n",
    "refl = els[:,0] - erls[:,0]\n",
    "\n",
    "# Plot\n",
    "plt.plot(n, inc, label='$E_i$')\n",
    "plt.plot(n, trans, label='$E_t$')\n",
    "plt.plot(n, refl, label='$E_r$')\n",
    "plt.ylabel('Amplitude [?]')\n",
    "plt.xlabel('time [fs]')\n",
    "plt.legend()\n",
    "plt.show()"
   ]
  },
  {
   "cell_type": "code",
   "execution_count": 17,
   "metadata": {},
   "outputs": [],
   "source": [
    "# Calculate time difference\n",
    "dn = np.diff(n)[0] # Calculate time step difference in fs\n",
    "\n",
    "# Calculate Fourier transforms\n",
    "freq = fftfreq(nlen, dn) * 1e3 # in THz (since dn=1fs, 1/dt = 1/fs = 10^15/s = 10^3*10^12/s = 10^3*THz)\n",
    "incf = fft(inc)\n",
    "transf = fft(trans)\n",
    "\n",
    "# Removeunwanted frequencies\n",
    "freq = freq[1:int(nlen/2)]\n",
    "incf = incf[1:int(nlen/2)]\n",
    "transf = transf[1:int(nlen/2)]\n",
    "\n",
    "# Remove zero indicies from all arrays\n",
    "nonzero_ind = np.nonzero(incf)\n",
    "freq = freq[nonzero_ind]\n",
    "incf = incf[nonzero_ind]\n",
    "transf = transf[nonzero_ind]\n",
    "\n",
    "# Calculate spectrum in frequency\n",
    "spec = np.divide(transf, incf)\n",
    "spec_m = np.absolute(spec)\n",
    "spec_a = np.abs(np.unwrap(np.angle(spec)))\n",
    "\n",
    "# Plot\n",
    "fig, (ax0, ax1) = plt.subplots(nrows=2, sharex=True, dpi=100)\n",
    "ax0.plot(freq, spec_m)\n",
    "ax1.plot(freq, spec_a)\n",
    "ax0.set_ylim(0, 1.5)\n",
    "ax1.set_xlim(0, 1e1)\n",
    "ax0.set_ylabel(r'$E_t(\\omega)/E_i(\\omega)$')\n",
    "ax1.set_ylabel(r'$\\phi(\\nu)$ [rad]')\n",
    "ax1.set_xlabel(r'Frequency [THz]')\n",
    "plt.show()"
   ]
  },
  {
   "cell_type": "markdown",
   "metadata": {},
   "source": [
    "We wish to calculate the index of refraction\n",
    "$$\\tilde{n}(\\omega)=n(\\omega)+i\\kappa(\\omega)$$\n",
    "where $\\kappa\\ll n$. From Benjamin Ofori-Okai's 2016 PhD thesis p. 132 we note that in this case\n",
    "$$n(\\omega)=\\frac{c_0}{\\omega d}\\phi(\\omega)+1$$\n",
    "where $\\phi$ is the phase of the complex transmission $\\tilde{T}$ and $d$ is the length of the material. Ben's thesis also notes that\n",
    "$$\\kappa(\\omega)=-\\frac{c_0}{\\omega d}\\ln{\\left(A(\\omega)\\frac{\\left(n(\\omega)+1\\right)^2}{4n(\\omega)}\\right)}$$\n",
    "where $A(\\omega)$ is the magnitude of the complex transmission $\\tilde{T}$. However, $\\kappa\\ll n$ is not a valid assumption to make in this simulation, as we are not in the _thick sample limit_. Rather we are in the _thin sample limit_, meaning a different calculation must be performed."
   ]
  },
  {
   "cell_type": "code",
   "execution_count": 18,
   "metadata": {},
   "outputs": [
    {
     "name": "stderr",
     "output_type": "stream",
     "text": [
      "/Users/jroth/anaconda3/lib/python3.6/site-packages/ipykernel_launcher.py:15: RuntimeWarning: divide by zero encountered in log\n",
      "  from ipykernel import kernelapp as app\n"
     ]
    }
   ],
   "source": [
    "# Set constants (MAKE SURE THAT THESE ARE UP TO DATE WITH DATA TO LOAD IN)\n",
    "c0 = 1 # 300 um/ps : Taken from original.py\n",
    "L = 1250/300 # 1250 um / (300 um/ps) = 125 ps / 30 : Material length (manually divided by 300 um/ps as c0 = 1)\n",
    "\n",
    "# Calculate the angular frequency\n",
    "ang_freq = 2 * np.pi * freq # THz * 2pi\n",
    "\n",
    "# Calculate coefficients\n",
    "coeff = np.divide(c0, np.multiply(ang_freq, L))\n",
    "\n",
    "# Calculate the real part of the index of refraction\n",
    "n1 = np.multiply(coeff, spec_a) + 1\n",
    "\n",
    "# Calculate the imaginary part of the index of refraction\n",
    "kappa1 = np.multiply(-coeff, np.log(np.multiply(spec_m, np.divide(np.square(n1+1), 4*n1))))"
   ]
  },
  {
   "cell_type": "markdown",
   "metadata": {},
   "source": [
    "We finally plot these results"
   ]
  },
  {
   "cell_type": "code",
   "execution_count": 19,
   "metadata": {},
   "outputs": [],
   "source": [
    "# Setup plot\n",
    "fig = plt.figure(dpi=100)\n",
    "ax0 = plt.gca()\n",
    "ax0.set_title('Simulation')\n",
    "ax0.set_xlabel(r'$\\omega$ [$2\\pi\\times$THz]')\n",
    "ax0.set_ylabel(r'$n$')\n",
    "ax1 = ax0.twinx()\n",
    "ax1.set_ylabel(r'$\\kappa$')\n",
    "\n",
    "# Plot n\n",
    "n1_line, = ax0.plot(ang_freq, n1, 'b-')\n",
    "ax0.set_xlim(0, 2*np.pi*1e1)\n",
    "#ax0.set_ylim(4, 4.01)\n",
    "\n",
    "# Plot kappa\n",
    "kappa1_line, = ax1.plot(ang_freq, kappa1, 'r--')\n",
    "\n",
    "# Post formatting and display\n",
    "ax0.legend((n1_line, kappa1_line), ('$n$', '$\\kappa$'), loc=1)\n",
    "plt.tight_layout()\n",
    "plt.show()"
   ]
  },
  {
   "cell_type": "markdown",
   "metadata": {},
   "source": [
    "We create one large figure containing all of our plots"
   ]
  },
  {
   "cell_type": "code",
   "execution_count": 20,
   "metadata": {},
   "outputs": [
    {
     "name": "stderr",
     "output_type": "stream",
     "text": [
      "/Users/jroth/anaconda3/lib/python3.6/site-packages/numpy/core/numeric.py:492: ComplexWarning: Casting complex values to real discards the imaginary part\n",
      "  return array(a, dtype, copy=False, order=order)\n"
     ]
    }
   ],
   "source": [
    "# Setup figure\n",
    "plt.close('all')\n",
    "fig = plt.figure(figsize=(12, 8), dpi=100)\n",
    "\n",
    "# Setup axes\n",
    "ax_chi = plt.subplot2grid((5,3), (1, 0), 2, 1)\n",
    "ax_freq = plt.subplot2grid((5,3), (1, 1), 2, 2)\n",
    "ax_time = plt.subplot2grid((5,3), (0, 0), 1, 3)\n",
    "ax_t = plt.subplot2grid((5,3), (3, 0), 1, 2, sharex = ax_freq)\n",
    "ax_p = plt.subplot2grid((5,3), (4, 0), 1, 2, sharex = ax_t)\n",
    "ax_n = plt.subplot2grid((5,3), (3, 2), 2, 1)\n",
    "ax_k = ax_n.twinx()\n",
    "\n",
    "# Time axis\n",
    "ax_time.plot(n*1e-3, inc, label='$E_i(t)$')\n",
    "ax_time.plot(n*1e-3, trans, label='$E_t(t)$')\n",
    "ax_time.plot(n*1e-3, refl, label='$E_r(t)$')\n",
    "ax_time.set_ylabel('amplitude [?]')\n",
    "ax_time.set_xlabel('time [ps]')\n",
    "ax_time.legend(bbox_to_anchor=(1.01, 1), loc=2, borderaxespad=0)\n",
    "\n",
    "# Chi axis\n",
    "ax_chi.plot(n, np.real(chi))\n",
    "ax_chi.set_ylabel('$\\chi(t)$')\n",
    "ax_chi.set_xlabel('time [fs]')\n",
    "ax_chi.set_xlim(-1e3,-6e2)\n",
    "ax_chi.ticklabel_format(style='sci', scilimits=(0,0), axis='y')\n",
    "\n",
    "# Frequency axis\n",
    "ax_freq.plot(freq, np.abs(incf), label='$E_i(\\omega)$')\n",
    "ax_freq.plot(freq, np.abs(transf), label='$E_t(\\omega)$')\n",
    "ax_freq.set_ylabel('amplitude [?]')\n",
    "ax_freq.set_xlabel('frequency [THz]')\n",
    "ax_freq.legend(bbox_to_anchor=(1.01, 1), loc=2, borderaxespad=0)\n",
    "\n",
    "# Coefficient plot\n",
    "ax_t.plot(freq, spec_m)\n",
    "ax_t.set_ylim(0,1)\n",
    "ax_t.set_ylabel(r'$E_t(\\omega)/E_i(\\omega)$')\n",
    "\n",
    "ax_p.plot(freq, spec_a)\n",
    "ax_p.set_ylim(0,1e3)\n",
    "ax_p.set_ylabel(r'$\\phi(\\nu)$ [rad]')\n",
    "ax_p.set_xlabel(r'frequency [THz]')\n",
    "ax_p.ticklabel_format(style='sci', scilimits=(0,0), axis='y')\n",
    "\n",
    "# Index of refraction plot\n",
    "n1_line, = ax_n.plot(ang_freq, n1, 'k-')\n",
    "kappa1_line, = ax_k.plot(ang_freq, kappa1, 'k--')\n",
    "ax_n.set_xlabel(r'$\\omega$ [$2\\pi\\times$THz]')\n",
    "ax_n.set_ylabel(r'$n$')\n",
    "ax_k.set_ylabel(r'$\\kappa$')\n",
    "ax_n.set_xlim(0, 2*np.pi*1e1)\n",
    "ax_n.set_ylim(2.68, 2.69)\n",
    "ax_n.legend((n1_line, kappa1_line), ('$n$', '$\\kappa$'), bbox_to_anchor=(0., 1.02, 1., .102), loc=3, ncol=2, mode='expand', borderaxespad=0)\n",
    "\n",
    "# Final setup\n",
    "ax_time.set_title(r'RC-FDTD Simulation: $\\epsilon_\\infty=9$, $A=1$, $\\gamma=10^{-2}$, $\\omega=2\\times10^{-1}$, L=$1.25$mm, THz pulse')\n",
    "ax_p.set_xlim(0,10)\n",
    "plt.tight_layout()\n",
    "\n",
    "# Show figure\n",
    "fig.savefig(fname='/Users/jroth/Downloads/export.pdf', format='pdf')\n",
    "fig.show()"
   ]
  },
  {
   "cell_type": "code",
   "execution_count": null,
   "metadata": {},
   "outputs": [],
   "source": []
  }
 ],
 "metadata": {
  "kernelspec": {
   "display_name": "Python 3",
   "language": "python",
   "name": "python3"
  },
  "language_info": {
   "codemirror_mode": {
    "name": "ipython",
    "version": 3
   },
   "file_extension": ".py",
   "mimetype": "text/x-python",
   "name": "python",
   "nbconvert_exporter": "python",
   "pygments_lexer": "ipython3",
   "version": "3.6.5"
  }
 },
 "nbformat": 4,
 "nbformat_minor": 2
}
