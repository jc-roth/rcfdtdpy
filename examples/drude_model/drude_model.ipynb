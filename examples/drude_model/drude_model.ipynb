{
 "cells": [
  {
   "cell_type": "markdown",
   "metadata": {},
   "source": [
    "## Drude Model\n",
    "\n",
    "Recall that the electric susceptability of our material is modeled by\n",
    "$$\n",
    "\\chi_j(t)=e^{-\\gamma_jt}\\left[A_{1,j}e^{\\beta_jt}+A_{2,j}e^{-\\beta_jt}\\right]\n",
    "$$\n",
    "where $\\beta=\\sqrt{\\gamma^2-\\omega_0^2}$. To obtain the Drude model we choose the natural frequency $\\omega_0=0$ and $A_{1,j}=-A_{2,j}$ for all $j$, which reduces $\\chi_j(t)$ to\n",
    "$$\n",
    "\\chi_j(t)=A_{1,j}\\left[1-e^{-2\\gamma_jt}\\right]\n",
    "$$\n",
    "How do we transform this into frequency space?\n",
    "which results in\n",
    "$$\n",
    "\\sigma(\\omega)=\\frac{\\omega_0}{1+i\\omega t}\n",
    "$$"
   ]
  },
  {
   "cell_type": "markdown",
   "metadata": {},
   "source": [
    "We start by importing the needed libraries and defining our simulation bounds and constants. Our simulation will begin at time index $-1$ps and end at time index $1.5$ps. The simulations spatial bounds will span from $-5$um to $10$um."
   ]
  },
  {
   "cell_type": "code",
   "execution_count": 1,
   "metadata": {},
   "outputs": [],
   "source": [
    "%matplotlib qt\n",
    "# Imports\n",
    "from rcfdtd_sim import Sim, Current, Mat, vis\n",
    "import numpy as np\n",
    "from scipy.fftpack import fft, fftfreq, fftshift\n",
    "from matplotlib import pyplot as plt\n",
    "from pathlib import Path\n",
    "# Determine file save name\n",
    "fsave = 'drude_model.npz'\n",
    "# Constants\n",
    "c0 = 1 # um/ps\n",
    "di = 0.03 # 0.03 um\n",
    "dn = di/c0 # (0.03 um) / (300 um/ps) = 0.0001 ps = 0.1 fs\n",
    "epsilon0 = 1\n",
    "mu0 = 1\n",
    "# Define bounds\n",
    "i0 = -5 # -5 um\n",
    "i1 = 10 # 10 um\n",
    "n0 = -300 # (0.1 fs) * (-300 um) / (0.03 um/step) = (0.1 fs) * (-10,000 steps) = -1,000 fs = -1 ps\n",
    "n1 = 450 # (0.1 fs) * (450 um) / (0.03 um/step) = (0.1 fs) * (15,000 steps) = 1,500 fs = 1.5 ps\n",
    "# Calculate dimensions\n",
    "nlen, ilen = Sim.calc_dims(n0, n1, dn, i0, i1, di)\n",
    "# Create a arrays that hold the value of the center of each cell\n",
    "t = np.linspace(n0+dn/2, n1+dn/2, nlen, endpoint=False) * (10/3) # Multiply by 10/3 to get from um -> fs\n",
    "z = np.linspace(i0+di/2, i1+di/2, ilen, endpoint=False)"
   ]
  },
  {
   "cell_type": "code",
   "execution_count": 2,
   "metadata": {},
   "outputs": [
    {
     "name": "stdout",
     "output_type": "stream",
     "text": [
      "nlen=25000, ilen=502\n"
     ]
    }
   ],
   "source": [
    "print('nlen=%i, ilen=%i' % (nlen, ilen))"
   ]
  },
  {
   "cell_type": "markdown",
   "metadata": {},
   "source": [
    "## Setup Current\n",
    "\n",
    "Specify the location of our current pulse in time and space"
   ]
  },
  {
   "cell_type": "code",
   "execution_count": 3,
   "metadata": {},
   "outputs": [],
   "source": [
    "cp_loc_val = -2.5 # -2.5 um\n",
    "cp_time_val = 0 # 0 fs"
   ]
  },
  {
   "cell_type": "markdown",
   "metadata": {},
   "source": [
    "Determine the simulation indicies that correspond to these locations"
   ]
  },
  {
   "cell_type": "code",
   "execution_count": 4,
   "metadata": {},
   "outputs": [],
   "source": [
    "# Find indicies\n",
    "cp_loc_ind = np.argmin(np.abs(np.subtract(z, cp_loc_val)))\n",
    "cp_time_ind = np.argmin(np.abs(np.subtract(t, cp_time_val)))\n",
    "# Find start and end indicies in time\n",
    "spread = int(500 / 0.1) # (500 fs) / (0.1 fs/step) = 5,000 steps\n",
    "cp_time_s = cp_time_ind - spread\n",
    "cp_time_e = cp_time_ind + spread"
   ]
  },
  {
   "cell_type": "markdown",
   "metadata": {},
   "source": [
    "Create the current pulse"
   ]
  },
  {
   "cell_type": "code",
   "execution_count": 5,
   "metadata": {},
   "outputs": [],
   "source": [
    "# Make pulse\n",
    "cpulse = np.append(np.diff(np.diff(np.exp(-((t[cp_time_s:cp_time_e]-cp_time_val)**2)/(2e4)))), [0,0])\n",
    "# Plot\n",
    "plt.plot(t[cp_time_s:cp_time_e], cpulse)\n",
    "plt.xlabel('time [fs]')\n",
    "plt.ylabel('current [mA]')\n",
    "plt.show()\n",
    "# Create Current object\n",
    "current = Current(nlen, ilen, cp_time_s, cp_loc_ind, cpulse)"
   ]
  },
  {
   "cell_type": "markdown",
   "metadata": {},
   "source": [
    "## Setup Material\n",
    "\n",
    "Specify the location of our material (which will be $5$um in length)"
   ]
  },
  {
   "cell_type": "code",
   "execution_count": 6,
   "metadata": {},
   "outputs": [],
   "source": [
    "# Set material length\n",
    "m_len = 5 # 5 um\n",
    "# Set locations\n",
    "m_s_val = 0\n",
    "m_e_val = m_s_val + m_len"
   ]
  },
  {
   "cell_type": "markdown",
   "metadata": {},
   "source": [
    "Calculate the starting and ending indicies of our material"
   ]
  },
  {
   "cell_type": "code",
   "execution_count": 7,
   "metadata": {},
   "outputs": [],
   "source": [
    "m_s_ind = np.argmin(np.abs(np.subtract(z, m_s_val)))\n",
    "m_e_ind = np.argmin(np.abs(np.subtract(z, m_e_val)))"
   ]
  },
  {
   "cell_type": "markdown",
   "metadata": {},
   "source": [
    "Setup material behavior"
   ]
  },
  {
   "cell_type": "code",
   "execution_count": 8,
   "metadata": {},
   "outputs": [],
   "source": [
    "# Set constants\n",
    "a = np.complex64(1000)\n",
    "gamma = np.complex64(1e0)\n",
    "freq = np.complex64(0)\n",
    "# Calculate beta\n",
    "ang_gamma = np.complex64(gamma * 2 * np.pi)\n",
    "omega = np.complex64(freq * 2 * np.pi)\n",
    "beta = np.sqrt(np.add(np.square(ang_gamma), -np.square(omega)), dtype=np.complex64)\n",
    "a1 = np.complex64(a/(2*beta))\n",
    "a2 = np.complex64(-a/(2*beta))"
   ]
  },
  {
   "cell_type": "code",
   "execution_count": 9,
   "metadata": {},
   "outputs": [
    {
     "name": "stdout",
     "output_type": "stream",
     "text": [
      "(1+0j) (6.2831855+0j) (79.57747+0j) (-79.57747+0j)\n"
     ]
    }
   ],
   "source": [
    "print(gamma, beta, a1, a2)"
   ]
  },
  {
   "cell_type": "markdown",
   "metadata": {},
   "source": [
    "Create our material behavior matrices"
   ]
  },
  {
   "cell_type": "code",
   "execution_count": 10,
   "metadata": {},
   "outputs": [],
   "source": [
    "# Determine matrix length\n",
    "mlen = m_e_ind - m_s_ind\n",
    "# Create matrices\n",
    "m = np.ones((1, mlen), dtype=np.complex64)\n",
    "mgamma = m * ang_gamma\n",
    "mbeta = m * beta\n",
    "ma1 = m * a1\n",
    "ma2 = m * a2"
   ]
  },
  {
   "cell_type": "markdown",
   "metadata": {},
   "source": [
    "Create our material object"
   ]
  },
  {
   "cell_type": "code",
   "execution_count": 11,
   "metadata": {},
   "outputs": [],
   "source": [
    "inf_perm = 4\n",
    "material = Mat(dn, ilen, nlen, m_s_ind, inf_perm, ma1, ma2, mgamma, mbeta, storelocs=[1])"
   ]
  },
  {
   "cell_type": "markdown",
   "metadata": {},
   "source": [
    "## Running the Simulation\n",
    "\n",
    "Create and run our simulation (or load simulation if one already exists)"
   ]
  },
  {
   "cell_type": "code",
   "execution_count": 12,
   "metadata": {},
   "outputs": [],
   "source": [
    "# Create Sim object\n",
    "tqdmarg = {'desc': 'Executing simulation'}\n",
    "s = Sim(i0, i1, di, n0, n1, dn, epsilon0, mu0, 'absorbing', current, material, nstore=int(nlen/50), storelocs=[5,ilen-6])\n",
    "# Run simulation if simulation save doesn't exist\n",
    "sim_file = Path(fsave)\n",
    "if sim_file.is_file():\n",
    "    # Load results\n",
    "    dat = np.load(fsave)\n",
    "    n = dat['n']\n",
    "    ls = dat['ls']\n",
    "    els = dat['els']\n",
    "    erls = dat['erls']\n",
    "    hls = dat['hls']\n",
    "    hrls = dat['hrls']\n",
    "    chi = dat['chi']\n",
    "else:\n",
    "    # Run simulation\n",
    "    s.simulate(tqdmarg)\n",
    "    # Export visualization\n",
    "    #vis.timeseries(s, iunit='um', fname=fsave+'.mp4')\n",
    "    # Export and save arrays\n",
    "    n, ls, els, erls, hls, hrls = s.export_locs()\n",
    "    ls_mat, chi = material.export_locs()\n",
    "    n = n * (10/3) # 10/3 scale factor converts from um -> fs\n",
    "    np.savez(fsave, n=n, ls=ls, els=els, erls=erls, hls=hls, hrls=hrls, chi=chi)"
   ]
  },
  {
   "cell_type": "markdown",
   "metadata": {},
   "source": [
    "Plot fields in time"
   ]
  },
  {
   "cell_type": "code",
   "execution_count": 13,
   "metadata": {},
   "outputs": [
    {
     "name": "stderr",
     "output_type": "stream",
     "text": [
      "/Users/jroth/anaconda3/lib/python3.6/site-packages/numpy/core/numeric.py:492: ComplexWarning: Casting complex values to real discards the imaginary part\n",
      "  return array(a, dtype, copy=False, order=order)\n"
     ]
    }
   ],
   "source": [
    "# Extract incident, transmitted, and reflected fields\n",
    "inc = erls[:,1]\n",
    "trans = els[:,1]\n",
    "refl = els[:,0] - erls[:,0]\n",
    "\n",
    "# Plot\n",
    "plt.plot(n, inc, label='$E_i$')\n",
    "plt.plot(n, trans, label='$E_t$')\n",
    "plt.plot(n, refl, label='$E_r$')\n",
    "plt.ylabel('Amplitude [?]')\n",
    "plt.xlabel('time [fs]')\n",
    "plt.legend()\n",
    "plt.show()"
   ]
  },
  {
   "cell_type": "markdown",
   "metadata": {},
   "source": [
    "Transform time-domain fields into frequency domain fields, extract transmission coefficient $\\tilde T=A(\\omega)+i\\phi(\\omega)$ into `spec_m` and `spec_a` arrays representing $A(\\omega)$ and $\\phi(\\omega)$, respectively. To prevent a `divide by zero` error we remove the indicies at which the incident field $E_i(\\omega)$ is zero."
   ]
  },
  {
   "cell_type": "code",
   "execution_count": 14,
   "metadata": {},
   "outputs": [],
   "source": [
    "# Calculate time difference\n",
    "dn = np.diff(n)[0] # Calculate time step difference in fs\n",
    "\n",
    "# Calculate Fourier transforms\n",
    "freq = fftfreq(nlen, dn) * 1e3 # in THz (since [dn]=[fs], 1/[dn] = 1/[fs] = 10^15/[s] = 10^3*10^12/[s] = 10^4*[THz])\n",
    "incf = fft(inc)\n",
    "transf = fft(trans)\n",
    "\n",
    "# Removeunwanted frequencies\n",
    "freq = freq[1:int(nlen/2)]\n",
    "incf = incf[1:int(nlen/2)]\n",
    "transf = transf[1:int(nlen/2)]\n",
    "\n",
    "# Remove zero indicies from all arrays\n",
    "nonzero_ind = np.nonzero(incf)\n",
    "freq = freq[nonzero_ind]\n",
    "incf = incf[nonzero_ind]\n",
    "transf = transf[nonzero_ind]\n",
    "\n",
    "# Calculate spectrum in frequency\n",
    "spec = np.divide(transf, incf)\n",
    "\n",
    "# Remove zero indicies from all arrays\n",
    "nonzero_ind = np.nonzero(spec)\n",
    "freq = freq[nonzero_ind]\n",
    "incf = incf[nonzero_ind]\n",
    "transf = transf[nonzero_ind]\n",
    "spec = spec[nonzero_ind]\n",
    "\n",
    "# Extract phase and magnitude\n",
    "spec_m = np.absolute(spec)\n",
    "spec_a = np.abs(np.unwrap(np.angle(spec)))\n",
    "\n",
    "# Plot\n",
    "fig, (ax0, ax1) = plt.subplots(nrows=2, sharex=True, dpi=100)\n",
    "ax0.plot(freq, spec_m)\n",
    "ax1.plot(freq, spec_a)\n",
    "ax0.set_ylim(0, 1.5)\n",
    "ax1.set_ylim(0, 2e2)\n",
    "ax1.set_xlim(0, 1e2)\n",
    "ax0.set_ylabel(r'$E_t(\\omega)/E_i(\\omega)$')\n",
    "ax1.set_ylabel(r'$\\phi(\\nu)$ [rad]')\n",
    "ax1.set_xlabel(r'Frequency [THz]')\n",
    "plt.show()"
   ]
  },
  {
   "cell_type": "markdown",
   "metadata": {},
   "source": [
    "We wish to calculate the index of refraction\n",
    "$$\\tilde{n}(\\omega)=n(\\omega)+i\\kappa(\\omega)$$\n",
    "where $\\kappa\\ll n$. From Benjamin Ofori-Okai's 2016 PhD thesis Eq.(5.41) we note that conductivity is defined as\n",
    "$$\n",
    "\\tilde{\\sigma}(\\omega)=\\frac{2}{Z_0d}\\left(\\frac{1}{\\tilde{t}(\\omega)}-1\\right)\n",
    "$$\n",
    "for a sample in vacuum where $Z_0$ is the impedance of free space, $d$ is the sample width, and $\\tilde{t}(\\omega)=\\frac{E_t(\\omega)}{E_i(\\omega)}$. The index of refraction $\\tilde{n}(\\omega)$ is related to the conductivity $\\tilde{\\sigma}(\\omega)$ via\n",
    "$$\n",
    "\\tilde{n}(\\omega)=\\sqrt{\\epsilon_\\infty+\\frac{i\\tilde{\\sigma}(\\omega)}{\\omega\\epsilon_0}}\n",
    "$$\n",
    "\n",
    "This calculation is valid in the limit $\\kappa\\gg n$, or the _thin sample limit_. This simulation operates in this regime."
   ]
  },
  {
   "cell_type": "code",
   "execution_count": 15,
   "metadata": {},
   "outputs": [],
   "source": [
    "# Set constants\n",
    "L = m_len * 1e-6\n",
    "Z0 = 376.73 # Ohms (impedance of free space)\n",
    "permittivity_free_space = 8.854187817e-12\n",
    "\n",
    "# Calculate the angular frequency\n",
    "ang_freq = 2 * np.pi * freq # THz * 2pi\n",
    "\n",
    "# Calculate conductivity\n",
    "conductivity = np.multiply(np.divide(2, Z0*L), np.subtract(np.divide(1, spec), 1))\n",
    "\n",
    "# Calculate index of refraction\n",
    "n_complex = np.sqrt(inf_perm + np.divide(np.multiply(1j, conductivity), np.multiply(ang_freq, permittivity_free_space)))\n",
    "\n",
    "# Calculate the imaginary part of the index of refraction\n",
    "n1 = np.real(n_complex)\n",
    "kappa1 = np.imag(n_complex)"
   ]
  },
  {
   "cell_type": "markdown",
   "metadata": {},
   "source": [
    "We finally plot these results"
   ]
  },
  {
   "cell_type": "code",
   "execution_count": 20,
   "metadata": {},
   "outputs": [
    {
     "data": {
      "text/plain": [
       "(0, 18.84955592153876)"
      ]
     },
     "execution_count": 20,
     "metadata": {},
     "output_type": "execute_result"
    }
   ],
   "source": [
    "# Setup plot\n",
    "fig = plt.figure(dpi=100)\n",
    "fig.set_dpi(150)\n",
    "ax0 = plt.gca()\n",
    "ax0.set_xlabel(r'$\\omega$ [$2\\pi\\times$THz]')\n",
    "ax0.set_ylabel(r'$\\mathcal{R}(\\sigma)$')\n",
    "\n",
    "# Plot conductivity\n",
    "ax0.plot(ang_freq, np.real(conductivity), 'b-')\n",
    "ax0.set_xlim(0, 2*np.pi*3)\n",
    "#ax0.set_yscale('log')"
   ]
  },
  {
   "cell_type": "code",
   "execution_count": 18,
   "metadata": {},
   "outputs": [],
   "source": [
    "# Setup plot\n",
    "fig = plt.figure(dpi=100)\n",
    "fig.set_dpi(150)\n",
    "ax0 = plt.gca()\n",
    "ax0.set_title('Simulation')\n",
    "ax0.set_xlabel(r'$\\omega$ [$2\\pi\\times$THz]')\n",
    "ax0.set_ylabel(r'$n$')\n",
    "ax1 = ax0.twinx()\n",
    "ax1.set_ylabel(r'$\\kappa$')\n",
    "\n",
    "# Plot n\n",
    "n1_line, = ax0.plot(ang_freq, n1, 'b-')\n",
    "ax0.set_xlim(0, 2*np.pi*3)\n",
    "ax0.set_yscale('log')\n",
    "#ax0.set_ylim(3.9, 4.1)\n",
    "\n",
    "# Plot kappa\n",
    "kappa1_line, = ax1.plot(ang_freq, kappa1, 'r--')\n",
    "#ax1.set_yscale('log')\n",
    "ax1.set_ylim(-0.5e7, 0.5e7)\n",
    "\n",
    "# Post formatting and display\n",
    "ax0.legend((n1_line, kappa1_line), ('$n$', '$\\kappa$'), loc=1)\n",
    "plt.tight_layout()\n",
    "plt.show()"
   ]
  },
  {
   "cell_type": "code",
   "execution_count": null,
   "metadata": {},
   "outputs": [],
   "source": [
    "# Setup figure\n",
    "plt.close('all')\n",
    "fig = plt.figure(figsize=(12, 8), dpi=60)\n",
    "\n",
    "# Setup axes\n",
    "ax_chi = plt.subplot2grid((5,3), (1, 0), 2, 1)\n",
    "ax_freq = plt.subplot2grid((5,3), (1, 1), 2, 2)\n",
    "ax_time = plt.subplot2grid((5,3), (0, 0), 1, 3)\n",
    "ax_t = plt.subplot2grid((5,3), (3, 0), 1, 2, sharex = ax_freq)\n",
    "ax_p = plt.subplot2grid((5,3), (4, 0), 1, 2, sharex = ax_t)\n",
    "ax_n = plt.subplot2grid((5,3), (3, 2), 2, 1)\n",
    "ax_k = ax_n.twinx()\n",
    "\n",
    "# Time axis\n",
    "ax_time.plot(n*1e-3, inc, label='$E_i(t)$')\n",
    "ax_time.plot(n*1e-3, trans, label='$E_t(t)$')\n",
    "ax_time.plot(n*1e-3, refl, label='$E_r(t)$')\n",
    "ax_time.set_ylabel('amplitude [?]')\n",
    "ax_time.set_xlabel('time [ps]')\n",
    "ax_time.legend(bbox_to_anchor=(1.01, 1), loc=2, borderaxespad=0)\n",
    "\n",
    "# Chi axis\n",
    "ax_chi.plot(n,chi)\n",
    "ax_chi.set_ylabel('current [?]')\n",
    "ax_chi.set_xlabel('time [fs]')\n",
    "ax_chi.set_xlim(-1e3,-990)\n",
    "ax_chi.ticklabel_format(style='sci', scilimits=(0,0), axis='y')\n",
    "\n",
    "# Frequency axis\n",
    "ax_freq.plot(freq, np.abs(incf), label='$E_i(\\omega)$')\n",
    "ax_freq.plot(freq, np.abs(transf), label='$E_t(\\omega)$')\n",
    "ax_freq.set_ylabel('amplitude [?]')\n",
    "ax_freq.set_xlabel('frequency [THz]')\n",
    "ax_freq.legend(bbox_to_anchor=(1.01, 1), loc=2, borderaxespad=0)\n",
    "\n",
    "# Coefficient plot\n",
    "ax_t.plot(freq, spec_m)\n",
    "ax_t.set_ylim(0,1.5)\n",
    "ax_t.set_ylabel(r'$E_t(\\omega)/E_i(\\omega)$')\n",
    "\n",
    "ax_p.plot(freq, spec_a)\n",
    "ax_p.set_ylim(0,2e2)\n",
    "ax_p.set_ylabel(r'$\\phi(\\nu)$ [rad]')\n",
    "ax_p.set_xlabel(r'frequency [THz]')\n",
    "ax_p.ticklabel_format(style='sci', scilimits=(0,0), axis='y')\n",
    "\n",
    "# Index of refraction plot\n",
    "n1_line, = ax_n.plot(ang_freq, n1, 'b-')\n",
    "kappa1_line, = ax_k.plot(ang_freq, kappa1, 'r--')\n",
    "ax_n.set_xlabel(r'$\\omega$ [$2\\pi\\times$THz]')\n",
    "ax_n.set_ylabel(r'$n$')\n",
    "ax_k.set_ylabel(r'$\\kappa$')\n",
    "ax_n.set_ylim(1.9, 2.1)\n",
    "ax_k.set_ylim(-0.2, 0.2)\n",
    "ax_n.set_xlim(0, 2*np.pi*5e2)\n",
    "ax_n.legend((n1_line, kappa1_line), ('$n$', '$\\kappa$'), bbox_to_anchor=(0., 1.02, 1., .102), loc=3, ncol=2, mode='expand', borderaxespad=0)\n",
    "\n",
    "# Final setup\n",
    "ax_time.set_title(r'RC-FDTD Simulation: $\\epsilon_\\infty=16$, $\\chi(\\omega)=0$, L=$1.25$mm, THz pulse')\n",
    "ax_p.set_xlim(0,5e2)\n",
    "plt.tight_layout()\n",
    "\n",
    "# Show figure\n",
    "fig.savefig(fname='/Users/jroth/Downloads/export.pdf', format='pdf')\n",
    "fig.show()"
   ]
  },
  {
   "cell_type": "code",
   "execution_count": null,
   "metadata": {},
   "outputs": [],
   "source": []
  }
 ],
 "metadata": {
  "kernelspec": {
   "display_name": "Python 3",
   "language": "python",
   "name": "python3"
  },
  "language_info": {
   "codemirror_mode": {
    "name": "ipython",
    "version": 3
   },
   "file_extension": ".py",
   "mimetype": "text/x-python",
   "name": "python",
   "nbconvert_exporter": "python",
   "pygments_lexer": "ipython3",
   "version": "3.6.5"
  }
 },
 "nbformat": 4,
 "nbformat_minor": 2
}
