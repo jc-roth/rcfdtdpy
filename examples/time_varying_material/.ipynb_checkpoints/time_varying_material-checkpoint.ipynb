{
 "cells": [
  {
   "cell_type": "markdown",
   "metadata": {},
   "source": [
    "We start by importing the needed libraries and defining our simulation bounds and constants. Our simulation will begin at time index $-0.5$ps and end at time index $2.5$ps. The simulations spatial bounds will span from $-1$um to $2$um."
   ]
  },
  {
   "cell_type": "code",
   "execution_count": 1,
   "metadata": {},
   "outputs": [
    {
     "name": "stdout",
     "output_type": "stream",
     "text": [
      "nlen=30000, ilen=102\n"
     ]
    }
   ],
   "source": [
    "%matplotlib qt\n",
    "# Imports\n",
    "from rcfdtd_sim import Sim, Current, Mat, vis\n",
    "import numpy as np\n",
    "from scipy.fftpack import fft, fftfreq, fftshift\n",
    "from scipy.special import erf\n",
    "from matplotlib import pyplot as plt\n",
    "from pathlib import Path\n",
    "from tqdm import tqdm\n",
    "# Constants\n",
    "c0 = 3e8 # um/ps\n",
    "di = 0.03e-6 # 0.03 um\n",
    "dn = di/c0 # (0.03 um) / (3e8 m/s) = 0.1 fs\n",
    "epsilon0 = 8.854187e-12\n",
    "mu0 = np.divide(1, np.multiply(epsilon0, np.square(c0)))\n",
    "# Define bounds\n",
    "i0 = -1e-6 # -1 um\n",
    "i1 = 2e-6 # 2 um\n",
    "n0 = -0.5e-12 # -0.5 ps\n",
    "n1 = 2.5e-12 # 2.5 ps\n",
    "# Calculate dimensions\n",
    "nlen, ilen = Sim.calc_dims(n0, n1, dn, i0, i1, di)\n",
    "# Create a arrays that hold the value of the center of each cell\n",
    "t = np.linspace(n0+dn/2, n1+dn/2, nlen, endpoint=False)\n",
    "z = np.linspace(i0+di/2, i1+di/2, ilen, endpoint=False)\n",
    "# Print simulation bounds\n",
    "print('nlen=%i, ilen=%i' % (nlen, ilen))"
   ]
  },
  {
   "cell_type": "markdown",
   "metadata": {},
   "source": [
    "Specify the location of our current pulse in time and space"
   ]
  },
  {
   "cell_type": "code",
   "execution_count": 2,
   "metadata": {},
   "outputs": [],
   "source": [
    "cp_loc_val = -0.5e-6 # -0.5 um\n",
    "cp_time_val = 0 # 0 fs"
   ]
  },
  {
   "cell_type": "markdown",
   "metadata": {},
   "source": [
    "Determine the simulation indicies that correspond to these locations"
   ]
  },
  {
   "cell_type": "code",
   "execution_count": 3,
   "metadata": {},
   "outputs": [],
   "source": [
    "# Find indicies\n",
    "cp_loc_ind = np.argmin(np.abs(np.subtract(z, cp_loc_val)))\n",
    "cp_time_ind = np.argmin(np.abs(np.subtract(t, cp_time_val)))\n",
    "# Find start and end indicies in time\n",
    "spread = 3500\n",
    "cp_time_s = cp_time_ind - spread\n",
    "cp_time_e = cp_time_ind + spread"
   ]
  },
  {
   "cell_type": "markdown",
   "metadata": {},
   "source": [
    "Create the current pulse"
   ]
  },
  {
   "cell_type": "code",
   "execution_count": 4,
   "metadata": {},
   "outputs": [],
   "source": [
    "# Make pulse\n",
    "cpulse = np.append(np.diff(np.diff(np.exp(-((t[cp_time_s:cp_time_e]-cp_time_val)**2)/(8e-27)))), [0,0])\n",
    "# Create Current object\n",
    "current = Current(nlen, ilen, cp_time_s, cp_loc_ind, cpulse)"
   ]
  },
  {
   "cell_type": "markdown",
   "metadata": {},
   "source": [
    "Specify the location of our material (which will be $50$nm in length)"
   ]
  },
  {
   "cell_type": "code",
   "execution_count": 5,
   "metadata": {},
   "outputs": [],
   "source": [
    "# Set material length\n",
    "m_len = 0.2e-6 # 200 nm\n",
    "# Set locations\n",
    "m_s_val = 0\n",
    "m_e_val = m_s_val + m_len"
   ]
  },
  {
   "cell_type": "markdown",
   "metadata": {},
   "source": [
    "Calculate the starting and ending indicies of our material"
   ]
  },
  {
   "cell_type": "code",
   "execution_count": 6,
   "metadata": {},
   "outputs": [],
   "source": [
    "m_s_ind = np.argmin(np.abs(np.subtract(z, m_s_val)))\n",
    "m_e_ind = np.argmin(np.abs(np.subtract(z, m_e_val)))\n",
    "# Determine matrix length in indicies\n",
    "mlen = m_e_ind - m_s_ind"
   ]
  },
  {
   "cell_type": "markdown",
   "metadata": {},
   "source": [
    "Simulate the current pulse, observing the field at the material starting index $m_0$"
   ]
  },
  {
   "cell_type": "code",
   "execution_count": 7,
   "metadata": {},
   "outputs": [],
   "source": [
    "# Run simulation if simulation save doesn't exist\n",
    "sim_file = 'pre_simulation_analysis.npz'\n",
    "if Path(sim_file).is_file():\n",
    "    # Load results\n",
    "    dat = np.load(sim_file)\n",
    "    els = dat['els']\n",
    "else:\n",
    "    # Create Sim object, observe the field at the material start index\n",
    "    s = Sim(i0, i1, di, n0, n1, dn, epsilon0, mu0, 'absorbing', current, nstore=int(nlen/50), storelocs=[m_s_ind])\n",
    "    # Run simulation\n",
    "    s.simulate(tqdmarg={'desc': 'Executing pre-simulation simulation', 'leave': True})\n",
    "    n, ls, els, erls, hls, hrls = s.export_locs()\n",
    "    np.savez(sim_file, els=els)"
   ]
  },
  {
   "cell_type": "markdown",
   "metadata": {},
   "source": [
    "Determine at what time index the pulse passes the material starting index by finding the index of the maximum value in the real values of the E-field, we will use this time to transition from non-metal to metal. Noting that the current pulse is generated at $t=0$fs and $z=-0.5$um, we would expect the current pulse to reach spatial index $z=0$um at time $t=1.67$fs as\n",
    "$$\n",
    "\\frac{0.5\\text{um}}{300\\text{um/ps}}=1.67\\text{fs}\n",
    "$$"
   ]
  },
  {
   "cell_type": "code",
   "execution_count": 8,
   "metadata": {},
   "outputs": [
    {
     "name": "stdout",
     "output_type": "stream",
     "text": [
      "t[mat_transition_ind]=1.550000E-15\n"
     ]
    }
   ],
   "source": [
    "mat_transition_ind = np.argmax(np.real(els))\n",
    "# Plot\n",
    "plt.plot(t * 1e12, np.real(els))\n",
    "plt.axvline(t[mat_transition_ind], color='k', linestyle='--')\n",
    "plt.xlabel('time [ps]')\n",
    "plt.ylabel('$E(t,z=m_0)$')\n",
    "plt.show()\n",
    "# Print time value\n",
    "print('t[mat_transition_ind]=%E' % t[mat_transition_ind])"
   ]
  },
  {
   "cell_type": "markdown",
   "metadata": {},
   "source": [
    "As time steps $0.1$fs, the maximum index determined by the simulation $t=1.55$fs is one step in time away from where we would expect it to be. This is probably good enough for our purposes. Construct a spread of material transition time indicies about which to center our error function transition"
   ]
  },
  {
   "cell_type": "code",
   "execution_count": 9,
   "metadata": {},
   "outputs": [],
   "source": [
    "# Set the spread and step size\n",
    "spread = int(250 / 0.1) # 500 fs / (0.1 fs/step) = 2500 steps\n",
    "n_steps = 100 # Number of steps\n",
    "# Calculate the step size\n",
    "step_size = int(spread*2 / n_steps)\n",
    "# Generate an array of the index offsets from mat_transition_ind to use\n",
    "trans_inds = np.arange(-spread, spread + step_size, step_size)"
   ]
  },
  {
   "cell_type": "markdown",
   "metadata": {},
   "source": [
    "We define a function that returns an error function of the given width (in steps) and located at an offset (in steps) from `0`"
   ]
  },
  {
   "cell_type": "code",
   "execution_count": 10,
   "metadata": {},
   "outputs": [],
   "source": [
    "def normalized_error_func_gen(width, offset):\n",
    "    # Normalize error function\n",
    "    errfunc = (erf(np.linspace(-3,3, width)) + 1)/2\n",
    "    # Determine average padding on each side\n",
    "    avg_pad_amt = int(nlen/2) - int(width/2)\n",
    "    l_pad = mat_transition_ind - int(width/2)\n",
    "    r_pad = nlen - mat_transition_ind - int(width/2)\n",
    "    # Pad error function to length of nlen\n",
    "    errfunc_padded = np.pad(errfunc, (l_pad + offset, r_pad - offset), 'constant', constant_values=(0,1))\n",
    "    # Return\n",
    "    return errfunc_padded"
   ]
  },
  {
   "cell_type": "markdown",
   "metadata": {},
   "source": [
    "We test out this function by ofsetting the error function by plotting a $30$fs width transition offset by $10$fs."
   ]
  },
  {
   "cell_type": "code",
   "execution_count": 11,
   "metadata": {},
   "outputs": [],
   "source": [
    "# Define width and offset\n",
    "width = int(200/0.1) # 200 fs / (0.1 fs/step) = 2000 steps\n",
    "offset = int(10/0.1) # 10 fs/ (0.1 fs/step) = 100 steps\n",
    "# Plot\n",
    "plt.plot(t * 1e15, normalized_error_func_gen(width, offset))\n",
    "plt.axvline(10 + t[mat_transition_ind] * 1e15, color='k', linestyle='--')\n",
    "plt.xlim((-100, 110))\n",
    "plt.xlabel('time [fs]')\n",
    "plt.show()"
   ]
  },
  {
   "cell_type": "code",
   "execution_count": 12,
   "metadata": {},
   "outputs": [],
   "source": [
    "def non_metal_gen(trans_ind):\n",
    "    # Set constants\n",
    "    a1 = np.complex64(0)\n",
    "    a2 = np.complex64(1e16)\n",
    "    gamma = np.complex64(1e12)\n",
    "    freq = np.complex64(0)\n",
    "    inf_perm = np.complex64(1e0)\n",
    "    # Calculate beta\n",
    "    ang_gamma = np.complex64(gamma * 2 * np.pi)\n",
    "    omega = np.complex64(freq * 2 * np.pi)\n",
    "    beta = np.sqrt(np.add(np.square(ang_gamma), -np.square(omega)), dtype=np.complex64)\n",
    "    # Create matrices\n",
    "    m = np.ones((1, mlen), dtype=np.complex64)\n",
    "    mgamma = m * ang_gamma\n",
    "    mbeta = m * beta\n",
    "    ma1 = m * a1\n",
    "    ma2 = m * a2\n",
    "    # Create opacity vector using a transition width of 200 fs an offset of mat_trans_ind\n",
    "    width = int(200/0.1) # 200 fs / (0.1 fs/step) = 2000 steps\n",
    "    opacity = 1 - normalized_error_func_gen(width, trans_ind)\n",
    "    # Create non-metal object\n",
    "    return Mat(dn, ilen, nlen, m_s_ind, inf_perm, ma1, ma2, mgamma, mbeta, opacity=opacity, storelocs=[1])"
   ]
  },
  {
   "cell_type": "markdown",
   "metadata": {},
   "source": [
    "We next create our metal"
   ]
  },
  {
   "cell_type": "code",
   "execution_count": 13,
   "metadata": {},
   "outputs": [],
   "source": [
    "def metal_gen(trans_ind):\n",
    "    # Set constants\n",
    "    a1 = np.complex64(1e16)\n",
    "    gamma = np.complex64(1e12)\n",
    "    freq = np.complex64(0)\n",
    "    inf_perm = np.complex64(1e0)\n",
    "    # Calculate beta\n",
    "    ang_gamma = np.complex64(gamma * 2 * np.pi)\n",
    "    omega = np.complex64(freq * 2 * np.pi)\n",
    "    beta = np.sqrt(np.add(np.square(ang_gamma), -np.square(omega)), dtype=np.complex64)\n",
    "    a2 = -a1\n",
    "    # Create matrices\n",
    "    m = np.ones((1, mlen), dtype=np.complex64)\n",
    "    mgamma = m * ang_gamma\n",
    "    mbeta = m * beta\n",
    "    ma1 = m * a1\n",
    "    ma2 = m * a2\n",
    "    # Create opacity vector using a transition width of 200 fs an offset of mat_trans_ind\n",
    "    width = int(200/0.1) # 200 fs / (0.1 fs/step) = 2000 steps\n",
    "    opacity = normalized_error_func_gen(width, trans_ind)\n",
    "    # Create metal object\n",
    "    return Mat(dn, ilen, nlen, m_s_ind, inf_perm, ma1, ma2, mgamma, mbeta, opacity=opacity, storelocs=[1])"
   ]
  },
  {
   "cell_type": "markdown",
   "metadata": {},
   "source": [
    "Create and run our simulation (or load simulation if one already exists)"
   ]
  },
  {
   "cell_type": "code",
   "execution_count": 14,
   "metadata": {},
   "outputs": [],
   "source": [
    "#Create Sim object\n",
    "sim_name = 'post_material_transition.npz'\n",
    "if Path(sim_name).is_file():\n",
    "    # Load results\n",
    "    dat = np.load(sim_name)\n",
    "    n = dat['n']\n",
    "    trans_vals = dat['trans_vals']\n",
    "    inc_ars = dat['inc_ars']\n",
    "    trans_ars = dat['trans_ars']\n",
    "    refl_ars = dat['refl_ars']\n",
    "    metal_chi_ars = dat['metal_chi_ars']\n",
    "    non_metal_chi_ars = dat['non_metal_chi_ars']\n",
    "else:\n",
    "    trans_vals = np.array([])\n",
    "    # Create arrays to hold simulation values, each new simulation will contribute to a row. The zero-valued row initialized here is removed later.\n",
    "    inc_ars = np.zeros((1, nlen))\n",
    "    trans_ars = np.zeros((1, nlen))\n",
    "    refl_ars = np.zeros((1, nlen))\n",
    "    metal_chi_ars = np.zeros((1, nlen))\n",
    "    non_metal_chi_ars = np.zeros((1, nlen))\n",
    "    # Loop through each transition index, simulating at each\n",
    "    for i in range(len(trans_inds)):\n",
    "        # Get the current transition index\n",
    "        trans_ind = trans_inds[i]\n",
    "        # Generate materials\n",
    "        non_metal = non_metal_gen(trans_ind)\n",
    "        metal = metal_gen(trans_ind)\n",
    "        # Create and run simulation\n",
    "        s = Sim(i0, i1, di, n0, n1, dn, epsilon0, mu0, 'absorbing', current, [non_metal, metal], nstore=int(nlen/50), storelocs=[5,ilen-6])\n",
    "        tqdmarg = {'desc': ('Working on transition ' + str(i+1) + '/' + str(len(trans_inds))), 'leave': False}\n",
    "        s.simulate(tqdmarg)\n",
    "        # Extract incident, transmitted, and reflected fields\n",
    "        n, ls, els, erls, hls, hrls = s.export_locs()\n",
    "        inc = erls[:,1]\n",
    "        trans = els[:,1]\n",
    "        refl = els[:,0] - erls[:,0]\n",
    "        # Extract chi values\n",
    "        ls_mat, non_metal_chi = non_metal.export_locs()\n",
    "        ls_mat, metal_chi = metal.export_locs()\n",
    "        # Reshape chi values\n",
    "        non_metal_chi = np.reshape(non_metal_chi, (1, nlen))\n",
    "        metal_chi = np.reshape(metal_chi, (1, nlen))\n",
    "        # Save transition time value\n",
    "        trans_vals = np.append(trans_vals, t[mat_transition_ind+trans_ind])\n",
    "        # Put results into array\n",
    "        inc_ars = np.vstack((inc_ars, inc))\n",
    "        trans_ars = np.vstack((trans_ars, trans))\n",
    "        refl_ars = np.vstack((refl_ars, refl))\n",
    "        metal_chi_ars = np.vstack((metal_chi_ars, metal_chi))\n",
    "        non_metal_chi_ars = np.vstack((non_metal_chi_ars, non_metal_chi))\n",
    "    # Reinc_ars = move the first row of each array, which is the zero-valued row initialized earlier\n",
    "    inc_ars = inc_ars[1:,:]\n",
    "    trans_ars = trans_ars[1:,:]\n",
    "    refl_ars = refl_ars[1:,:]\n",
    "    metal_chi_ars = metal_chi_ars[1:,:]\n",
    "    non_metal_chi_ars = non_metal_chi_ars[1:,:]\n",
    "    # Save data\n",
    "    np.savez(sim_name, n=n, trans_vals=trans_vals, inc_ars=inc_ars, trans_ars=trans_ars, refl_ars=refl_ars, metal_chi_ars=metal_chi_ars, non_metal_chi_ars=non_metal_chi_ars)"
   ]
  },
  {
   "cell_type": "markdown",
   "metadata": {},
   "source": [
    "Plot a heatmap of the field in time versus the $\\Delta t$ value, which is the displacement in time from the non-metal to metal tranistion for each simulation."
   ]
  },
  {
   "cell_type": "code",
   "execution_count": 16,
   "metadata": {},
   "outputs": [],
   "source": [
    "# Extract values to plot\n",
    "trans_ars_to_plot = np.real(trans_ars.T)\n",
    "\n",
    "cmap = plt.get_cmap('PiYG')\n",
    "levels = MaxNLocator(nbins=500).tick_values(trans_ars_to_plot.min(), trans_ars_to_plot.max())\n",
    "norm = BoundaryNorm(levels, ncolors=cmap.N, clip=True)\n",
    "\n",
    "ddn = np.diff(trans_vals)[0]\n",
    "time_grid, dtime_grid = np.mgrid[slice(n[0], n[-1] + dn, dn),\n",
    "                slice(trans_vals[0],trans_vals[-1] + ddn, ddn)]\n",
    "plt.pcolormesh(dtime_grid*1e15, time_grid*1e12, trans_ars_to_plot, cmap=cmap, norm=norm)\n",
    "\n",
    "plt.colorbar()\n",
    "plt.ylabel('$t$ [ps]', fontsize=15)\n",
    "plt.xlabel('$\\Delta t$ [fs]', fontsize=15)\n",
    "plt.title('Material Bleed Method', fontsize=15)\n",
    "plt.gca().tick_params(labelsize=15)\n",
    "plt.gcf().set_dpi(400)\n",
    "plt.tight_layout()\n",
    "plt.savefig(fname='mat_bleed.png', format='png', dpi=600)\n",
    "plt.show()"
   ]
  },
  {
   "cell_type": "code",
   "execution_count": null,
   "metadata": {},
   "outputs": [],
   "source": []
  }
 ],
 "metadata": {
  "kernelspec": {
   "display_name": "Python 3",
   "language": "python",
   "name": "python3"
  },
  "language_info": {
   "codemirror_mode": {
    "name": "ipython",
    "version": 3
   },
   "file_extension": ".py",
   "mimetype": "text/x-python",
   "name": "python",
   "nbconvert_exporter": "python",
   "pygments_lexer": "ipython3",
   "version": "3.6.5"
  }
 },
 "nbformat": 4,
 "nbformat_minor": 2
}
