{
 "cells": [
  {
   "cell_type": "code",
   "execution_count": 1,
   "metadata": {},
   "outputs": [],
   "source": [
    "def load_data(fname, dtype):\n",
    "    # Load results\n",
    "    dat = np.load(fname)\n",
    "    n = dat['n']\n",
    "    if(dtype == 'bleed'):\n",
    "        pulse_delays = dat['trans_vals']\n",
    "    else:\n",
    "        pulse_delays = dat['pulse_delays']\n",
    "    trans_ars = dat['trans_ars']\n",
    "    return n, pulse_delays, np.real(trans_ars.T)"
   ]
  },
  {
   "cell_type": "markdown",
   "metadata": {},
   "source": [
    "We begin by loading in the time varying approach and the novel approach"
   ]
  },
  {
   "cell_type": "code",
   "execution_count": 2,
   "metadata": {},
   "outputs": [],
   "source": [
    "%matplotlib qt\n",
    "import numpy as np\n",
    "from matplotlib import pyplot as plt\n",
    "from matplotlib.colors import BoundaryNorm\n",
    "from matplotlib.ticker import MaxNLocator\n",
    "\n",
    "bleed_n, bleed_delay, bleed_trans = load_data('post_material_transition5.npz', 'bleed')\n",
    "pop_n, pop_delay, pop_trans = load_data('novel_approach_sim11.npz', 'population')"
   ]
  },
  {
   "cell_type": "code",
   "execution_count": 3,
   "metadata": {},
   "outputs": [],
   "source": [
    "method_diff = pop_trans - bleed_trans\n",
    "\n",
    "min_max = np.max(np.abs([method_diff.min(), method_diff.max()]))\n",
    "\n",
    "cmap = plt.get_cmap('PiYG')\n",
    "levels = MaxNLocator(nbins=500).tick_values(-min_max, min_max)\n",
    "norm = BoundaryNorm(levels, ncolors=cmap.N, clip=True)\n",
    "\n",
    "dn = np.diff(bleed_n)[0]\n",
    "ddn = np.diff(bleed_delay)[0]\n",
    "time_grid, dtime_grid = np.mgrid[slice(bleed_n[0], bleed_n[-1] + dn, dn),\n",
    "                slice(bleed_delay[0],bleed_delay[-1] + ddn, ddn)]\n",
    "\n",
    "plt.pcolormesh(dtime_grid*1e15, time_grid*1e12, method_diff, cmap=cmap, norm=norm)\n",
    "\n",
    "plt.colorbar()\n",
    "plt.ylabel('$t$ [ps]', fontsize=15)\n",
    "plt.xlabel('$\\Delta t$ [fs]', fontsize=15)\n",
    "plt.title('Method difference', fontsize=15)\n",
    "plt.gca().tick_params(labelsize=15)\n",
    "#plt.gcf().set_dpi(400)\n",
    "plt.tight_layout()\n",
    "plt.savefig(fname='method_diff.png', format='png', dpi=600)\n",
    "plt.show()"
   ]
  },
  {
   "cell_type": "code",
   "execution_count": null,
   "metadata": {},
   "outputs": [],
   "source": []
  }
 ],
 "metadata": {
  "kernelspec": {
   "display_name": "Python 3",
   "language": "python",
   "name": "python3"
  },
  "language_info": {
   "codemirror_mode": {
    "name": "ipython",
    "version": 3
   },
   "file_extension": ".py",
   "mimetype": "text/x-python",
   "name": "python",
   "nbconvert_exporter": "python",
   "pygments_lexer": "ipython3",
   "version": "3.6.5"
  }
 },
 "nbformat": 4,
 "nbformat_minor": 2
}
