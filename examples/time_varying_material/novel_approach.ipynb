{
 "cells": [
  {
   "cell_type": "markdown",
   "metadata": {},
   "source": [
    "We start by importing the needed libraries and defining our simulation bounds and constants. Our simulation will begin at time index $-0.5$ps and end at time index $2.5$ps. The simulations spatial bounds will span from $-1$um to $2$um."
   ]
  },
  {
   "cell_type": "code",
   "execution_count": null,
   "metadata": {},
   "outputs": [],
   "source": [
    "%matplotlib inline\n",
    "# Imports\n",
    "from rcfdtd_sim import Sim, Current, Mat, vis\n",
    "import numpy as np\n",
    "from scipy.fftpack import fft, fftfreq, fftshift\n",
    "from scipy.special import erf\n",
    "from matplotlib import pyplot as plt\n",
    "from pathlib import Path\n",
    "from tqdm import tqdm\n",
    "# Constants\n",
    "c0 = 3e8 # um/ps\n",
    "di = 0.03e-6 # 0.03 um\n",
    "dn = di/c0 # (0.03 um) / (3e8 m/s) = 0.1 fs\n",
    "epsilon0 = 8.854187e-12\n",
    "mu0 = np.divide(1, np.multiply(epsilon0, np.square(c0)))\n",
    "# Define bounds\n",
    "i0 = -1e-6 # -1 um\n",
    "i1 = 2e-6 # 2 um\n",
    "n0 = -0.5e-12 # -0.5 ps\n",
    "n1 = 2.5e-12 # 2.5 ps\n",
    "# Calculate dimensions\n",
    "nlen, ilen = Sim.calc_dims(n0, n1, dn, i0, i1, di)\n",
    "# Create a arrays that hold the value of the center of each cell\n",
    "t = np.linspace(n0+dn/2, n1+dn/2, nlen, endpoint=False)\n",
    "z = np.linspace(i0+di/2, i1+di/2, ilen, endpoint=False)\n",
    "# Print simulation bounds\n",
    "print('nlen=%i, ilen=%i' % (nlen, ilen))"
   ]
  },
  {
   "cell_type": "markdown",
   "metadata": {},
   "source": [
    "Specify the location of our current pulse in time and space"
   ]
  },
  {
   "cell_type": "code",
   "execution_count": null,
   "metadata": {},
   "outputs": [],
   "source": [
    "cp_loc_val = -0.5e-6 # -0.5 um\n",
    "cp_time_val = 0 # 0 fs"
   ]
  },
  {
   "cell_type": "markdown",
   "metadata": {},
   "source": [
    "Determine the simulation indicies that correspond to these locations"
   ]
  },
  {
   "cell_type": "code",
   "execution_count": null,
   "metadata": {},
   "outputs": [],
   "source": [
    "# Find indicies\n",
    "cp_loc_ind = np.argmin(np.abs(np.subtract(z, cp_loc_val)))\n",
    "cp_time_ind = np.argmin(np.abs(np.subtract(t, cp_time_val)))\n",
    "# Find start and end indicies in time\n",
    "spread = 3500\n",
    "cp_time_s = cp_time_ind - spread\n",
    "cp_time_e = cp_time_ind + spread"
   ]
  },
  {
   "cell_type": "markdown",
   "metadata": {},
   "source": [
    "Create the current pulse"
   ]
  },
  {
   "cell_type": "code",
   "execution_count": null,
   "metadata": {},
   "outputs": [],
   "source": [
    "# Make pulse\n",
    "cpulse = np.append(np.diff(np.diff(np.exp(-((t[cp_time_s:cp_time_e]-cp_time_val)**2)/(8e-27)))), [0,0])\n",
    "# Create Current object\n",
    "current = Current(nlen, ilen, cp_time_s, cp_loc_ind, cpulse)"
   ]
  },
  {
   "cell_type": "markdown",
   "metadata": {},
   "source": [
    "Specify the location of our material (which will be $50$nm in length)"
   ]
  },
  {
   "cell_type": "code",
   "execution_count": null,
   "metadata": {},
   "outputs": [],
   "source": [
    "# Set material length\n",
    "m_len = 0.2e-6 # 200 nm\n",
    "# Set locations\n",
    "m_s_val = 0\n",
    "m_e_val = m_s_val + m_len"
   ]
  },
  {
   "cell_type": "markdown",
   "metadata": {},
   "source": [
    "Calculate the starting and ending indicies of our material"
   ]
  },
  {
   "cell_type": "code",
   "execution_count": null,
   "metadata": {},
   "outputs": [],
   "source": [
    "m_s_ind = np.argmin(np.abs(np.subtract(z, m_s_val)))\n",
    "m_e_ind = np.argmin(np.abs(np.subtract(z, m_e_val)))\n",
    "# Determine matrix length in indicies\n",
    "mlen = m_e_ind - m_s_ind"
   ]
  },
  {
   "cell_type": "markdown",
   "metadata": {},
   "source": [
    "We wish oscillators in our material to have two states, the ground state and the excited state. We define oscillator parameters for each, starting with the ground state"
   ]
  },
  {
   "cell_type": "code",
   "execution_count": null,
   "metadata": {},
   "outputs": [],
   "source": [
    "# Set constants\n",
    "g_a1 = np.complex64(0)\n",
    "g_a2 = np.complex64(1e16)\n",
    "g_gamma = np.complex64(1e12)\n",
    "g_freq = np.complex64(0)\n",
    "# Calculate beta\n",
    "g_ang_gamma = np.complex64(g_gamma * 2 * np.pi)\n",
    "g_omega = np.complex64(g_freq * 2 * np.pi)\n",
    "g_beta = np.sqrt(np.add(np.square(g_ang_gamma), -np.square(g_omega)), dtype=np.complex64)\n",
    "# Create matrices\n",
    "g_m = np.ones((1, mlen), dtype=np.complex64)\n",
    "g_mgamma = g_m * g_ang_gamma\n",
    "g_mbeta = g_m * g_beta\n",
    "g_ma1 = g_m * g_a1\n",
    "g_ma2 = g_m * g_a2"
   ]
  },
  {
   "cell_type": "markdown",
   "metadata": {},
   "source": [
    "And then the excited state"
   ]
  },
  {
   "cell_type": "code",
   "execution_count": null,
   "metadata": {},
   "outputs": [],
   "source": [
    "# Set constants\n",
    "e_a1 = np.complex64(1e16)\n",
    "e_a2 = np.complex64(-1e16)\n",
    "e_gamma = np.complex64(1e12)\n",
    "e_freq = np.complex64(0)\n",
    "# Calculate beta\n",
    "e_ang_gamma = np.complex64(e_gamma * 2 * np.pi)\n",
    "e_omega = np.complex64(e_freq * 2 * np.pi)\n",
    "e_beta = np.sqrt(np.add(np.square(e_ang_gamma), -np.square(e_omega)), dtype=np.complex64)\n",
    "# Create matrices\n",
    "e_m = np.ones((1, mlen), dtype=np.complex64)\n",
    "e_mgamma = e_m * e_ang_gamma\n",
    "e_mbeta = e_m * e_beta\n",
    "e_ma1 = e_m * e_a1\n",
    "e_ma2 = e_m * e_a2"
   ]
  },
  {
   "cell_type": "markdown",
   "metadata": {},
   "source": [
    "In order to simulate an optical pulse passing through the material, we apply a position dependent scaling to the oscillators in the material. The thinking and mathematics behind the method applied here can be found in the _Modeling a two-state material_ report that I wrote. We begin by defining a set of optical-THz pulse delays and a function that calcualtes the excited oscillator fraction given a specific delay"
   ]
  },
  {
   "cell_type": "code",
   "execution_count": null,
   "metadata": {},
   "outputs": [],
   "source": [
    "pulse_delays = np.arange(-500e-15, 600e-15, 100e-15) # -500 fs to 500 fs at intervals of 100 fs\n",
    "\n",
    "def e_osc_frac(pulse_delay):\n",
    "    # Set constants\n",
    "    pulse_width = 150e-15 # 100 fs pulse width\n",
    "    pulse_scaling = 16e11 # Sets the amplitude of the optical pulse amplitude\n",
    "    state_decay_const = 0.8e-12 # 0.47 ps pulse decay time\n",
    "    absorption_const = 2e-1 # 400 cm^-1 absorption coefficient\n",
    "    material_indicies = np.arange(0, mlen, 1)\n",
    "    # Calculate excited oscillator fraction\n",
    "    e_frac_exp1 = np.exp((pulse_width**2)/(4 * (state_decay_const)**2) - pulse_delay/state_decay_const)\n",
    "    e_frac_exp2 = np.exp(-absorption_const*material_indicies)\n",
    "    e_frac = pulse_scaling*pulse_width*np.sqrt(np.pi)*(e_frac_exp1)*e_frac_exp2\n",
    "    return e_frac"
   ]
  },
  {
   "cell_type": "code",
   "execution_count": null,
   "metadata": {},
   "outputs": [],
   "source": [
    "f = np.zeros((len(pulse_delays), mlen))\n",
    "\n",
    "for i in range(len(pulse_delays)):\n",
    "    f[i] = e_osc_frac(pulse_delays[i])\n",
    "    \n",
    "plt.plot(pulse_delays * 1e12, f)\n",
    "plt.xlabel('pulse delay [ps]')\n",
    "plt.ylabel('$f_e$')\n",
    "plt.title('$f_e$ as a function of pulse delay at each material index')\n",
    "plt.show()"
   ]
  },
  {
   "cell_type": "code",
   "execution_count": null,
   "metadata": {},
   "outputs": [],
   "source": [
    "plt.plot(e_osc_frac(pulse_delays[0]))\n",
    "plt.plot(1-e_osc_frac(pulse_delays[0]))\n",
    "plt.show()"
   ]
  },
  {
   "cell_type": "markdown",
   "metadata": {},
   "source": [
    "Create and run our simulation (or load simulation if one already exists)"
   ]
  },
  {
   "cell_type": "code",
   "execution_count": null,
   "metadata": {},
   "outputs": [],
   "source": [
    "#Create Sim object\n",
    "sim_name = 'novel_approach_sim.npz'\n",
    "if Path(sim_name).is_file():\n",
    "    # Load results\n",
    "    dat = np.load(sim_name)\n",
    "    n = dat['n']\n",
    "    pulse_delays = dat['pulse_delays']\n",
    "    inc_ars = dat['inc_ars']\n",
    "    trans_ars = dat['trans_ars']\n",
    "    refl_ars = dat['refl_ars']\n",
    "    chi_ars = dat['chi_ars']\n",
    "else:\n",
    "    # Create arrays to hold simulation values, each new simulation will contribute to a row. The zero-valued row initialized here is removed later.\n",
    "    inc_ars = np.zeros((1, nlen))\n",
    "    trans_ars = np.zeros((1, nlen))\n",
    "    refl_ars = np.zeros((1, nlen))\n",
    "    chi_ars = np.zeros((1, nlen))\n",
    "    # Loop through each transition index, simulating at each\n",
    "    for i in range(len(pulse_delays)):\n",
    "        # Get the current pulse delay\n",
    "        pulse_delay = pulse_delays[i]\n",
    "        # Generate the oscillator fractions\n",
    "        e_frac = e_osc_frac(pulse_delay)\n",
    "        g_frac = 1 - e_frac\n",
    "        # Scale coefficients by the excited and ground fractions\n",
    "        e_ma1_scaled = e_frac * e_ma1\n",
    "        e_ma2_scaled = e_frac * e_ma2\n",
    "        g_ma1_scaled = g_frac * g_ma1\n",
    "        g_ma2_scaled = g_frac * g_ma2\n",
    "        # Combine oscillators\n",
    "        ma1 = np.vstack((e_ma1_scaled, g_ma1_scaled))\n",
    "        ma2 = np.vstack((e_ma2_scaled, g_ma2_scaled))\n",
    "        mgamma = np.vstack((e_mgamma, g_mgamma))\n",
    "        mbeta = np.vstack((e_mbeta, g_mbeta))\n",
    "        # Create material\n",
    "        inf_perm = np.complex64(1e0)\n",
    "        two_state_mat = Mat(dn, ilen, nlen, m_s_ind, inf_perm, ma1, ma2, mgamma, mbeta, storelocs=[1])\n",
    "        # Create and run simulation\n",
    "        s = Sim(i0, i1, di, n0, n1, dn, epsilon0, mu0, 'absorbing', current, two_state_mat, nstore=int(nlen/50), storelocs=[5,ilen-6])\n",
    "        tqdmarg = {'desc': ('Working on transition ' + str(i+1) + '/' + str(len(pulse_delays))), 'leave': False}\n",
    "        s.simulate(tqdmarg)\n",
    "        # Extract incident, transmitted, and reflected fields\n",
    "        n, ls, els, erls, hls, hrls = s.export_locs()\n",
    "        inc = erls[:,1]\n",
    "        trans = els[:,1]\n",
    "        refl = els[:,0] - erls[:,0]\n",
    "        # Extract chi values\n",
    "        ls, chi = two_state_mat.export_locs()\n",
    "        # Reshape chi values\n",
    "        chi = np.reshape(chi, (1, nlen))\n",
    "        # Put results into array\n",
    "        inc_ars = np.vstack((inc_ars, inc))\n",
    "        trans_ars = np.vstack((trans_ars, trans))\n",
    "        refl_ars = np.vstack((refl_ars, refl))\n",
    "        chi_ars = np.vstack((chi_ars, chi))\n",
    "    # Remove the first row of each array, which is the zero-valued row initialized earlier\n",
    "    inc_ars = inc_ars[1:,:]\n",
    "    trans_ars = trans_ars[1:,:]\n",
    "    refl_ars = refl_ars[1:,:]\n",
    "    chi_ars = chi_ars[1:,:]\n",
    "    # Save data\n",
    "    np.savez(sim_name, n=n, pulse_delays=pulse_delays, inc_ars=inc_ars, trans_ars=trans_ars, refl_ars=refl_ars, chi_ars=chi_ars)"
   ]
  },
  {
   "cell_type": "markdown",
   "metadata": {},
   "source": [
    "Plot a heatmap of the field in time versus the $\\Delta t$ value, which is the displacement in time from the non-metal to metal tranistion for each simulation."
   ]
  },
  {
   "cell_type": "code",
   "execution_count": null,
   "metadata": {},
   "outputs": [],
   "source": [
    "np.shape(trans_ars)"
   ]
  },
  {
   "cell_type": "code",
   "execution_count": null,
   "metadata": {},
   "outputs": [],
   "source": [
    "plt.plot(n*1e12, np.real(chi_ars[0]))\n",
    "plt.plot(n*1e12, np.real(chi_ars[1]))\n",
    "plt.plot(n*1e12, np.real(chi_ars[2]))\n",
    "plt.plot(n*1e12, np.real(chi_ars[3]))\n",
    "plt.plot(n*1e12, np.real(chi_ars[4]))\n",
    "plt.plot(n*1e12, np.real(chi_ars[5]))\n",
    "plt.plot(n*1e12, np.real(chi_ars[6]))\n",
    "plt.plot(n*1e12, np.real(chi_ars[7]))\n",
    "plt.show()"
   ]
  },
  {
   "cell_type": "code",
   "execution_count": null,
   "metadata": {},
   "outputs": [],
   "source": [
    "ddn = np.diff(pulse_delays)[0]\n",
    "time_grid, dtime_grid = np.mgrid[slice(n[0], n[-1] + dn, dn),\n",
    "                slice(pulse_delays[0],pulse_delays[-1] + ddn, ddn)]\n",
    "plt.pcolormesh(dtime_grid*1e15, time_grid*1e12, np.real(trans_ars.T))\n",
    "plt.ylabel('$t$ [ps]')\n",
    "plt.xlabel('$\\Delta t$ [fs]')\n",
    "plt.gcf().set_dpi(200)\n",
    "plt.show()"
   ]
  },
  {
   "cell_type": "code",
   "execution_count": null,
   "metadata": {},
   "outputs": [],
   "source": []
  }
 ],
 "metadata": {
  "kernelspec": {
   "display_name": "Python 3",
   "language": "python",
   "name": "python3"
  },
  "language_info": {
   "codemirror_mode": {
    "name": "ipython",
    "version": 3
   },
   "file_extension": ".py",
   "mimetype": "text/x-python",
   "name": "python",
   "nbconvert_exporter": "python",
   "pygments_lexer": "ipython3",
   "version": "3.6.4"
  }
 },
 "nbformat": 4,
 "nbformat_minor": 2
}
