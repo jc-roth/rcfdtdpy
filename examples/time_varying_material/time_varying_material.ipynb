{
 "cells": [
  {
   "cell_type": "markdown",
   "metadata": {},
   "source": [
    "We start by importing the needed libraries and defining our simulation bounds and constants. Our simulation will begin at time index $-0.5$ps and end at time index $2.5$ps. The simulations spatial bounds will span from $-1$um to $2$um."
   ]
  },
  {
   "cell_type": "code",
   "execution_count": null,
   "metadata": {},
   "outputs": [],
   "source": [
    "%matplotlib inline\n",
    "# Imports\n",
    "from rcfdtd_sim import Sim, Current, Mat, vis\n",
    "import numpy as np\n",
    "from scipy.fftpack import fft, fftfreq, fftshift\n",
    "from matplotlib import pyplot as plt\n",
    "from pathlib import Path\n",
    "from tqdm import tqdm\n",
    "# Constants\n",
    "c0 = 3e8 # um/ps\n",
    "di = 0.03e-6 # 0.03 um\n",
    "dn = di/c0 # (0.03 um) / (3e8 m/s) = 0.1 fs\n",
    "epsilon0 = 8.854187e-12\n",
    "mu0 = np.divide(1, np.multiply(epsilon0, np.square(c0)))\n",
    "# Define bounds\n",
    "i0 = -1e-6 # -1 um\n",
    "i1 = 2e-6 # 2 um\n",
    "n0 = -0.5e-12 # -0.5 ps\n",
    "n1 = 2.5e-12 # 2.5 ps\n",
    "# Calculate dimensions\n",
    "nlen, ilen = Sim.calc_dims(n0, n1, dn, i0, i1, di)\n",
    "# Create a arrays that hold the value of the center of each cell\n",
    "t = np.linspace(n0+dn/2, n1+dn/2, nlen, endpoint=False)\n",
    "z = np.linspace(i0+di/2, i1+di/2, ilen, endpoint=False)\n",
    "# Print simulation bounds\n",
    "print('nlen=%i, ilen=%i' % (nlen, ilen))"
   ]
  },
  {
   "cell_type": "markdown",
   "metadata": {},
   "source": [
    "Specify the location of our current pulse in time and space"
   ]
  },
  {
   "cell_type": "code",
   "execution_count": null,
   "metadata": {},
   "outputs": [],
   "source": [
    "cp_loc_val = -0.5e-6 # -0.5 um\n",
    "cp_time_val = 0 # 0 fs"
   ]
  },
  {
   "cell_type": "markdown",
   "metadata": {},
   "source": [
    "Determine the simulation indicies that correspond to these locations"
   ]
  },
  {
   "cell_type": "code",
   "execution_count": null,
   "metadata": {},
   "outputs": [],
   "source": [
    "# Find indicies\n",
    "cp_loc_ind = np.argmin(np.abs(np.subtract(z, cp_loc_val)))\n",
    "cp_time_ind = np.argmin(np.abs(np.subtract(t, cp_time_val)))\n",
    "# Find start and end indicies in time\n",
    "spread = 3500\n",
    "cp_time_s = cp_time_ind - spread\n",
    "cp_time_e = cp_time_ind + spread"
   ]
  },
  {
   "cell_type": "markdown",
   "metadata": {},
   "source": [
    "Create the current pulse"
   ]
  },
  {
   "cell_type": "code",
   "execution_count": null,
   "metadata": {},
   "outputs": [],
   "source": [
    "# Make pulse\n",
    "cpulse = np.append(np.diff(np.diff(np.exp(-((t[cp_time_s:cp_time_e]-cp_time_val)**2)/(8e-27)))), [0,0])\n",
    "# Create Current object\n",
    "current = Current(nlen, ilen, cp_time_s, cp_loc_ind, cpulse)"
   ]
  },
  {
   "cell_type": "markdown",
   "metadata": {},
   "source": [
    "Specify the location of our material (which will be $50$nm in length)"
   ]
  },
  {
   "cell_type": "code",
   "execution_count": null,
   "metadata": {},
   "outputs": [],
   "source": [
    "# Set material length\n",
    "m_len = 0.050e-6 # 50 nm\n",
    "# Set locations\n",
    "m_s_val = 0\n",
    "m_e_val = m_s_val + m_len"
   ]
  },
  {
   "cell_type": "markdown",
   "metadata": {},
   "source": [
    "Calculate the starting and ending indicies of our material"
   ]
  },
  {
   "cell_type": "code",
   "execution_count": null,
   "metadata": {},
   "outputs": [],
   "source": [
    "m_s_ind = np.argmin(np.abs(np.subtract(z, m_s_val)))\n",
    "m_e_ind = np.argmin(np.abs(np.subtract(z, m_e_val)))\n",
    "# Determine matrix length in indicies\n",
    "mlen = m_e_ind - m_s_ind"
   ]
  },
  {
   "cell_type": "markdown",
   "metadata": {},
   "source": [
    "Simulate the current pulse, observing the field at the material starting index $m_0$"
   ]
  },
  {
   "cell_type": "code",
   "execution_count": null,
   "metadata": {},
   "outputs": [],
   "source": [
    "# Run simulation if simulation save doesn't exist\n",
    "sim_file = 'pre_simulation_analysis.npz'\n",
    "if Path(sim_file).is_file():\n",
    "    # Load results\n",
    "    dat = np.load(sim_file)\n",
    "    els = dat['els']\n",
    "else:\n",
    "    # Create Sim object, observe the field at the material start index\n",
    "    s = Sim(i0, i1, di, n0, n1, dn, epsilon0, mu0, 'absorbing', current, nstore=int(nlen/50), storelocs=[m_s_ind])\n",
    "    # Run simulation\n",
    "    s.simulate(tqdmarg={'desc': 'Executing pre-simulation simulation', 'leave': True})\n",
    "    n, ls, els, erls, hls, hrls = s.export_locs()\n",
    "    np.savez(sim_file, els=els)"
   ]
  },
  {
   "cell_type": "markdown",
   "metadata": {},
   "source": [
    "Determine at what time index the pulse passes the material starting index by finding the index of the maximum value in the real values of the E-field, we will use this time to transition from non-metal to metal. Noting that the current pulse is generated at $t=0$fs and $z=-0.5$um, we would expect the current pulse to reach spatial index $z=0$um at time $t=1.67$fs as\n",
    "$$\n",
    "\\frac{0.5\\text{um}}{300\\text{um/ps}}=1.67\\text{fs}\n",
    "$$"
   ]
  },
  {
   "cell_type": "code",
   "execution_count": null,
   "metadata": {},
   "outputs": [],
   "source": [
    "mat_transition_ind = np.argmax(np.real(els))\n",
    "# Plot\n",
    "plt.plot(t * 1e12, np.real(els))\n",
    "plt.axvline(t[mat_transition_ind], color='k', linestyle='--')\n",
    "plt.xlabel('time [ps]')\n",
    "plt.ylabel('$E(t,z=m_0)$')\n",
    "plt.show()\n",
    "# Print time value\n",
    "print('t[mat_transition_ind]=%E' % t[mat_transition_ind])"
   ]
  },
  {
   "cell_type": "markdown",
   "metadata": {},
   "source": [
    "As time steps $0.1$fs, the maximum index determined by the simulation $t=1.55$fs is one step in time away from where we would expect it to be. This is probably good enough for our purposes. We next setup our non-metal behavior."
   ]
  },
  {
   "cell_type": "code",
   "execution_count": null,
   "metadata": {},
   "outputs": [],
   "source": [
    "def non_metal_gen(mat_trans_ind):\n",
    "    # Set constants\n",
    "    a1 = np.complex64(0)\n",
    "    a2 = np.complex64(1e16)\n",
    "    gamma = np.complex64(1e12)\n",
    "    freq = np.complex64(0)\n",
    "    inf_perm = np.complex64(1e0)\n",
    "    # Calculate beta\n",
    "    ang_gamma = np.complex64(gamma * 2 * np.pi)\n",
    "    omega = np.complex64(freq * 2 * np.pi)\n",
    "    beta = np.sqrt(np.add(np.square(ang_gamma), -np.square(omega)), dtype=np.complex64)\n",
    "    # Create matrices\n",
    "    m = np.ones((1, mlen), dtype=np.complex64)\n",
    "    mgamma = m * ang_gamma\n",
    "    mbeta = m * beta\n",
    "    ma1 = m * a1\n",
    "    ma2 = m * a2\n",
    "    # Create non-metal object\n",
    "    return Mat(dn, ilen, nlen, m_s_ind, inf_perm, ma1, ma2, mgamma, mbeta, timebounds=(0, mat_trans_ind), storelocs=[1])"
   ]
  },
  {
   "cell_type": "markdown",
   "metadata": {},
   "source": [
    "We next create our metal"
   ]
  },
  {
   "cell_type": "code",
   "execution_count": null,
   "metadata": {},
   "outputs": [],
   "source": [
    "def metal_gen(mat_trans_ind):\n",
    "    # Set constants\n",
    "    a1 = np.complex64(1e16)\n",
    "    gamma = np.complex64(1e12)\n",
    "    freq = np.complex64(0)\n",
    "    inf_perm = np.complex64(1e0)\n",
    "    # Calculate beta\n",
    "    ang_gamma = np.complex64(gamma * 2 * np.pi)\n",
    "    omega = np.complex64(freq * 2 * np.pi)\n",
    "    beta = np.sqrt(np.add(np.square(ang_gamma), -np.square(omega)), dtype=np.complex64)\n",
    "    a2 = -a1\n",
    "    # Create matrices\n",
    "    m = np.ones((1, mlen), dtype=np.complex64)\n",
    "    mgamma = m * ang_gamma\n",
    "    mbeta = m * beta\n",
    "    ma1 = m * a1\n",
    "    ma2 = m * a2\n",
    "    # Create metal object\n",
    "    return Mat(dn, ilen, nlen, m_s_ind, inf_perm, ma1, ma2, mgamma, mbeta, timebounds=(mat_trans_ind, nlen), storelocs=[1])"
   ]
  },
  {
   "cell_type": "markdown",
   "metadata": {},
   "source": [
    "Construct a spread of material transition time indicies to simulate about `mat_trans_ind`"
   ]
  },
  {
   "cell_type": "code",
   "execution_count": null,
   "metadata": {},
   "outputs": [],
   "source": [
    "# Set the spread and step size\n",
    "spread = 5e-15\n",
    "step_size = 40\n",
    "# Determine the start and end indicies to to use as the material transition index\n",
    "mat_transition_val = t[mat_transition_ind]\n",
    "start_ind = np.argmin(np.abs(np.subtract(t, mat_transition_val-spread)))\n",
    "end_ind = np.argmin(np.abs(np.subtract(t, mat_transition_val+spread)))\n",
    "# Generate an array of material transition indices to test\n",
    "trans_inds = np.arange(start_ind, end_ind, step_size)"
   ]
  },
  {
   "cell_type": "markdown",
   "metadata": {},
   "source": [
    "Create and run our simulation (or load simulation if one already exists)"
   ]
  },
  {
   "cell_type": "code",
   "execution_count": null,
   "metadata": {},
   "outputs": [],
   "source": [
    "#Create Sim object\n",
    "sim_name = 'material_transition.npz'\n",
    "if Path(sim_name).is_file():\n",
    "    # Load results\n",
    "    dat = np.load(sim_name)\n",
    "    n = dat['n']\n",
    "    trans_vals = dat['trans_vals']\n",
    "    inc_ars = dat['inc_ars']\n",
    "    trans_ars = dat['trans_ars']\n",
    "    refl_ars = dat['refl_ars']\n",
    "    metal_chi_ars = dat['metal_chi_ars']\n",
    "    non_metal_chi_ars = dat['non_metal_chi_ars']\n",
    "else:\n",
    "    trans_vals = np.array([])\n",
    "    # Create arrays to hold simulation values, each new simulation will contribute to a row. The zero-valued row initialized here is removed later.\n",
    "    inc_ars = np.zeros((1, nlen))\n",
    "    trans_ars = np.zeros((1, nlen))\n",
    "    refl_ars = np.zeros((1, nlen))\n",
    "    metal_chi_ars = np.zeros((1, nlen))\n",
    "    non_metal_chi_ars = np.zeros((1, nlen))\n",
    "    # Loop through each transition index, simulating at each\n",
    "    for i in range(len(trans_inds)):\n",
    "        # Get the current transition index\n",
    "        trans_ind = trans_inds[i]\n",
    "        # Generate materials\n",
    "        non_metal = non_metal_gen(trans_ind)\n",
    "        metal = metal_gen(trans_ind)\n",
    "        # Create and run simulation\n",
    "        s = Sim(i0, i1, di, n0, n1, dn, epsilon0, mu0, 'absorbing', current, [non_metal, metal], nstore=int(nlen/50), storelocs=[5,ilen-6])\n",
    "        tqdmarg = {'desc': ('Working on transition ' + str(i+1) + '/' + str(len(trans_inds))), 'leave': False}\n",
    "        s.simulate(tqdmarg)\n",
    "        # Extract incident, transmitted, and reflected fields\n",
    "        n, ls, els, erls, hls, hrls = s.export_locs()\n",
    "        inc = erls[:,1]\n",
    "        trans = els[:,1]\n",
    "        refl = els[:,0] - erls[:,0]\n",
    "        # Extract chi values\n",
    "        ls_mat, non_metal_chi = non_metal.export_locs()\n",
    "        ls_mat, metal_chi = metal.export_locs()\n",
    "        # Reshape chi values\n",
    "        non_metal_chi = np.reshape(non_metal_chi, (1, nlen))\n",
    "        metal_chi = np.reshape(metal_chi, (1, nlen))\n",
    "        # Save transition time value\n",
    "        trans_vals = np.append(trans_vals, t[trans_ind])\n",
    "        # Put results into array\n",
    "        inc_ars = np.vstack((inc_ars, inc))\n",
    "        trans_ars = np.vstack((trans_ars, trans))\n",
    "        refl_ars = np.vstack((refl_ars, refl))\n",
    "        metal_chi_ars = np.vstack((metal_chi_ars, metal_chi))\n",
    "        non_metal_chi_ars = np.vstack((non_metal_chi_ars, non_metal_chi))\n",
    "    # Reinc_ars = move the first row of each array, which is the zero-valued row initialized earlier\n",
    "    inc_ars = inc_ars[1:,:]\n",
    "    trans_ars = trans_ars[1:,:]\n",
    "    refl_ars = refl_ars[1:,:]\n",
    "    metal_chi_ars = metal_chi_ars[1:,:]\n",
    "    non_metal_chi_ars = non_metal_chi_ars[1:,:]\n",
    "    # Save data\n",
    "    np.savez(sim_name, n=n, trans_vals=trans_vals, inc_ars=inc_ars, trans_ars=trans_ars, refl_ars=refl_ars, metal_chi_ars=metal_chi_ars, non_metal_chi_ars=non_metal_chi_ars)"
   ]
  },
  {
   "cell_type": "markdown",
   "metadata": {},
   "source": [
    "Plot fields in time"
   ]
  },
  {
   "cell_type": "code",
   "execution_count": null,
   "metadata": {},
   "outputs": [],
   "source": [
    "# Plot each transmitted field values\n",
    "for i in range(len(trans_vals)):\n",
    "    plt.plot(n, np.real(trans_ars[i,:]), label='$\\Delta t=${:.1f}'.format(trans_vals[i]*1e15) + '[fs]')\n",
    "# Format plot\n",
    "plt.title('$E_t(t)$')\n",
    "plt.ylabel('Amplitude [?]')\n",
    "plt.xlabel('time [s]')\n",
    "plt.legend()\n",
    "plt.show()"
   ]
  },
  {
   "cell_type": "markdown",
   "metadata": {},
   "source": [
    "Transform time-domain fields into frequency domain fields and plot."
   ]
  },
  {
   "cell_type": "code",
   "execution_count": null,
   "metadata": {},
   "outputs": [],
   "source": [
    "# Calculate time difference\n",
    "dn = np.diff(n)[0] # Calculate time step difference in fs\n",
    "\n",
    "# Calculate Fourier transforms\n",
    "freq = fftfreq(nlen, dn) # in THz (since [dn]=[fs], 1/[dn] = 1/[fs] = 10^15/[s] = 10^3*10^12/[s] = 10^4*[THz])\n",
    "incf = fft(inc_ars[0,:])\n",
    "\n",
    "# Remove unwanted frequencies\n",
    "freq = freq[1:int(nlen/2)]\n",
    "incf = incf[1:int(nlen/2)]\n",
    "\n",
    "# Calculate transmitted field in frequency and plot\n",
    "for i in range(len(trans_vals)):\n",
    "    transf = fft(trans_ars[i,:])\n",
    "    transf = transf[1:int(nlen/2)]\n",
    "    plt.plot(freq*1e-12, np.abs(transf), label='$E_t(\\omega)$, $\\Delta t=${:.1f}'.format(trans_vals[i]*1e15) + '[fs]')\n",
    "\n",
    "# Plot transformed fields\n",
    "plt.plot(freq*1e-12, np.abs(incf), label='$E_i(\\omega)$')\n",
    "plt.xlabel(r'frequency [THz]')\n",
    "plt.xlim(0, 10)\n",
    "plt.legend()\n",
    "plt.show()"
   ]
  },
  {
   "cell_type": "markdown",
   "metadata": {},
   "source": [
    "HERE IS WHERE I AM!"
   ]
  },
  {
   "cell_type": "markdown",
   "metadata": {},
   "source": [
    "Extract transmission coefficient $\\tilde T=A(\\omega)+i\\phi(\\omega)$ into `spec_m` and `spec_a` arrays representing $A(\\omega)$ and $\\phi(\\omega)$, respectively. To prevent a `divide by zero` error we remove the indicies at which the incident field $E_i(\\omega)$ is zero."
   ]
  },
  {
   "cell_type": "code",
   "execution_count": null,
   "metadata": {},
   "outputs": [],
   "source": [
    "# Remove zero indicies from all arrays\n",
    "nonzero_ind = np.nonzero(incf)\n",
    "freq = freq[nonzero_ind]\n",
    "incf = incf[nonzero_ind]\n",
    "transf = transf[nonzero_ind]\n",
    "reflf = reflf[nonzero_ind]\n",
    "\n",
    "# Calculate spectrum in frequency\n",
    "spec = np.divide(transf, incf)\n",
    "\n",
    "# Remove zero indicies from all arrays\n",
    "nonzero_ind = np.nonzero(spec)\n",
    "freq = freq[nonzero_ind]\n",
    "incf = incf[nonzero_ind]\n",
    "transf = transf[nonzero_ind]\n",
    "spec = spec[nonzero_ind]\n",
    "\n",
    "# Extract phase and magnitude\n",
    "spec_m = np.absolute(spec)\n",
    "spec_a = np.abs(np.unwrap(np.angle(spec)))\n",
    "\n",
    "# Plot\n",
    "fig, (ax0, ax1) = plt.subplots(nrows=2, sharex=True, dpi=100)\n",
    "ax0.plot(freq * 1e-12, spec_m)\n",
    "ax1.plot(freq * 1e-12, spec_a)\n",
    "ax1.set_xlim(0, 15)\n",
    "ax0.set_ylim(0, 2)\n",
    "ax1.set_ylim(0, 0.5)\n",
    "ax0.set_ylabel(r'$\\left|E_t(\\omega)/E_i(\\omega)\\right|$')\n",
    "ax1.set_ylabel(r'$\\phi$ [radians]')\n",
    "ax1.set_xlabel(r'frequency [THz]')\n",
    "plt.show()"
   ]
  },
  {
   "cell_type": "markdown",
   "metadata": {},
   "source": [
    "We wish to calculate the conductivity\n",
    "$$\\tilde{n}(\\omega)=n(\\omega)+i\\kappa(\\omega)$$\n",
    "where $\\kappa\\ll n$. From Benjamin Ofori-Okai's 2016 PhD thesis Eq.(5.41) we note that conductivity is defined as\n",
    "$$\n",
    "\\tilde{\\sigma}(\\omega)=\\frac{2}{Z_0d}\\left(\\frac{1}{\\tilde{t}(\\omega)}-1\\right)\n",
    "$$\n",
    "for a sample in vacuum where $Z_0$ is the impedance of free space, $d$ is the sample width, and $\\tilde{t}(\\omega)=\\frac{E_t(\\omega)}{E_i(\\omega)}$."
   ]
  },
  {
   "cell_type": "code",
   "execution_count": null,
   "metadata": {},
   "outputs": [],
   "source": [
    "# Set constants\n",
    "Z0 = np.multiply(mu0, c0) # Ohms (impedance of free space)\n",
    "\n",
    "# Calculate the angular frequency\n",
    "ang_freq = 2 * np.pi * freq # THz * 2pi\n",
    "\n",
    "# Calculate conductivity\n",
    "conductivity = np.multiply(np.divide(2, Z0*m_len), np.subtract(np.divide(1, spec), 1))\n",
    "\n",
    "# Calculate index of refraction\n",
    "#n_complex = np.sqrt(inf_perm + np.divide(np.multiply(1j, conductivity), np.multiply(ang_freq, epsilon0)))\n",
    "\n",
    "# Calculate the imaginary part of the index of refraction\n",
    "#n1 = np.real(n_complex)\n",
    "#kappa1 = np.imag(n_complex)\n",
    "\n",
    "# Setup plot\n",
    "fig, (ax0, ax1) = plt.subplots(2, 1, sharex=True, dpi=100)\n",
    "ax0.set_ylabel(r'$\\sigma_1$')\n",
    "ax1.set_ylabel(r'$\\sigma_2$')\n",
    "ax1.set_xlabel(r'$\\omega$ [THz]')\n",
    "ax1.set_xlim(0, 15)\n",
    "ax0.ticklabel_format(style='sci', scilimits=(0,0), axis='y')\n",
    "ax0.set_ylim(-3e5, 3e5)\n",
    "ax1.ticklabel_format(style='sci', scilimits=(0,0), axis='y')\n",
    "ax1.set_ylim(-5e4, 5e4)\n",
    "\n",
    "# Plot conductivity\n",
    "ax0.plot(freq * 1e-12, np.real(conductivity), 'b-')\n",
    "ax1.plot(freq * 1e-12, np.imag(conductivity), 'b-')"
   ]
  },
  {
   "cell_type": "code",
   "execution_count": null,
   "metadata": {},
   "outputs": [],
   "source": []
  }
 ],
 "metadata": {
  "kernelspec": {
   "display_name": "Python 3",
   "language": "python",
   "name": "python3"
  },
  "language_info": {
   "codemirror_mode": {
    "name": "ipython",
    "version": 3
   },
   "file_extension": ".py",
   "mimetype": "text/x-python",
   "name": "python",
   "nbconvert_exporter": "python",
   "pygments_lexer": "ipython3",
   "version": "3.6.5"
  }
 },
 "nbformat": 4,
 "nbformat_minor": 2
}
