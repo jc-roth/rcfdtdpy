{
 "cells": [
  {
   "cell_type": "markdown",
   "metadata": {},
   "source": [
    "Recursive Convolution Finite Difference Time Domain\n",
    "===================================================\n",
    "\n",
    "Introduction\n",
    "------------\n",
    "The Recursive Convolution Finite Difference Time Domain (RC-FDTD) method is used to solve Maxwell's equations by discritizing the electric and magnetic fields in both time and space. The electric field $E$ and the magnetic field $H$ at each time step are used to calculate $E$ and $H$ at the next time step, along with a couple other parameters. The H-field is updated first as follows\n",
    "$$H^{i+1/2,n+1/2}=H^{i+1/2,n-1/2}-\\frac{1}{\\mu_0}\\frac{\\Delta t}{\\Delta z}\\left[E^{i+1,n}-E^{i,n}\\right]$$\n",
    "The E-field is updated next via\n",
    "$$E^{i,n+1}=\\frac{\\epsilon_\\infty}{\\epsilon_\\infty+\\chi^0}E^{i,n}+\\frac{1}{\\epsilon_\\infty+\\chi^0}\\psi^n-\\frac{1}{\\epsilon_0\\left[\\epsilon_\\infty+\\chi^0\\right]}\\frac{\\Delta t}{\\Delta z}\\left[H^{i+1/2,n+1/2}-H^{i-1/2,n+1/2}\\right]-\\frac{\\Delta tI_f}{\\epsilon_0\\left[\\epsilon_\\infty+\\chi^0\\right]}$$\n",
    "where $\\psi^{i,n}$ is determined by the material present at that index in space\n",
    "$$\\psi^{i,n}=\\sum_j\\left(\\psi^{i,n}_{1,j}+\\psi^{i,n}_{2,j}\\right)$$\n",
    "The $j$ index allows for a linear combination of $\\psi^{i,n}$ to be utilized to define more complex materials. $\\psi^{i,n}_{1,j}$ and $\\psi^{i,n}_{2,j}$ are defined as follows\n",
    "$$\\psi^n_{1,j}=E^{i,n}\\Delta\\chi^{0}_{1,j}+\\psi^{n-1}_{1,j}e^{\\Delta t\\left(-\\gamma_j+\\beta_j\\right)}$$\n",
    "and\n",
    "$$\\psi^n_{2,j}=E^{i,n}\\Delta\\chi^{0}_{2,j}+\\psi^{n-1}_{2,j}e^{\\Delta t\\left(-\\gamma_j-\\beta_j\\right)}$$\n",
    "where $\\Delta\\chi^0$ represents the difference in susceptability between the first two steps in discritized time. It is computed as follows\n",
    "$$\n",
    "\\Delta\\chi^{0}_{1,j}=\\chi^0_{1,j}\\left(1-e^{\\Delta t\\left(-\\gamma_j+\\beta_j\\right)}\\right) \\\\\n",
    "\\Delta\\chi^{0}_{2,j}=\\chi^0_{2,j}\\left(1-e^{\\Delta t\\left(-\\gamma_j-\\beta_j\\right)}\\right)\n",
    "$$\n",
    "As one might expect, $\\chi^0$ represents the susceptability of the material at the $0$th time step. It is computed as follows\n",
    "$$\n",
    "\\chi^0_{1,j}=\\frac{A_{1,j}}{-\\gamma_j+\\beta_j}\\left[e^{(-\\gamma_j+\\beta_j)\\Delta t}-1\\right] \\\\\n",
    "\\chi^0_{2,j}=\\frac{A_{2,j}}{-\\gamma_j-\\beta_j}\\left[e^{(-\\gamma_j-\\beta_j)\\Delta t}-1\\right]\n",
    "$$\n",
    "The `rcfdtd_sim` package implements these update equations to simulate planewaves interacting with various materials. An example of how `rcfdtd_sim` can be used follows.\n",
    "\n",
    "Example\n",
    "-------\n",
    "We begin by importing the `Sim` (used for simulation) and `Mat` (used to define materials) classes, as well as other needed imports"
   ]
  },
  {
   "cell_type": "code",
   "execution_count": 24,
   "metadata": {
    "slideshow": {
     "slide_type": "notes"
    }
   },
   "outputs": [],
   "source": [
    "import numpy as np\n",
    "from rcfdtd_sim.sim import Sim, Mat\n",
    "from rcfdtd_sim import vis as v"
   ]
  },
  {
   "cell_type": "markdown",
   "metadata": {},
   "source": [
    "We next want to define our constants. We start with the speed of light `c0`."
   ]
  },
  {
   "cell_type": "code",
   "execution_count": 7,
   "metadata": {},
   "outputs": [],
   "source": [
    "c0 = 1 # 300 um/ps"
   ]
  },
  {
   "cell_type": "markdown",
   "metadata": {},
   "source": [
    "Glancing at the update equations, it is clear that we need to choose $\\Delta t$ and $\\Delta z$ (which are represented as `dn` and `di` in the code, respectively) such that\n",
    "$$\n",
    "\\frac{1}{\\mu_0}\\frac{\\Delta t}{\\Delta z}=\\left(\\frac{1}{\\epsilon_0}\\frac{\\Delta t}{\\Delta z}\\right)^{-1}\n",
    "$$\n",
    "as otherwise in the case of vacuum (where $\\epsilon_\\infty+\\chi^0=1$) the update equations will cause both the E-field and H-field to grow in amplitude every two time iterations. As such\n",
    "$$\n",
    "\\frac{1}{\\mu_0}\\frac{\\Delta t}{\\Delta z}=\\left(\\frac{1}{\\epsilon_0}\\frac{\\Delta t}{\\Delta z}\\right)^{-1} \\to \\frac{1}{\\mu_0\\epsilon_0}\\left(\\frac{\\Delta t}{\\Delta z}\\right)^2=1 \\to c_0^2\\left(\\frac{\\Delta t}{\\Delta z}\\right)^2=1 \\to \\Delta t=\\frac{\\Delta z}{c_0}\n",
    "$$\n",
    "So"
   ]
  },
  {
   "cell_type": "code",
   "execution_count": 11,
   "metadata": {},
   "outputs": [],
   "source": [
    "di = 0.003 # 0.003 um\n",
    "dn = di/c0 # (0.003 um) / (300 um/ps) = 0.00001 ps = 0.01 fs"
   ]
  },
  {
   "cell_type": "markdown",
   "metadata": {},
   "source": [
    "Since\n",
    "$$c=\\frac{1}{\\sqrt{\\epsilon_0\\mu_0}}$$\n",
    "we can set\n",
    "$$\n",
    "\\epsilon_0=1 \\\\\n",
    "\\mu_0=1\n",
    "$$\n",
    "EEK JACK THINK ABOUT THIS!"
   ]
  },
  {
   "cell_type": "code",
   "execution_count": 20,
   "metadata": {},
   "outputs": [],
   "source": [
    "epsilon0 = 1\n",
    "mu0 = 1"
   ]
  },
  {
   "cell_type": "markdown",
   "metadata": {},
   "source": [
    "We next wish to choose the bounds of our simulation in both space and time. Lets say we want our simulation to span from $-2$um to $2$um in space and from $-5$ps to $10$ps in time"
   ]
  },
  {
   "cell_type": "code",
   "execution_count": 21,
   "metadata": {},
   "outputs": [],
   "source": [
    "i0 = -2\n",
    "i1 = 2\n",
    "n0 = -5\n",
    "n1 = 10"
   ]
  },
  {
   "cell_type": "markdown",
   "metadata": {},
   "source": [
    "We now utilize the `Sim` class for the first time by making use of its static function `calc_dims`, which yields the dimensions of the simulation in discritized cells"
   ]
  },
  {
   "cell_type": "code",
   "execution_count": 22,
   "metadata": {},
   "outputs": [
    {
     "name": "stdout",
     "output_type": "stream",
     "text": [
      "nlen=5000, ilen=1335\n"
     ]
    }
   ],
   "source": [
    "nlen, ilen = Sim.calc_dims(n0, n1, dn, i0, i1, di)\n",
    "print(f'nlen={nlen}, ilen={ilen}')"
   ]
  },
  {
   "cell_type": "markdown",
   "metadata": {},
   "source": [
    "Now that we know the dimensions of our simulation we can construct our current pulse and material. We begin by creating a few objects that will help us create the pulse and material."
   ]
  },
  {
   "cell_type": "code",
   "execution_count": 23,
   "metadata": {},
   "outputs": [
    {
     "ename": "NameError",
     "evalue": "name 'np' is not defined",
     "output_type": "error",
     "traceback": [
      "\u001b[0;31m---------------------------------------------------------------------------\u001b[0m",
      "\u001b[0;31mNameError\u001b[0m                                 Traceback (most recent call last)",
      "\u001b[0;32m<ipython-input-23-313edcbcdca2>\u001b[0m in \u001b[0;36m<module>\u001b[0;34m()\u001b[0m\n\u001b[0;32m----> 1\u001b[0;31m \u001b[0mc\u001b[0m \u001b[0;34m=\u001b[0m \u001b[0mnp\u001b[0m\u001b[0;34m.\u001b[0m\u001b[0mzeros\u001b[0m\u001b[0;34m(\u001b[0m\u001b[0;34m(\u001b[0m\u001b[0mnlen\u001b[0m\u001b[0;34m,\u001b[0m \u001b[0milen\u001b[0m\u001b[0;34m)\u001b[0m\u001b[0;34m)\u001b[0m\u001b[0;34m\u001b[0m\u001b[0m\n\u001b[0m\u001b[1;32m      2\u001b[0m \u001b[0mz\u001b[0m \u001b[0;34m=\u001b[0m \u001b[0mnp\u001b[0m\u001b[0;34m.\u001b[0m\u001b[0marange\u001b[0m\u001b[0;34m(\u001b[0m\u001b[0mi0\u001b[0m\u001b[0;34m,\u001b[0m \u001b[0mi1\u001b[0m\u001b[0;34m,\u001b[0m \u001b[0mdi\u001b[0m\u001b[0;34m)\u001b[0m \u001b[0;31m# Create a location stream\u001b[0m\u001b[0;34m\u001b[0m\u001b[0m\n\u001b[1;32m      3\u001b[0m \u001b[0mt\u001b[0m \u001b[0;34m=\u001b[0m \u001b[0mnp\u001b[0m\u001b[0;34m.\u001b[0m\u001b[0marange\u001b[0m\u001b[0;34m(\u001b[0m\u001b[0mn0\u001b[0m\u001b[0;34m,\u001b[0m \u001b[0mn1\u001b[0m\u001b[0;34m,\u001b[0m \u001b[0mdn\u001b[0m\u001b[0;34m)\u001b[0m \u001b[0;31m# Create a time stream\u001b[0m\u001b[0;34m\u001b[0m\u001b[0m\n",
      "\u001b[0;31mNameError\u001b[0m: name 'np' is not defined"
     ]
    }
   ],
   "source": [
    "c = np.zeros((nlen, ilen))\n",
    "z = np.arange(i0, i1, di) # Create a location stream\n",
    "t = np.arange(n0, n1, dn) # Create a time stream"
   ]
  },
  {
   "cell_type": "code",
   "execution_count": null,
   "metadata": {},
   "outputs": [],
   "source": []
  }
 ],
 "metadata": {
  "kernelspec": {
   "display_name": "Python 3",
   "language": "python",
   "name": "python3"
  },
  "language_info": {
   "codemirror_mode": {
    "name": "ipython",
    "version": 3
   },
   "file_extension": ".py",
   "mimetype": "text/x-python",
   "name": "python",
   "nbconvert_exporter": "python",
   "pygments_lexer": "ipython3",
   "version": "3.6.5"
  }
 },
 "nbformat": 4,
 "nbformat_minor": 2
}
