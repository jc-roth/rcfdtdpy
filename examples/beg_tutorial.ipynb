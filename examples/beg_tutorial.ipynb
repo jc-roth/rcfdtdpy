{
 "cells": [
  {
   "cell_type": "markdown",
   "metadata": {},
   "source": [
    "Recursive Convolution Finite Difference Time Domain\n",
    "===================================================\n",
    "\n",
    "Introduction\n",
    "------------\n",
    "The Recursive Convolution Finite Difference Time Domain (RC-FDTD) method is used to solve Maxwell's equations by discritizing the electric and magnetic fields in both time and space. The electric field $E$ and the magnetic field $H$ at each time step are used to calculate $E$ and $H$ at the next time step, along with a couple other parameters. The H-field is updated first as follows\n",
    "$$H^{i+1/2,n+1/2}=H^{i+1/2,n-1/2}-\\frac{1}{\\mu_0}\\frac{\\Delta t}{\\Delta z}\\left[E^{i+1,n}-E^{i,n}\\right]$$\n",
    "The E-field is updated next via\n",
    "$$E^{i,n+1}=\\frac{\\epsilon_\\infty}{\\epsilon_\\infty+\\chi^0}E^{i,n}+\\frac{1}{\\epsilon_\\infty+\\chi^0}\\psi^n-\\frac{1}{\\epsilon_0\\left[\\epsilon_\\infty+\\chi^0\\right]}\\frac{\\Delta t}{\\Delta z}\\left[H^{i+1/2,n+1/2}-H^{i-1/2,n+1/2}\\right]-\\frac{\\Delta tI_f}{\\epsilon_0\\left[\\epsilon_\\infty+\\chi^0\\right]}$$\n",
    "where $\\psi^{i,n}$ is determined by the material present at that index in space\n",
    "$$\\psi^{i,n}=\\sum_j\\left(\\psi^{i,n}_{1,j}+\\psi^{i,n}_{2,j}\\right)$$\n",
    "The $j$ index allows for a linear combination of $\\psi^{i,n}$ to be utilized to define more complex materials. $\\psi^{i,n}_{1,j}$ and $\\psi^{i,n}_{2,j}$ are defined as follows\n",
    "$$\\psi^n_{1,j}=E^{i,n}\\Delta\\chi^{0}_{1,j}+\\psi^{n-1}_{1,j}e^{\\Delta t\\left(-\\gamma_j+\\beta_j\\right)}$$\n",
    "and\n",
    "$$\\psi^n_{2,j}=E^{i,n}\\Delta\\chi^{0}_{2,j}+\\psi^{n-1}_{2,j}e^{\\Delta t\\left(-\\gamma_j-\\beta_j\\right)}$$\n",
    "where $\\Delta\\chi^0$ represents the difference in susceptability between the first two steps in discritized time. It is computed as follows\n",
    "$$\n",
    "\\Delta\\chi^{0}_{1,j}=\\chi^0_{1,j}\\left(1-e^{\\Delta t\\left(-\\gamma_j+\\beta_j\\right)}\\right) \\\\\n",
    "\\Delta\\chi^{0}_{2,j}=\\chi^0_{2,j}\\left(1-e^{\\Delta t\\left(-\\gamma_j-\\beta_j\\right)}\\right)\n",
    "$$\n",
    "As one might expect, $\\chi^0$ represents the susceptability of the material at the $0$th time step. It is computed as follows\n",
    "$$\n",
    "\\chi^0_{1,j}=\\frac{A_{1,j}}{-\\gamma_j+\\beta_j}\\left[e^{(-\\gamma_j+\\beta_j)\\Delta t}-1\\right] \\\\\n",
    "\\chi^0_{2,j}=\\frac{A_{2,j}}{-\\gamma_j-\\beta_j}\\left[e^{(-\\gamma_j-\\beta_j)\\Delta t}-1\\right]\n",
    "$$\n",
    "The `rcfdtd_sim` package implements these update equations to simulate planewaves interacting with various materials. An example of how `rcfdtd_sim` can be used follows.\n",
    "\n",
    "Example\n",
    "-------\n",
    "We begin by importing the `Sim` (used for simulation) and `Mat` (used to define materials) classes, as well as other needed imports"
   ]
  },
  {
   "cell_type": "code",
   "execution_count": 1,
   "metadata": {
    "slideshow": {
     "slide_type": "notes"
    }
   },
   "outputs": [],
   "source": [
    "import numpy as np\n",
    "from matplotlib import pyplot as plt\n",
    "from rcfdtd_sim.sim import Sim, Current, Mat\n",
    "from rcfdtd_sim import vis"
   ]
  },
  {
   "cell_type": "markdown",
   "metadata": {},
   "source": [
    "We next want to define our constants. We start with the speed of light `c0`."
   ]
  },
  {
   "cell_type": "code",
   "execution_count": 2,
   "metadata": {},
   "outputs": [],
   "source": [
    "c0 = 1 # 300 um/ps"
   ]
  },
  {
   "cell_type": "markdown",
   "metadata": {},
   "source": [
    "Glancing at the update equations, it is clear that we need to choose $\\Delta t$ and $\\Delta z$ (which are represented as `dn` and `di` in the code, respectively) such that\n",
    "$$\n",
    "\\frac{1}{\\mu_0}\\frac{\\Delta t}{\\Delta z}=\\left(\\frac{1}{\\epsilon_0}\\frac{\\Delta t}{\\Delta z}\\right)^{-1}\n",
    "$$\n",
    "as otherwise in the case of vacuum (where $\\epsilon_\\infty+\\chi^0=1$) the update equations will cause both the E-field and H-field to grow in amplitude every two time iterations. As such\n",
    "$$\n",
    "\\frac{1}{\\mu_0}\\frac{\\Delta t}{\\Delta z}=\\left(\\frac{1}{\\epsilon_0}\\frac{\\Delta t}{\\Delta z}\\right)^{-1} \\to \\frac{1}{\\mu_0\\epsilon_0}\\left(\\frac{\\Delta t}{\\Delta z}\\right)^2=1 \\to c_0^2\\left(\\frac{\\Delta t}{\\Delta z}\\right)^2=1 \\to \\Delta t=\\frac{\\Delta z}{c_0}\n",
    "$$\n",
    "So"
   ]
  },
  {
   "cell_type": "code",
   "execution_count": 3,
   "metadata": {},
   "outputs": [],
   "source": [
    "di = 0.003 # 0.003 um\n",
    "dn = di/c0 # (0.003 um) / (300 um/ps) = 0.00001 ps = 0.01 fs"
   ]
  },
  {
   "cell_type": "markdown",
   "metadata": {},
   "source": [
    "Since\n",
    "$$c=\\frac{1}{\\sqrt{\\epsilon_0\\mu_0}}$$\n",
    "we can set\n",
    "$$\n",
    "\\epsilon_0=1 \\\\\n",
    "\\mu_0=1\n",
    "$$"
   ]
  },
  {
   "cell_type": "code",
   "execution_count": 4,
   "metadata": {},
   "outputs": [],
   "source": [
    "epsilon0 = 1\n",
    "mu0 = 1"
   ]
  },
  {
   "cell_type": "markdown",
   "metadata": {},
   "source": [
    "We next wish to choose the bounds of our simulation in both space and time. Lets say we want our simulation to span from $-3$um to $3$um in space and from $-5$ps to $10$ps in time"
   ]
  },
  {
   "cell_type": "code",
   "execution_count": 5,
   "metadata": {},
   "outputs": [],
   "source": [
    "i0 = -3\n",
    "i1 = 3\n",
    "n0 = -5\n",
    "n1 = 10"
   ]
  },
  {
   "cell_type": "markdown",
   "metadata": {},
   "source": [
    "We now utilize the `Sim` class for the first time by making use of its static function `calc_dims`, which yields the dimensions of the simulation in discritized cells"
   ]
  },
  {
   "cell_type": "code",
   "execution_count": 6,
   "metadata": {},
   "outputs": [
    {
     "name": "stdout",
     "output_type": "stream",
     "text": [
      "nlen=5000, ilen=2002\n"
     ]
    }
   ],
   "source": [
    "nlen, ilen = Sim.calc_dims(n0, n1, dn, i0, i1, di)\n",
    "print(f'nlen={nlen}, ilen={ilen}')"
   ]
  },
  {
   "cell_type": "markdown",
   "metadata": {},
   "source": [
    "Now that we know the dimensions of our simulation we can construct our current pulse and material. (You might be thinking that `ilen` is two cells larger than expected-this is done purposefully as the cells on each end are set specially to account for various boundary conditions.) We begin by creating a few objects that will help us create the pulse and material."
   ]
  },
  {
   "cell_type": "code",
   "execution_count": 7,
   "metadata": {},
   "outputs": [],
   "source": [
    "# Create a arrays that hold the value of the center of each cell\n",
    "z = np.linspace(i0+di/2, i1+di/2, ilen, endpoint=False)\n",
    "t = np.linspace(n0+dn/2, n1+dn/2, nlen, endpoint=False)"
   ]
  },
  {
   "cell_type": "markdown",
   "metadata": {},
   "source": [
    "Lets position our current pulse at $-2$um and have our material span from $0$um to $3$um"
   ]
  },
  {
   "cell_type": "code",
   "execution_count": 8,
   "metadata": {},
   "outputs": [],
   "source": [
    "cp_loc_val = -2\n",
    "m_s_val = 0\n",
    "m_e_val = 3"
   ]
  },
  {
   "cell_type": "markdown",
   "metadata": {},
   "source": [
    "We use `t` to determine the indicies that correspond to these locations"
   ]
  },
  {
   "cell_type": "code",
   "execution_count": 9,
   "metadata": {},
   "outputs": [
    {
     "name": "stdout",
     "output_type": "stream",
     "text": [
      "cp_loc_ind=333, m_s_ind=1000, m_e_ind=2001\n"
     ]
    }
   ],
   "source": [
    "cp_loc_ind = np.argmin(np.abs(np.subtract(z, cp_loc_val)))\n",
    "m_s_ind = np.argmin(np.abs(np.subtract(z, m_s_val)))\n",
    "m_e_ind = np.argmin(np.abs(np.subtract(z, m_e_val)))\n",
    "print(f'cp_loc_ind={cp_loc_ind}, m_s_ind={m_s_ind}, m_e_ind={m_e_ind}')"
   ]
  },
  {
   "cell_type": "markdown",
   "metadata": {},
   "source": [
    "We are going to use a Gaussian current pulse centered at $0$ps. We are now prepared to create our current pulse and material. We start by making the pulse and plotting it in time."
   ]
  },
  {
   "cell_type": "code",
   "execution_count": 10,
   "metadata": {},
   "outputs": [
    {
     "data": {
      "image/png": "[encoded data removed]",
      "text/plain": [
       "<Figure size 432x288 with 1 Axes>"
      ]
     },
     "metadata": {},
     "output_type": "display_data"
    }
   ],
   "source": [
    "cp_time_val = 0\n",
    "# Make pulse\n",
    "cpulse = np.diff(np.diff(np.exp(-((t-cp_time_val)**2)/(0.1))))\n",
    "# Plot\n",
    "plt.plot(t[:-2], cpulse)\n",
    "plt.show()"
   ]
  },
  {
   "cell_type": "markdown",
   "metadata": {},
   "source": [
    "As expected the pulse is centered at $t=0$. We place the pulse into the `Current` object."
   ]
  },
  {
   "cell_type": "code",
   "execution_count": 11,
   "metadata": {},
   "outputs": [],
   "source": [
    "current = Current(nlen, ilen, 0, cp_loc_ind, cpulse)"
   ]
  },
  {
   "cell_type": "markdown",
   "metadata": {},
   "source": [
    "We choose constants for our material. We will be using a uniform material with a single oscillator. By single oscillator we mean\n",
    "$$\n",
    "\\sum_j\\left(\\psi^{i,n}_{1,j}+\\psi^{i,n}_{2,j}\\right)=\\psi^{i,n}_{1,1}+\\psi^{i,n}_{2,1}\n",
    "$$\n",
    "We choose $\\gamma$ and $\\omega$ as well as $A_1$ and $A_2$. $\\beta$ is calculated via\n",
    "$$\n",
    "\\beta=\\sqrt{\\gamma^2-\\omega^2}\n",
    "$$"
   ]
  },
  {
   "cell_type": "code",
   "execution_count": 12,
   "metadata": {},
   "outputs": [],
   "source": [
    "# Set constants\n",
    "gamma = np.complex64(0.01 * 2 * np.pi)\n",
    "omega = np.complex64(0.0)\n",
    "a1 = np.complex64(160/(2*gamma))\n",
    "a2 = np.complex64(-160/(2*gamma))\n",
    "# Calculate beta\n",
    "beta = np.sqrt(np.add(np.square(gamma), -np.square(omega)))"
   ]
  },
  {
   "cell_type": "markdown",
   "metadata": {},
   "source": [
    "We need to represent each constant in our material in a matrix with the following structure\n",
    "![title](../docs/images/material_numpy_structure.png)\n",
    "Since we are only using a single oscillator, the number of $j$ indicies is 1. The number of $i$ indicies can be calculated from the difference between the material end and start indicies. We need to create a separate matrix for $\\gamma$, $\\beta$, $A_1$, and $A_2$. Since our material is constant (i.e. its properties don't change over time and space), every matrix will be populated with identical elements. We create these matricies next"
   ]
  },
  {
   "cell_type": "code",
   "execution_count": 13,
   "metadata": {},
   "outputs": [],
   "source": [
    "# Determine matrix length\n",
    "mlen = m_e_ind - m_s_ind\n",
    "# Create matrices\n",
    "m = np.ones((1, mlen), dtype=np.complex64)\n",
    "mgamma = m * gamma\n",
    "mbeta = m * beta\n",
    "ma1 = m * a1\n",
    "ma2 = m * a2"
   ]
  },
  {
   "cell_type": "markdown",
   "metadata": {},
   "source": [
    "We finally define the high frequency permittivity of our material and create our material object"
   ]
  },
  {
   "cell_type": "code",
   "execution_count": 14,
   "metadata": {},
   "outputs": [],
   "source": [
    "inf_perm = 16\n",
    "material = Mat(dn, ilen, m_s_ind, inf_perm, ma1, ma2, mgamma, mbeta)"
   ]
  },
  {
   "cell_type": "markdown",
   "metadata": {},
   "source": [
    "We are now ready to run our simulation! We create our simulation object, storing $1/5$ of the field values (by setting `nstore=int(nlen/5)`) as well as all the field values at `i=1` and `i=ilen-2` (by setting `storelocs=[1,ilen-2]`). We then call the simulation object's `simulate` function to run the simulation"
   ]
  },
  {
   "cell_type": "code",
   "execution_count": 15,
   "metadata": {},
   "outputs": [
    {
     "name": "stderr",
     "output_type": "stream",
     "text": [
      "Executing simulation: 100%|██████████| 5000/5000 [00:02<00:00, 1869.57it/s]\n"
     ]
    }
   ],
   "source": [
    "# Create Sim object\n",
    "s = Sim(i0, i1, di, n0, n1, dn, epsilon0, mu0, 'absorbing', current, material, nstore=int(nlen/5), storelocs=[1,ilen-2])\n",
    "# Run simulation\n",
    "s.simulate()"
   ]
  },
  {
   "cell_type": "markdown",
   "metadata": {},
   "source": [
    "We can now examine the results of our simulation using the functions stored in `vis`. We start by viewing the E-field and H-field passing points $i=1$ and $i=2000$ as a function of time using the `plot_loc` function"
   ]
  },
  {
   "cell_type": "code",
   "execution_count": 16,
   "metadata": {},
   "outputs": [
    {
     "data": {
      "image/png": "[encoded data removed]",
      "text/plain": [
       "<Figure size 432x288 with 2 Axes>"
      ]
     },
     "metadata": {},
     "output_type": "display_data"
    }
   ],
   "source": [
    "vis.plot_loc(s, nunit='ps')"
   ]
  },
  {
   "cell_type": "markdown",
   "metadata": {},
   "source": [
    "We also save a video of the simulation in time by using the `timeseries` function"
   ]
  },
  {
   "cell_type": "code",
   "execution_count": 17,
   "metadata": {},
   "outputs": [],
   "source": [
    "# Don't view inline\n",
    "%matplotlib qt"
   ]
  },
  {
   "cell_type": "code",
   "execution_count": 18,
   "metadata": {},
   "outputs": [],
   "source": [
    "vis.timeseries(s, iunit='microns')"
   ]
  }
 ],
 "metadata": {
  "kernelspec": {
   "display_name": "Python 3",
   "language": "python",
   "name": "python3"
  },
  "language_info": {
   "codemirror_mode": {
    "name": "ipython",
    "version": 3
   },
   "file_extension": ".py",
   "mimetype": "text/x-python",
   "name": "python",
   "nbconvert_exporter": "python",
   "pygments_lexer": "ipython3",
   "version": "3.6.5"
  }
 },
 "nbformat": 4,
 "nbformat_minor": 2
}
