{
 "cells": [
  {
   "cell_type": "markdown",
   "metadata": {},
   "source": [
    "## Setup Simulation\n",
    "\n",
    "Import needed libraries and define constants"
   ]
  },
  {
   "cell_type": "code",
   "execution_count": null,
   "metadata": {},
   "outputs": [],
   "source": [
    "# Stop inline plotting\n",
    "%matplotlib qt\n",
    "#Imports\n",
    "from rcfdtd_sim import Sim, Current, Mat, vis\n",
    "import numpy as np\n",
    "from scipy.fftpack import fft, fftfreq\n",
    "from matplotlib import pyplot as plt\n",
    "from pathlib import Path\n",
    "# Determine file save name\n",
    "fsave = 'sim_res_v3.npz'\n",
    "# Constants\n",
    "c0 = 1 # um/ps\n",
    "di = 0.3 # 0.3 um\n",
    "dn = di/c0 # (0.3 um) / (300 um/ps) = 0.001 ps = 1 fs\n",
    "epsilon0 = 1\n",
    "mu0 = 1"
   ]
  },
  {
   "cell_type": "markdown",
   "metadata": {},
   "source": [
    "Define simulation bounds (total width $1.5$mm and total time $200$ps) and calculate length in indicies"
   ]
  },
  {
   "cell_type": "code",
   "execution_count": null,
   "metadata": {},
   "outputs": [],
   "source": [
    "# Define bounds\n",
    "i0 = -500 # -500 um\n",
    "i1 = 1500 # 1500 um\n",
    "n0 = -900 # (1 fs) * (-900 um) / (0.3 um/step) = (1 fs) * (-3,000 steps) = -3,000 fs = -3 ps\n",
    "n1 = 59100 # (1 fs) * (59100 um) / (0.3 um/step) = (1 fs) * (197,000 steps) = 197,000 fs = 197 ps\n",
    "# Calculate dimensions\n",
    "nlen, ilen = Sim.calc_dims(n0, n1, dn, i0, i1, di)"
   ]
  },
  {
   "cell_type": "code",
   "execution_count": null,
   "metadata": {},
   "outputs": [],
   "source": [
    "print(nlen, ilen)"
   ]
  },
  {
   "cell_type": "markdown",
   "metadata": {},
   "source": [
    "Create our time and space arrays to help construct our material and current pulse"
   ]
  },
  {
   "cell_type": "code",
   "execution_count": null,
   "metadata": {},
   "outputs": [],
   "source": [
    "# Create a arrays that hold the value of the center of each cell\n",
    "t = np.linspace(n0+dn/2, n1+dn/2, nlen, endpoint=False) * (10/3) # Multiply by 10/3 to get from um -> fs\n",
    "z = np.linspace(i0+di/2, i1+di/2, ilen, endpoint=False)"
   ]
  },
  {
   "cell_type": "markdown",
   "metadata": {},
   "source": [
    "## Setup Current\n",
    "\n",
    "Specify the location of our current pulse in time and space"
   ]
  },
  {
   "cell_type": "code",
   "execution_count": null,
   "metadata": {},
   "outputs": [],
   "source": [
    "cp_loc_val = -250 # -250 um\n",
    "cp_time_val = 0 # 0 fs"
   ]
  },
  {
   "cell_type": "markdown",
   "metadata": {},
   "source": [
    "Determine the simulation indicies that correspond to these locations"
   ]
  },
  {
   "cell_type": "code",
   "execution_count": null,
   "metadata": {},
   "outputs": [],
   "source": [
    "# Find indicies\n",
    "cp_loc_ind = np.argmin(np.abs(np.subtract(z, cp_loc_val)))\n",
    "cp_time_ind = np.argmin(np.abs(np.subtract(t, cp_time_val)))\n",
    "# Find start and end indicies in time\n",
    "spread = int(500 / 1) # (500 fs) / (1 fs/step) = 500 steps\n",
    "cp_time_s = cp_time_ind - spread\n",
    "cp_time_e = cp_time_ind + spread"
   ]
  },
  {
   "cell_type": "markdown",
   "metadata": {},
   "source": [
    "Create the current pulse"
   ]
  },
  {
   "cell_type": "code",
   "execution_count": null,
   "metadata": {},
   "outputs": [],
   "source": [
    "# Make pulse\n",
    "cpulse = np.append(np.diff(np.diff(np.exp(-((t[cp_time_s:cp_time_e]-cp_time_val)**2)/(2e4)))), [0,0])\n",
    "# Plot\n",
    "plt.plot(t[cp_time_s:cp_time_e], cpulse)\n",
    "plt.xlabel('time [fs]')\n",
    "plt.ylabel('current [mA]')\n",
    "plt.show()\n",
    "# Create Current object\n",
    "current = Current(nlen, ilen, cp_time_s, cp_loc_ind, cpulse)"
   ]
  },
  {
   "cell_type": "markdown",
   "metadata": {},
   "source": [
    "## Setup Material\n",
    "\n",
    "Specify the location of our material (which will be $1.25$mm in length)"
   ]
  },
  {
   "cell_type": "code",
   "execution_count": null,
   "metadata": {},
   "outputs": [],
   "source": [
    "# Set material length\n",
    "m_len = 1250 # 1250 um = 1.25mm\n",
    "# Set locations\n",
    "m_s_val = 0\n",
    "m_e_val = m_s_val + m_len"
   ]
  },
  {
   "cell_type": "markdown",
   "metadata": {},
   "source": [
    "Calculate the starting and ending indicies of our material"
   ]
  },
  {
   "cell_type": "code",
   "execution_count": null,
   "metadata": {},
   "outputs": [],
   "source": [
    "m_s_ind = np.argmin(np.abs(np.subtract(z, m_s_val)))\n",
    "m_e_ind = np.argmin(np.abs(np.subtract(z, m_e_val)))"
   ]
  },
  {
   "cell_type": "markdown",
   "metadata": {},
   "source": [
    "Setup material behavior"
   ]
  },
  {
   "cell_type": "code",
   "execution_count": null,
   "metadata": {},
   "outputs": [],
   "source": [
    "# Set constants\n",
    "a = np.complex64(1)\n",
    "gamma = np.complex64(0.01)\n",
    "freq = np.complex64(1)\n",
    "# Calculate beta\n",
    "ang_gamma = np.complex64(gamma * 2 * np.pi)\n",
    "omega = np.complex64(freq * 2 * np.pi)\n",
    "beta = np.sqrt(np.add(np.square(ang_gamma), -np.square(omega)), dtype=np.complex64)\n",
    "a1 = np.complex64(a/(2*beta))\n",
    "a2 = np.complex64(-a/(2*beta))"
   ]
  },
  {
   "cell_type": "code",
   "execution_count": null,
   "metadata": {},
   "outputs": [],
   "source": [
    "print(gamma, beta, a1, a2)"
   ]
  },
  {
   "cell_type": "markdown",
   "metadata": {},
   "source": [
    "Create our material behavior matrices"
   ]
  },
  {
   "cell_type": "code",
   "execution_count": null,
   "metadata": {},
   "outputs": [],
   "source": [
    "# Determine matrix length\n",
    "mlen = m_e_ind - m_s_ind\n",
    "# Create matrices\n",
    "m = np.ones((1, mlen), dtype=np.complex64)\n",
    "mgamma = m * ang_gamma\n",
    "mbeta = m * beta\n",
    "ma1 = m * a1\n",
    "ma2 = m * a2"
   ]
  },
  {
   "cell_type": "markdown",
   "metadata": {},
   "source": [
    "Create our material object"
   ]
  },
  {
   "cell_type": "code",
   "execution_count": null,
   "metadata": {},
   "outputs": [],
   "source": [
    "inf_perm = 16\n",
    "material = Mat(dn, ilen, nlen, m_s_ind, inf_perm, ma1, ma2, mgamma, mbeta, storelocs=[1])"
   ]
  },
  {
   "cell_type": "markdown",
   "metadata": {},
   "source": [
    "## Running the Simulation\n",
    "\n",
    "Create and run our simulation (or load simulation if one already exists)"
   ]
  },
  {
   "cell_type": "code",
   "execution_count": null,
   "metadata": {},
   "outputs": [],
   "source": [
    "# Create Sim object\n",
    "s = Sim(i0, i1, di, n0, n1, dn, epsilon0, mu0, 'absorbing', current, material, nstore=int(nlen/40), storelocs=[5,ilen-6])\n",
    "# Run simulation if simulation save doesn't exist\n",
    "sim_file = Path(fsave)\n",
    "if False: #sim_file.is_file():\n",
    "    # Load results\n",
    "    dat = np.load(fsave)\n",
    "    n = dat['n']\n",
    "    ls = dat['ls']\n",
    "    els = dat['els']\n",
    "    erls = dat['erls']\n",
    "    hls = dat['hls']\n",
    "    hrls = dat['hrls']\n",
    "    chi = dat['chi']\n",
    "else:\n",
    "    # Run simulation\n",
    "    s.simulate()\n",
    "    # Export visualization\n",
    "    vis.timeseries(s, iunit='um')#, fname=fsave+'.mp4')\n",
    "    # Export and save arrays\n",
    "    n, ls, els, erls, hls, hrls = s.export_locs()\n",
    "    ls_mat, chi = material.export_locs()\n",
    "    n = n * (10/3) # 10/3 scale factor converts from um -> fs\n",
    "    #np.savez(fsave, n=n, ls=ls, els=els, erls=erls, hls=hls, hrls=hrls, chi=chi)"
   ]
  },
  {
   "cell_type": "markdown",
   "metadata": {},
   "source": [
    "Transform time-domain fields into frequency domain fields, extract transmission coefficient $\\tilde T=A(\\omega)+i\\phi(\\omega)$ into `spec_m` and `spec_a` arrays representing $A(\\omega)$ and $\\phi(\\omega)$, respectively. Plot the results"
   ]
  },
  {
   "cell_type": "code",
   "execution_count": null,
   "metadata": {},
   "outputs": [],
   "source": [
    "# Calculate time difference\n",
    "dn = np.diff(n)[0] # Calculate time step difference in fs\n",
    "\n",
    "# Calculate Fourier transforms\n",
    "freq = fftfreq(nlen, dn) * 1e3 # in THz (since dt=1fs, 1/dt = 1/fs = 10^15/s = 10^3*10^12/s = 10^3*THz)\n",
    "incf = fft(erls[:,1])\n",
    "transf = fft(els[:,1])\n",
    "\n",
    "# Determine the number of data points and trim transforms to size (i.e. remove DC and negative frequencies)\n",
    "freq = freq[1:int(nlen/2)]\n",
    "incf = incf[1:int(nlen/2)]\n",
    "transf = transf[1:int(nlen/2)]\n",
    "\n",
    "# Calculate spectrum in frequency\n",
    "spec = np.square(np.divide(transf, incf))\n",
    "spec_m = np.absolute(spec)\n",
    "spec_a = np.angle(spec)\n",
    "\n",
    "# Plot\n",
    "fig, (ax0, ax1) = plt.subplots(nrows=2, sharex=True, dpi=100)\n",
    "ax0.plot(freq, spec_m)\n",
    "ax1.plot(freq, spec_a)\n",
    "ax0.set_ylim(0, 1.5)\n",
    "ax1.set_xlim(0, 1e0)\n",
    "ax0.set_ylabel(r'$T(\\nu)$')\n",
    "ax1.set_ylabel(r'$\\phi(\\nu)$ [rad]')\n",
    "ax1.set_xlabel(r'$\\nu$ [THz]')\n",
    "plt.show()"
   ]
  },
  {
   "cell_type": "markdown",
   "metadata": {},
   "source": [
    "The cell above yields a `divide by zero` error, which I suspect might be the source of our strange result below. How best to rectify this issue? We will simply remove the indicies at which the incident field $E_i(\\omega)$ is zero."
   ]
  },
  {
   "cell_type": "code",
   "execution_count": null,
   "metadata": {},
   "outputs": [],
   "source": [
    "# Calculate time difference\n",
    "dn = np.diff(n)[0] # Calculate time step difference in fs\n",
    "\n",
    "# Calculate Fourier transforms\n",
    "freq = fftfreq(nlen, dn) * 1e3 # in THz (since dt=1fs, 1/dt = 1/fs = 10^15/s = 10^3*10^12/s = 10^3*THz)\n",
    "incf = fft(erls[:,1])\n",
    "transf = fft(els[:,1])\n",
    "\n",
    "# Determine the number of data points and trim transforms to size (i.e. remove DC and negative frequencies)\n",
    "freq = freq[1:int(nlen/2)]\n",
    "incf = incf[1:int(nlen/2)]\n",
    "transf = transf[1:int(nlen/2)]\n",
    "\n",
    "# Remove zero indicies from all arrays\n",
    "nonzero_ind = np.nonzero(incf)\n",
    "freq = freq[nonzero_ind]\n",
    "incf = incf[nonzero_ind]\n",
    "transf = transf[nonzero_ind]\n",
    "\n",
    "# Calculate spectrum in frequency\n",
    "spec = np.square(np.divide(transf, incf))\n",
    "spec_m = np.absolute(spec)\n",
    "spec_a = np.angle(spec)\n",
    "\n",
    "# Plot\n",
    "fig, (ax0, ax1) = plt.subplots(nrows=2, sharex=True, dpi=100)\n",
    "ax0.plot(freq, spec_m)\n",
    "ax1.plot(freq, spec_a)\n",
    "ax0.set_ylim(0, 1.5)\n",
    "ax1.set_xlim(0, 1e0)\n",
    "ax0.set_ylabel(r'$T(\\nu)$')\n",
    "ax1.set_ylabel(r'$\\phi(\\nu)$ [rad]')\n",
    "ax1.set_xlabel(r'$\\nu$ [THz]')\n",
    "plt.show()"
   ]
  },
  {
   "cell_type": "markdown",
   "metadata": {},
   "source": [
    "We wish to calculate the index of refraction\n",
    "$$\\tilde{n}(\\omega)=n(\\omega)+i\\kappa(\\omega)$$\n",
    "where $\\kappa\\ll n$. From Benjamin Ofori-Okai's 2016 PhD thesis p. 132 we note that in this case\n",
    "$$n(\\omega)=\\frac{c_0}{\\omega d}\\phi(\\omega)+1$$\n",
    "where $\\phi$ is the phase of the complex transmission $\\tilde{T}$ and $d$ is the length of the material. Ben's thesis also notes that\n",
    "$$\\kappa(\\omega)=-\\frac{c_0}{\\omega d}\\ln{\\left(A(\\omega)\\frac{\\left(n(\\omega)+1\\right)^2}{4n(\\omega)}\\right)}$$\n",
    "where $A(\\omega)$ is the magnitude of the complex transmission $\\tilde{T}$. However, $\\kappa\\ll n$ is not a valid assumption to make in this simulation, as we are not in the _thick sample limit_. Rather we are in the _thin sample limit_, meaning a different calculation must be performed."
   ]
  },
  {
   "cell_type": "code",
   "execution_count": null,
   "metadata": {},
   "outputs": [],
   "source": [
    "# Set constants (MAKE SURE THAT THESE ARE UP TO DATE WITH DATA TO LOAD IN)\n",
    "c0 = 1 # 300 um/ps : Taken from original.py\n",
    "L = 1250/300 # 1250 um / (300 um/ps) = 125 ps / 30 : Material length (manually divided by 300 um/ps as c0 = 1)\n",
    "\n",
    "# Calculate the angular frequency\n",
    "ang_freq = 2 * np.pi * freq # THz * 2pi\n",
    "\n",
    "# Calculate coefficients\n",
    "coeff = np.divide(c0, np.multiply(ang_freq, L))\n",
    "\n",
    "# Calculate the real part of the index of refraction\n",
    "n1 = np.multiply(coeff, spec_a) + 1\n",
    "\n",
    "del n1\n",
    "n1 = c0/(ang_freq*L)*spec_a + 1\n",
    "\n",
    "# Calculate the imaginary part of the index of refraction\n",
    "kappa1 = np.multiply(-coeff, np.log(np.multiply(spec_m, np.divide(np.square(n1+1), 4*n1))))"
   ]
  },
  {
   "cell_type": "markdown",
   "metadata": {},
   "source": [
    "We finally plot these results"
   ]
  },
  {
   "cell_type": "code",
   "execution_count": null,
   "metadata": {},
   "outputs": [],
   "source": [
    "# Setup plot\n",
    "fig = plt.figure(dpi=100)\n",
    "fig.set_dpi(150)\n",
    "ax0 = plt.gca()\n",
    "ax0.set_title('Simulation')\n",
    "ax0.set_xlabel(r'$\\omega$ [$2\\pi\\times$THz]')\n",
    "ax0.set_ylabel(r'$n$')\n",
    "ax1 = ax0.twinx()\n",
    "ax1.set_ylabel(r'$\\kappa$')\n",
    "\n",
    "# Plot n\n",
    "n1_line, = ax0.plot(ang_freq, n1, 'b-')\n",
    "ax0.set_xlim(0, 2*np.pi*1e0)\n",
    "ax0.set_ylim(0, 2)\n",
    "\n",
    "# Plot kappa\n",
    "kappa1_line, = ax1.plot(ang_freq, kappa1, 'r--')\n",
    "\n",
    "# Post formatting and display\n",
    "ax0.legend((n1_line, kappa1_line), ('$n$', '$\\kappa$'), loc=1)\n",
    "plt.show()"
   ]
  },
  {
   "cell_type": "markdown",
   "metadata": {},
   "source": [
    "We next use a Laplace transform to convert $\\chi(t)$ to $\\chi(\\omega)$. Recall that\n",
    "$$\\chi(t)=e^{-\\gamma t}\\left[A_1e^{\\beta t}+A_2e^{-\\beta t}\\right]$$\n",
    "where $\\beta=\\sqrt{\\gamma^2-\\omega_0^2}$ and $\\omega_0$ is the natural frequency of the oscillator. In the simulation we selected\n",
    "$$\n",
    "A_1=-A_2=\\frac{1}{2\\beta} \\\\\n",
    "$$\n",
    "As such $\\chi(t)$ reduces to\n",
    "$$\n",
    "\\chi(t)=A_1e^{-\\gamma t}\\left[e^{\\beta t}-e^{-\\beta t}\\right]\n",
    "$$\n",
    "We perform a Laplace transform to transform $\\chi(t)\\to\\chi(\\omega)$ via $\\mathcal{L}_\\omega\\left\\{\\chi(t)\\right\\}=\\chi(\\omega)$ where\n",
    "$$\n",
    "\\mathcal{L}_s\\left\\{f(t)\\right\\}=\\int_0^\\infty f(t)e^{-st}\\text{d}t\n",
    "$$\n",
    "which results in\n",
    "$$\n",
    "\\chi(\\omega)=A_1\\frac{2\\beta}{\\omega^2+2\\gamma\\omega+\\omega_0^2}\n",
    "$$\n",
    "Noting the value of $A_1$ that we selected, $\\chi(\\omega)$ reduces to\n",
    "$$\n",
    "\\chi(\\omega)=\\frac{1}{\\omega^2+2\\gamma\\omega+\\omega_0^2}\n",
    "$$\n",
    "We choose the following values for $\\gamma$ and $\\omega_0$\n",
    "$$\n",
    "\\gamma = 2\\pi\\times0.01 \\\\\n",
    "\\omega_0 = 2\\pi\\times1\n",
    "$$\n",
    "and create an array of $\\chi(\\omega)$"
   ]
  },
  {
   "cell_type": "code",
   "execution_count": null,
   "metadata": {},
   "outputs": [],
   "source": [
    "# Set constants\n",
    "beta = np.sqrt(np.square(ang_gamma) - np.square(omega), dtype=np.complex64)\n",
    "\n",
    "# Generate chi using omega array calculated earlier\n",
    "chi_freq = np.divide(1, np.square(ang_freq) + 2*np.multiply(ang_gamma, ang_freq) + np.square(omega))\n",
    "\n",
    "# Plot\n",
    "plt.plot(ang_freq, np.real(chi_freq))\n",
    "plt.xlim(0,1e2)\n",
    "plt.show()"
   ]
  },
  {
   "cell_type": "markdown",
   "metadata": {},
   "source": [
    "We determine the refractive index next. Note that\n",
    "$$\n",
    "n=\\frac{c}{v}=\\sqrt{\\frac{\\mu\\epsilon}{\\mu_0\\epsilon_0}}\n",
    "$$\n",
    "in our case $\\mu=\\mu_0$ and $\\epsilon=\\epsilon_0(1+\\chi)$ (as this is a linear dielectric), so\n",
    "$$\n",
    "n=1+\\chi\n",
    "$$\n",
    "Since $\\chi$ is a function of frequency $\\omega$ we find\n",
    "$$\n",
    "n(\\omega)=1+\\chi(\\omega)\n",
    "$$"
   ]
  },
  {
   "cell_type": "code",
   "execution_count": null,
   "metadata": {},
   "outputs": [],
   "source": [
    "# We determine the index of refraction (ion) next\n",
    "ion = 1+chi_freq\n",
    "\n",
    "# Setup plot\n",
    "fig = plt.figure(dpi=100)\n",
    "fig.set_dpi(150)\n",
    "ax0 = plt.gca()\n",
    "ax0.set_title('Model')\n",
    "ax0.set_xlabel(r'$\\omega$ [$2\\pi\\times$THz]')\n",
    "ax0.set_ylabel(r'$n$')\n",
    "ax1 = ax0.twinx()\n",
    "ax1.set_ylabel(r'$\\kappa$')\n",
    "\n",
    "# Plot n\n",
    "n1_line, = ax0.plot(ang_freq, np.real(ion), 'b-')\n",
    "ax0.set_xlim(0, 2*np.pi*4e0)\n",
    "\n",
    "# Plot kappa\n",
    "kappa1_line, = ax1.plot(ang_freq, np.imag(ion), 'r--')\n",
    "\n",
    "# Post formatting and display\n",
    "ax0.legend((n1_line, kappa1_line), ('$n$', '$\\kappa$'), loc=1)\n",
    "plt.show()"
   ]
  },
  {
   "cell_type": "markdown",
   "metadata": {},
   "source": [
    "We compare the $\\chi$ values from the simulation and the model"
   ]
  }
 ],
 "metadata": {
  "kernelspec": {
   "display_name": "Python 3",
   "language": "python",
   "name": "python3"
  },
  "language_info": {
   "codemirror_mode": {
    "name": "ipython",
    "version": 3
   },
   "file_extension": ".py",
   "mimetype": "text/x-python",
   "name": "python",
   "nbconvert_exporter": "python",
   "pygments_lexer": "ipython3",
   "version": "3.6.5"
  }
 },
 "nbformat": 4,
 "nbformat_minor": 2
}
