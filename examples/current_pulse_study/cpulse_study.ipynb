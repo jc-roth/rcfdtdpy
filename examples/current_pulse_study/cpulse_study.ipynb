{
 "cells": [
  {
   "cell_type": "markdown",
   "metadata": {},
   "source": [
    "## Setup Simulation\n",
    "\n",
    "Import needed libraries and define constants"
   ]
  },
  {
   "cell_type": "code",
   "execution_count": null,
   "metadata": {},
   "outputs": [],
   "source": [
    "# Set plotting in separate window\n",
    "#%matplotlib qt\n",
    "# Imports\n",
    "from rcfdtd_sim import Sim, Current, Mat, vis\n",
    "import numpy as np\n",
    "from scipy.fftpack import fft, fftfreq\n",
    "from matplotlib import pyplot as plt\n",
    "from pathlib import Path\n",
    "# Constants\n",
    "c0 = 1 # um/ps\n",
    "di = 0.003 # 0.003 um\n",
    "dn = di/c0 # (0.003 um) / (300 um/ps) = 0.00001 ps = 0.01 fs\n",
    "epsilon0 = 1\n",
    "mu0 = 1"
   ]
  },
  {
   "cell_type": "markdown",
   "metadata": {},
   "source": [
    "Define simulation bounds and calculate length in indicies"
   ]
  },
  {
   "cell_type": "code",
   "execution_count": null,
   "metadata": {},
   "outputs": [],
   "source": [
    "# Define bounds\n",
    "i0 = -5 # -5 um\n",
    "i1 = 5 # 5 um\n",
    "n0 = -90 # (0.01 fs) * (-90 um) / (0.003 um/step) = (0.01 fs) * (-30,000 steps) = -300 fs\n",
    "n1 = 210 # (0.01 fs) * (210 um) / (0.003 um/step) = (0.01 fs) * (70,000 steps) = 700 fs\n",
    "# Calculate dimensions\n",
    "nlen, ilen = Sim.calc_dims(n0, n1, dn, i0, i1, di)"
   ]
  },
  {
   "cell_type": "code",
   "execution_count": null,
   "metadata": {},
   "outputs": [],
   "source": [
    "print(nlen, ilen)"
   ]
  },
  {
   "cell_type": "markdown",
   "metadata": {},
   "source": [
    "Create our time and space arrays to help construct our material and current pulse"
   ]
  },
  {
   "cell_type": "code",
   "execution_count": null,
   "metadata": {},
   "outputs": [],
   "source": [
    "# Create a arrays that hold the value of the center of each cell\n",
    "t = np.linspace(n0+dn/2, n1+dn/2, nlen, endpoint=False) * (10/3) # Multiply by 10/3 to get from um -> fs\n",
    "z = np.linspace(i0+di/2, i1+di/2, ilen, endpoint=False)"
   ]
  },
  {
   "cell_type": "markdown",
   "metadata": {},
   "source": [
    "## Setup Material\n",
    "\n",
    "Specify the location of our material (which will be $0.09$um in length)"
   ]
  },
  {
   "cell_type": "code",
   "execution_count": null,
   "metadata": {},
   "outputs": [],
   "source": [
    "# Set material length\n",
    "m_len = 0.09 # 0.09 um\n",
    "# Set locations\n",
    "m_s_val = 0\n",
    "m_e_val = m_s_val + m_len"
   ]
  },
  {
   "cell_type": "markdown",
   "metadata": {},
   "source": [
    "Calculate the starting and ending indicies of our material"
   ]
  },
  {
   "cell_type": "code",
   "execution_count": null,
   "metadata": {},
   "outputs": [],
   "source": [
    "m_s_ind = np.argmin(np.abs(np.subtract(z, m_s_val)))\n",
    "m_e_ind = np.argmin(np.abs(np.subtract(z, m_e_val)))"
   ]
  },
  {
   "cell_type": "markdown",
   "metadata": {},
   "source": [
    "Setup material behavior"
   ]
  },
  {
   "cell_type": "code",
   "execution_count": null,
   "metadata": {},
   "outputs": [],
   "source": [
    "# Set constants\n",
    "a = np.complex64(1)\n",
    "gamma = np.complex64(0.01)\n",
    "freq = np.complex64(1)\n",
    "# Calculate beta\n",
    "ang_gamma = np.complex64(gamma * 2 * np.pi)\n",
    "omega = np.complex64(freq * 2 * np.pi)\n",
    "beta = np.sqrt(np.add(np.square(ang_gamma), -np.square(omega)), dtype=np.complex64)\n",
    "a1 = np.complex64(a/(2*beta))\n",
    "a2 = np.complex64(-a/(2*beta))"
   ]
  },
  {
   "cell_type": "code",
   "execution_count": null,
   "metadata": {},
   "outputs": [],
   "source": [
    "print(gamma, beta, a1, a2)"
   ]
  },
  {
   "cell_type": "markdown",
   "metadata": {},
   "source": [
    "Create our material behavior matrices"
   ]
  },
  {
   "cell_type": "code",
   "execution_count": null,
   "metadata": {},
   "outputs": [],
   "source": [
    "# Determine matrix length\n",
    "mlen = m_e_ind - m_s_ind\n",
    "# Create matrices\n",
    "m = np.ones((1, mlen), dtype=np.complex64)\n",
    "mgamma = m * ang_gamma\n",
    "mbeta = m * beta\n",
    "ma1 = m * a1\n",
    "ma2 = m * a2"
   ]
  },
  {
   "cell_type": "markdown",
   "metadata": {},
   "source": [
    "Create our material object"
   ]
  },
  {
   "cell_type": "code",
   "execution_count": null,
   "metadata": {},
   "outputs": [],
   "source": [
    "inf_perm = 16\n",
    "material = Mat(dn, ilen, nlen, m_s_ind, inf_perm, ma1, ma2, mgamma, mbeta, storelocs=[1])"
   ]
  },
  {
   "cell_type": "markdown",
   "metadata": {},
   "source": [
    "## Specifying Currents\n",
    "\n",
    "Specify the location of our current pulses in time and space"
   ]
  },
  {
   "cell_type": "code",
   "execution_count": null,
   "metadata": {},
   "outputs": [],
   "source": [
    "cp_loc_val = -3 # -3 um\n",
    "cp_time_val = 0 # 0 fs"
   ]
  },
  {
   "cell_type": "markdown",
   "metadata": {},
   "source": [
    "Determine the simulation indicies that correspond to these locations"
   ]
  },
  {
   "cell_type": "code",
   "execution_count": null,
   "metadata": {},
   "outputs": [],
   "source": [
    "# Find indicies\n",
    "cp_loc_ind = np.argmin(np.abs(np.subtract(z, cp_loc_val)))\n",
    "cp_time_ind = np.argmin(np.abs(np.subtract(t, cp_time_val)))\n",
    "# Find start and end indicies in time\n",
    "spread = int(250 / 0.01) # (250 fs) / (0.01 fs/step) = 25,000 steps\n",
    "cp_time_s = cp_time_ind - spread\n",
    "cp_time_e = cp_time_ind + spread"
   ]
  },
  {
   "cell_type": "markdown",
   "metadata": {},
   "source": [
    "Make a list to hold our current pulses"
   ]
  },
  {
   "cell_type": "code",
   "execution_count": null,
   "metadata": {},
   "outputs": [],
   "source": [
    "cpulse_list_names = ['gauss', 'd_gauss', 'dd_gauss', 'ddd_gauss', 'dddd_gauss', 'loren', 'd_loren', 'dd_loren']\n",
    "cpulse_list = []"
   ]
  },
  {
   "cell_type": "markdown",
   "metadata": {},
   "source": [
    "Create the Gaussian current pulse"
   ]
  },
  {
   "cell_type": "code",
   "execution_count": null,
   "metadata": {},
   "outputs": [],
   "source": [
    "# Make pulse\n",
    "cpulse = np.exp(-((t[cp_time_s:cp_time_e]-cp_time_val)**2)/(6e3))\n",
    "# Plot\n",
    "plt.plot(t[cp_time_s:cp_time_e], cpulse)\n",
    "plt.xlabel('time [fs]')\n",
    "plt.ylabel('current [mA]')\n",
    "plt.show()\n",
    "# Create Current object\n",
    "current = Current(nlen, ilen, cp_time_s, cp_loc_ind, cpulse)\n",
    "# Add to list\n",
    "cpulse_list.append(current)"
   ]
  },
  {
   "cell_type": "markdown",
   "metadata": {},
   "source": [
    "Create the first derivative of the Gaussian current pulse"
   ]
  },
  {
   "cell_type": "code",
   "execution_count": null,
   "metadata": {},
   "outputs": [],
   "source": [
    "# Make pulse\n",
    "cpulse = np.append(np.diff(np.exp(-((t[cp_time_s:cp_time_e]-cp_time_val)**2)/(6e3))), [0])\n",
    "# Plot\n",
    "plt.plot(t[cp_time_s:cp_time_e], cpulse)\n",
    "plt.xlabel('time [fs]')\n",
    "plt.ylabel('current [mA]')\n",
    "plt.show()\n",
    "# Create Current object\n",
    "current = Current(nlen, ilen, cp_time_s, cp_loc_ind, cpulse)\n",
    "# Add to list\n",
    "cpulse_list.append(current)"
   ]
  },
  {
   "cell_type": "markdown",
   "metadata": {},
   "source": [
    "Create the second derivative of the Gaussian current pulse"
   ]
  },
  {
   "cell_type": "code",
   "execution_count": null,
   "metadata": {},
   "outputs": [],
   "source": [
    "# Make pulse\n",
    "cpulse = np.append(np.diff(np.diff(np.exp(-((t[cp_time_s:cp_time_e]-cp_time_val)**2)/(6e3)))), [0,0])\n",
    "# Plot\n",
    "plt.plot(t[cp_time_s:cp_time_e], cpulse)\n",
    "plt.xlabel('time [fs]')\n",
    "plt.ylabel('current [mA]')\n",
    "plt.show()\n",
    "# Create Current object\n",
    "current = Current(nlen, ilen, cp_time_s, cp_loc_ind, cpulse)\n",
    "# Add to list\n",
    "cpulse_list.append(current)"
   ]
  },
  {
   "cell_type": "markdown",
   "metadata": {},
   "source": [
    "Create the third derivative of the Gaussian current pulse"
   ]
  },
  {
   "cell_type": "code",
   "execution_count": null,
   "metadata": {},
   "outputs": [],
   "source": [
    "# Make pulse\n",
    "cpulse = np.append(np.diff(np.diff(np.diff(np.exp(-((t[cp_time_s:cp_time_e]-cp_time_val)**2)/(6e3))))), [0,0,0])\n",
    "# Plot\n",
    "plt.plot(t[cp_time_s:cp_time_e], cpulse)\n",
    "plt.xlabel('time [fs]')\n",
    "plt.ylabel('current [mA]')\n",
    "plt.show()\n",
    "# Create Current object\n",
    "current = Current(nlen, ilen, cp_time_s, cp_loc_ind, cpulse)\n",
    "# Add to list\n",
    "cpulse_list.append(current)"
   ]
  },
  {
   "cell_type": "markdown",
   "metadata": {},
   "source": [
    "Create the fourth derivative of the Gaussian current pulse"
   ]
  },
  {
   "cell_type": "code",
   "execution_count": null,
   "metadata": {},
   "outputs": [],
   "source": [
    "# Make pulse\n",
    "cpulse = np.append(np.diff(np.diff(np.diff(np.diff(np.exp(-((t[cp_time_s:cp_time_e]-cp_time_val)**2)/(6e3)))))), [0,0,0,0])\n",
    "# Plot\n",
    "plt.plot(t[cp_time_s:cp_time_e], cpulse)\n",
    "plt.xlabel('time [fs]')\n",
    "plt.ylabel('current [mA]')\n",
    "plt.show()\n",
    "# Create Current object\n",
    "current = Current(nlen, ilen, cp_time_s, cp_loc_ind, cpulse)\n",
    "# Add to list\n",
    "cpulse_list.append(current)"
   ]
  },
  {
   "cell_type": "markdown",
   "metadata": {},
   "source": [
    "Create the Lorentzian current pulse"
   ]
  },
  {
   "cell_type": "code",
   "execution_count": null,
   "metadata": {},
   "outputs": [],
   "source": [
    "# Make pulse\n",
    "Gamma = 80\n",
    "cpulse = np.divide(0.5*Gamma, np.pi*np.add(np.square(t[cp_time_s:cp_time_e] - cp_time_val), np.square(0.5*Gamma)))\n",
    "# Plot\n",
    "plt.plot(t[cp_time_s:cp_time_e], cpulse)\n",
    "plt.xlabel('time [fs]')\n",
    "plt.ylabel('current [mA]')\n",
    "plt.show()\n",
    "# Create Current object\n",
    "current = Current(nlen, ilen, cp_time_s, cp_loc_ind, cpulse)\n",
    "# Add to list\n",
    "cpulse_list.append(current)"
   ]
  },
  {
   "cell_type": "markdown",
   "metadata": {},
   "source": [
    "Create the first derivative of the Lorentzian current pulse"
   ]
  },
  {
   "cell_type": "code",
   "execution_count": null,
   "metadata": {},
   "outputs": [],
   "source": [
    "# Make pulse\n",
    "Gamma = 80\n",
    "cpulse = np.append(np.diff(np.divide(0.5*Gamma, np.pi*np.add(np.square(t[cp_time_s:cp_time_e] - cp_time_val), np.square(0.5*Gamma)))), [0])\n",
    "# Plot\n",
    "plt.plot(t[cp_time_s:cp_time_e], cpulse)\n",
    "plt.xlabel('time [fs]')\n",
    "plt.ylabel('current [mA]')\n",
    "plt.show()\n",
    "# Create Current object\n",
    "current = Current(nlen, ilen, cp_time_s, cp_loc_ind, cpulse)\n",
    "# Add to list\n",
    "cpulse_list.append(current)"
   ]
  },
  {
   "cell_type": "markdown",
   "metadata": {},
   "source": [
    "Create the second derivative of the Lorentzian current pulse"
   ]
  },
  {
   "cell_type": "code",
   "execution_count": null,
   "metadata": {},
   "outputs": [],
   "source": [
    "# Make pulse\n",
    "Gamma = 80\n",
    "cpulse = np.append(np.diff(np.diff(np.divide(0.5*Gamma, np.pi*np.add(np.square(t[cp_time_s:cp_time_e] - cp_time_val), np.square(0.5*Gamma))))), [0,0])\n",
    "# Plot\n",
    "plt.plot(t[cp_time_s:cp_time_e], cpulse)\n",
    "plt.xlabel('time [fs]')\n",
    "plt.ylabel('current [mA]')\n",
    "plt.show()\n",
    "# Create Current object\n",
    "current = Current(nlen, ilen, cp_time_s, cp_loc_ind, cpulse)\n",
    "# Add to list\n",
    "cpulse_list.append(current)"
   ]
  },
  {
   "cell_type": "markdown",
   "metadata": {},
   "source": [
    "## Running the Simulations\n",
    "\n",
    "Create and run a simulation for each current (or load simulation result if one already exists)"
   ]
  },
  {
   "cell_type": "code",
   "execution_count": null,
   "metadata": {},
   "outputs": [],
   "source": [
    "# Loop through all currents\n",
    "for i in range(len(cpulse_list)):\n",
    "    # Extract name info and current pulse\n",
    "    sfname = cpulse_list_names[i] + '.npz'\n",
    "    tfname = cpulse_list_names[i] + '.mp4'\n",
    "    cpulse = cpulse_list[i]\n",
    "    # Only proceed if simulation doesn't exist\n",
    "    sim_file = Path(sfname)\n",
    "    if not sim_file.is_file():\n",
    "        # Create simulation object\n",
    "        s = Sim(i0, i1, di, n0, n1, dn, epsilon0, mu0, 'absorbing', cpulse, material, nstore=int(nlen/80), storelocs=[5,ilen-6])\n",
    "        # Run simulation\n",
    "        s.simulate()\n",
    "        # Save results\n",
    "        n, ls, els, erls, hls, hrls = s.export_locs()\n",
    "        ls_mat, chi = material.export_locs()\n",
    "        n = n * (10/3) # 10/3 scale factor converts from um -> fs\n",
    "        np.savez(sfname, n=n, ls=ls, els=els, erls=erls, hls=hls, hrls=hrls, chi=chi)\n",
    "        # Save timeseries\n",
    "        print('Saving ' + tfname + '... patience, this can take a while!')\n",
    "        vis.timeseries(s, iunit='um', fname=tfname)"
   ]
  },
  {
   "cell_type": "markdown",
   "metadata": {},
   "source": [
    "## Displaying simulation results\n",
    "\n",
    "We create a function to calculate $E_i(t)$, $E_t(t)$, and $E_r(t)$."
   ]
  },
  {
   "cell_type": "code",
   "execution_count": null,
   "metadata": {},
   "outputs": [],
   "source": [
    "def calc_fields(els, erls):\n",
    "    # Extract the reference E-field passing through i=ilen-6 as the incident field\n",
    "    inc = erls[:,1]\n",
    "    # Extract the E-field passing through i=ilen-6 as the transmitted field\n",
    "    trans = els[:,1]\n",
    "    # Extract the E-field passing through i=5 and the reference E-field passing through i=5 to calculate the reflected field\n",
    "    r = els[:,0] # Extract the transmitted E-field\n",
    "    rref = erls[:,0]\n",
    "    refl = r - rref\n",
    "    # Return inc, trans, refl\n",
    "    return (inc, trans, refl)"
   ]
  },
  {
   "cell_type": "markdown",
   "metadata": {},
   "source": [
    "Create a function to calculate the $E_i(\\omega)$, $E_t(\\omega)$, and $E_r(\\omega)$, that is the Fourier transforms of $E_i(t)$, $E_t(t)$, and $E_r(t)$."
   ]
  },
  {
   "cell_type": "code",
   "execution_count": null,
   "metadata": {},
   "outputs": [],
   "source": [
    "def calc_transforms(nlen, dn, inc, trans, refl):\n",
    "    # Determine the frequency axis\n",
    "    nf = fftfreq(nlen, dn) * 1e4 #  # Mulitply by 1e4 to go from units of 1e16 Hz -> 1e14 Hz which is THz\n",
    "    # Perform FFT on each field\n",
    "    incf = fft(inc)\n",
    "    transf = fft(trans)\n",
    "    reflf = fft(refl)\n",
    "    # Discard negative frequencies (at nlen/2 and above) and keep DC (at 0) for each field\n",
    "    nf = nf[0:int(nlen/2)]\n",
    "    incf = incf[0:int(nlen/2)]\n",
    "    transf = transf[0:int(nlen/2)]\n",
    "    reflf = reflf[0:int(nlen/2)]\n",
    "    # Return nf, incf, transf, and reflf\n",
    "    return (nf, incf, transf, reflf)"
   ]
  },
  {
   "cell_type": "markdown",
   "metadata": {},
   "source": [
    "Generate plots for each current simulation"
   ]
  },
  {
   "cell_type": "code",
   "execution_count": null,
   "metadata": {},
   "outputs": [],
   "source": [
    "for i in range(1):# range(len(cpulse_list)):\n",
    "    # Extract current name\n",
    "    name = cpulse_list_names[i]\n",
    "    sfname = name + '.npz'\n",
    "    sim_file = Path(fname)\n",
    "    # Only proceed if simulation files exist\n",
    "    if sim_file.is_file():\n",
    "        # Load results\n",
    "        # ------------\n",
    "        dat = np.load(sfname)\n",
    "        n = dat['n']\n",
    "        ls = dat['ls']\n",
    "        els = dat['els']\n",
    "        erls = dat['erls']\n",
    "        hls = dat['hls']\n",
    "        hrls = dat['hrls']\n",
    "        chi = dat['chi']\n",
    "        # Plot fields in time\n",
    "        # -------------------\n",
    "        # Extract fields in time\n",
    "        inc, trans, refl = calc_fields(els, erls)\n",
    "        # Calculate offsets\n",
    "        rofst = np.max(np.abs(np.real([inc, trans, refl])))\n",
    "        iofst = np.max(np.abs(np.imag([inc, trans, refl])))\n",
    "        # Plot\n",
    "        fig, (ax0, ax1) = plt.subplots(nrows=2, sharex=True)\n",
    "        ax0.plot(n, np.real(inc)+rofst, label='$\\Re(E_i(t))$')\n",
    "        ax0.plot(n, np.real(trans), label='$\\Re(E_t(t))$')\n",
    "        ax0.plot(n, np.real(refl)-rofst, label='$\\Re(E_r(t))$')\n",
    "        ax1.plot(n, np.imag(inc)+iofst, label='$\\Im(E_i(t))$')\n",
    "        ax1.plot(n, np.imag(trans), label='$\\Im(E_t(t))$')\n",
    "        ax1.plot(n, np.imag(refl)-iofst, label='$\\Im(E_r(t))$')\n",
    "        ax0.set_title(name + ' current pulse')\n",
    "        ax0.legend(loc=1)\n",
    "        ax1.legend(loc=1)\n",
    "        ax1.set_xlabel('time [ps]')\n",
    "        plt.show()\n",
    "        # Plot FFT results\n",
    "        # ----------------\n",
    "        # Calculate FFT\n",
    "        nf, incf, transf, reflf = calc_transforms(nlen, dn, inc, trans, refl)\n",
    "        # Plot\n",
    "        fig, (ax0, ax1) = plt.subplots(nrows=2, sharex=True)\n",
    "        ax0.plot(nf, np.absolute(reflf))\n",
    "        ax0.set_title('$E_r(\\omega)$')\n",
    "        ax0.set_ylabel('magnitude [?]')\n",
    "        ax1.plot(nf, np.angle(reflf))\n",
    "        ax1.set_ylabel('phase [rad]')\n",
    "        plt.xlabel('frequency [THz]')\n",
    "        #plt.xlim(0, 500)\n",
    "        plt.show()\n",
    "        # Plot Coefficients\n",
    "        # -----------------\n",
    "        # Coefficient Plot\n",
    "        R = np.divide(reflf, incf)\n",
    "        T = np.divide(transf, incf)\n",
    "        # Plot\n",
    "        fig, (ax0, ax1) = plt.subplots(nrows=2, sharex=True)\n",
    "        ax0.plot(nf, np.absolute(R), label='R')\n",
    "        ax0.plot(nf, np.absolute(T), label='T')\n",
    "        ax0.plot(nf, np.absolute(R)+np.absolute(T), label='R+T')\n",
    "        ax0.legend(loc=1)\n",
    "        ax0.set_ylabel('coefficient')\n",
    "        #ax0.set_ylim(0, 1.5)\n",
    "        ax1.plot(nf, np.angle(R), label='R')\n",
    "        ax1.plot(nf, np.angle(T), label='T')\n",
    "        ax1.plot(nf, np.angle(R)+np.angle(T), label='R+T')\n",
    "        ax1.legend(loc=1)\n",
    "        ax1.set_ylabel('phase [rad]')\n",
    "        ax1.set_xlabel('frequency [THz]')\n",
    "        #ax1.set_xlim(0, 5000)\n",
    "        plt.show()"
   ]
  }
 ],
 "metadata": {
  "kernelspec": {
   "display_name": "Python 3",
   "language": "python",
   "name": "python3"
  },
  "language_info": {
   "codemirror_mode": {
    "name": "ipython",
    "version": 3
   },
   "file_extension": ".py",
   "mimetype": "text/x-python",
   "name": "python",
   "nbconvert_exporter": "python",
   "pygments_lexer": "ipython3",
   "version": "3.6.5"
  }
 },
 "nbformat": 4,
 "nbformat_minor": 2
}
