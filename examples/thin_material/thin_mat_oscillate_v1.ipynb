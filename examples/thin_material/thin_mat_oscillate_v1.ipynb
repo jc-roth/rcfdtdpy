{
 "cells": [
  {
   "cell_type": "markdown",
   "metadata": {},
   "source": [
    "## Setup Simulation\n",
    "\n",
    "Import needed libraries and define constants"
   ]
  },
  {
   "cell_type": "code",
   "execution_count": 1,
   "metadata": {},
   "outputs": [],
   "source": [
    "# Set plotting in separate window\n",
    "%matplotlib qt\n",
    "# Imports\n",
    "from rcfdtd_sim import Sim, Current, Mat, vis\n",
    "import numpy as np\n",
    "from scipy.fftpack import fft, fftfreq\n",
    "from matplotlib import pyplot as plt\n",
    "from pathlib import Path\n",
    "# Determine file save name\n",
    "fsave = 'thin_mat_oscillate.npz'\n",
    "# Constants\n",
    "c0 = 1 # um/ps\n",
    "di = 0.03 # 0.03 um\n",
    "dn = di/c0 # (0.03 um) / (300 um/ps) = 0.0001 ps = 0.1 fs\n",
    "epsilon0 = 1\n",
    "mu0 = 1"
   ]
  },
  {
   "cell_type": "markdown",
   "metadata": {},
   "source": [
    "Define simulation bounds and calculate length in indicies"
   ]
  },
  {
   "cell_type": "code",
   "execution_count": 4,
   "metadata": {},
   "outputs": [],
   "source": [
    "# Define bounds\n",
    "i0 = -5 # -5 um\n",
    "i1 = 5.09 # 5.09 um\n",
    "n0 = -9 # (0.1 fs) * (-9 um) / (0.03 um/step) = (0.1 fs) * (-300 steps) = -30 fs\n",
    "n1 = 300 # (0.1 fs) * (300 um) / (0.03 um/step) = (0.1 fs) * (10,000 steps) = 1000 fs = 1 ps\n",
    "# Calculate dimensions\n",
    "nlen, ilen = Sim.calc_dims(n0, n1, dn, i0, i1, di)"
   ]
  },
  {
   "cell_type": "markdown",
   "metadata": {},
   "source": [
    "Create our time and space arrays to help construct our material and current pulse"
   ]
  },
  {
   "cell_type": "code",
   "execution_count": 5,
   "metadata": {},
   "outputs": [],
   "source": [
    "# Create a arrays that hold the value of the center of each cell\n",
    "t = np.linspace(n0+dn/2, n1+dn/2, nlen, endpoint=False) * (10/3) # Multiply by 10/3 to get from um -> fs\n",
    "z = np.linspace(i0+di/2, i1+di/2, ilen, endpoint=False)"
   ]
  },
  {
   "cell_type": "markdown",
   "metadata": {},
   "source": [
    "## Setup Current\n",
    "\n",
    "Specify the location of our current pulse in time and space"
   ]
  },
  {
   "cell_type": "code",
   "execution_count": 6,
   "metadata": {},
   "outputs": [],
   "source": [
    "cp_loc_val = -3 # -3 um\n",
    "cp_time_val = 0 # 0 fs"
   ]
  },
  {
   "cell_type": "markdown",
   "metadata": {},
   "source": [
    "Determine the simulation indicies that correspond to these locations"
   ]
  },
  {
   "cell_type": "code",
   "execution_count": 7,
   "metadata": {},
   "outputs": [],
   "source": [
    "# Find indicies\n",
    "cp_loc_ind = np.argmin(np.abs(np.subtract(z, cp_loc_val)))\n",
    "cp_time_ind = np.argmin(np.abs(np.subtract(t, cp_time_val)))\n",
    "# Find start and end indicies in time\n",
    "cp_time_s = cp_time_ind - 250\n",
    "cp_time_e = cp_time_ind + 250"
   ]
  },
  {
   "cell_type": "markdown",
   "metadata": {},
   "source": [
    "Create the current pulse"
   ]
  },
  {
   "cell_type": "code",
   "execution_count": 8,
   "metadata": {},
   "outputs": [],
   "source": [
    "# Make pulse\n",
    "cpulse = np.append(np.diff(np.diff(np.exp(-((t[cp_time_s:cp_time_e]-cp_time_val)**2)/(5e1)))), [0,0])\n",
    "# Plot\n",
    "plt.plot(t[cp_time_s:cp_time_e], cpulse)\n",
    "plt.xlabel('time [fs]')\n",
    "plt.ylabel('current [mA]')\n",
    "plt.show()\n",
    "# Create Current object\n",
    "current = Current(nlen, ilen, cp_time_s, cp_loc_ind, cpulse)"
   ]
  },
  {
   "cell_type": "markdown",
   "metadata": {},
   "source": [
    "## Setup Material\n",
    "\n",
    "Specify the location of our material (which will be $0.09$um in length)"
   ]
  },
  {
   "cell_type": "code",
   "execution_count": 9,
   "metadata": {},
   "outputs": [],
   "source": [
    "# Set material length\n",
    "m_len = 0.09 # 0.09 um\n",
    "# Set locations\n",
    "m_s_val = 0\n",
    "m_e_val = m_s_val + m_len"
   ]
  },
  {
   "cell_type": "markdown",
   "metadata": {},
   "source": [
    "Calculate the starting and ending indicies of our material"
   ]
  },
  {
   "cell_type": "code",
   "execution_count": 10,
   "metadata": {},
   "outputs": [],
   "source": [
    "m_s_ind = np.argmin(np.abs(np.subtract(z, m_s_val)))\n",
    "m_e_ind = np.argmin(np.abs(np.subtract(z, m_e_val)))"
   ]
  },
  {
   "cell_type": "markdown",
   "metadata": {},
   "source": [
    "Setup material behavior"
   ]
  },
  {
   "cell_type": "code",
   "execution_count": 11,
   "metadata": {},
   "outputs": [],
   "source": [
    "# Set constants\n",
    "a = np.complex64(1)\n",
    "gamma = np.complex64(0.01)\n",
    "freq = np.complex64(1)\n",
    "# Calculate beta\n",
    "ang_gamma = np.complex64(gamma * 2 * np.pi)\n",
    "omega = np.complex64(freq * 2 * np.pi)\n",
    "beta = np.sqrt(np.add(np.square(ang_gamma), -np.square(omega)), dtype=np.complex64)\n",
    "a1 = np.complex64(a/(2*beta))\n",
    "a2 = np.complex64(-a/(2*beta))"
   ]
  },
  {
   "cell_type": "code",
   "execution_count": 12,
   "metadata": {},
   "outputs": [
    {
     "name": "stdout",
     "output_type": "stream",
     "text": [
      "(0.01+0j) 6.2828712j -0.07958145j (-0+0.07958145j)\n"
     ]
    }
   ],
   "source": [
    "print(gamma, beta, a1, a2)"
   ]
  },
  {
   "cell_type": "markdown",
   "metadata": {},
   "source": [
    "Create our material behavior matrices"
   ]
  },
  {
   "cell_type": "code",
   "execution_count": 13,
   "metadata": {},
   "outputs": [],
   "source": [
    "# Determine matrix length\n",
    "mlen = m_e_ind - m_s_ind\n",
    "# Create matrices\n",
    "m = np.ones((1, mlen), dtype=np.complex64)\n",
    "mgamma = m * ang_gamma\n",
    "mbeta = m * beta\n",
    "ma1 = m * a1\n",
    "ma2 = m * a2"
   ]
  },
  {
   "cell_type": "markdown",
   "metadata": {},
   "source": [
    "Create our material object"
   ]
  },
  {
   "cell_type": "code",
   "execution_count": 14,
   "metadata": {},
   "outputs": [],
   "source": [
    "inf_perm = 16\n",
    "material = Mat(dn, ilen, nlen, m_s_ind, inf_perm, ma1, ma2, mgamma, mbeta, storelocs=[1])"
   ]
  },
  {
   "cell_type": "markdown",
   "metadata": {},
   "source": [
    "## Running the Simulation\n",
    "\n",
    "Create and run our simulation (or load simulation if one already exists)"
   ]
  },
  {
   "cell_type": "code",
   "execution_count": 15,
   "metadata": {},
   "outputs": [
    {
     "name": "stderr",
     "output_type": "stream",
     "text": [
      "Executing simulation: 100%|██████████| 10300/10300 [00:02<00:00, 4367.61it/s]\n"
     ]
    }
   ],
   "source": [
    "# Create Sim object\n",
    "s = Sim(i0, i1, di, n0, n1, dn, epsilon0, mu0, 'absorbing', current, material, nstore=int(nlen/5), storelocs=[5,ilen-6])\n",
    "# Run simulation if simulation save doesn't exist\n",
    "sim_file = Path(fsave)\n",
    "if sim_file.is_file():\n",
    "    # Load results\n",
    "    dat = np.load(fsave)\n",
    "    n = dat['n']\n",
    "    ls = dat['ls']\n",
    "    els = dat['els']\n",
    "    erls = dat['erls']\n",
    "    hls = dat['hls']\n",
    "    hrls = dat['hrls']\n",
    "    chi = dat['chi']\n",
    "else:\n",
    "    # Run simulation\n",
    "    s.simulate()\n",
    "    # Export visualization\n",
    "    vis.timeseries(s, iunit='um')#, fname=fsave+'.mp4')\n",
    "    # Export and save arrays\n",
    "    n, ls, els, erls, hls, hrls = s.export_locs()\n",
    "    ls_mat, chi = material.export_locs()\n",
    "    n = n * (10/3) # 10/3 scale factor converts from um -> fs\n",
    "    #np.savez(fsave, n=n, ls=ls, els=els, erls=erls, hls=hls, hrls=hrls, chi=chi)"
   ]
  },
  {
   "cell_type": "markdown",
   "metadata": {},
   "source": [
    "## Looking at $\\chi$\n",
    "\n",
    "We look at the value of $\\chi$ in time"
   ]
  },
  {
   "cell_type": "code",
   "execution_count": 27,
   "metadata": {},
   "outputs": [],
   "source": [
    "# Plot\n",
    "plt.plot(n, np.real(chi))\n",
    "plt.xlabel('time [fs]')\n",
    "plt.show()"
   ]
  },
  {
   "cell_type": "markdown",
   "metadata": {},
   "source": [
    "## Finding the Transmission and Reflection Coefficients\n",
    "\n",
    "### Finding the Incident, Transmitted, and Reflected Fields\n",
    "\n",
    "We ultimately wish to calculate the reflection and transmission coefficients\n",
    "$$R(\\omega)=\\frac{E_r(\\omega)}{E_i(\\omega)} \\qquad T(\\omega)=\\frac{E_t(\\omega)}{E_i(\\omega)}$$\n",
    "which means that we need to extract our incident E-field $E_i$, reflected E-field $E_r$, and transmitted E-field $E_t$ from our E-field and reference E-field passing through $i=5$ and $i=\\text{ilen}-6$ (these fields are contained in `els` and `erls`). The incident E-field $E_i$ should be equal to the reference E-field passing through $i=\\text{ilen}-6$. Since the current is only non-zero from $-20$fs to $20$fs and since it will take light propegating at $300$um/ps $27$fs to reach the end of the simulation at $5.09$um from $-3$um, we plot the reference E-field from $7$fs to $47$fs below"
   ]
  },
  {
   "cell_type": "code",
   "execution_count": 17,
   "metadata": {},
   "outputs": [],
   "source": [
    "# Plot the E-field passing through i=ilen-2\n",
    "inc = erls[:,1] # Extract the transmitted reference E-field as the incident field\n",
    "plt.plot(n, np.real(inc))\n",
    "plt.ylabel('current [?]')\n",
    "plt.xlabel('time [fs]')\n",
    "# Lets zoom in on the x-axis as described above\n",
    "plt.xlim(7, 47)\n",
    "plt.show()"
   ]
  },
  {
   "cell_type": "markdown",
   "metadata": {},
   "source": [
    "The pulse is (roughly) centered as expected. We can extract $E_i(\\omega)$ from $E^{i=\\text{ilen}-2}_\\text{ref}(t)$ via\n",
    "$$\\mathcal{F}\\left\\{E^{i=\\text{ilen}-2}_\\text{ref}(t)\\right\\}=E_i(\\omega)$$\n",
    "where $\\mathcal{F}\\left\\{A(t)\\right\\}=A(\\omega)$ denotes a Fourier Transform on $A$"
   ]
  },
  {
   "cell_type": "code",
   "execution_count": 18,
   "metadata": {},
   "outputs": [],
   "source": [
    "# Perform FFT\n",
    "incf = fft(inc)\n",
    "# Determine the frequency that each value in eef corresponds to\n",
    "nf = fftfreq(nlen, dn) * 1e4 #  # Mulitply by 1e4 to go from units of 1e16 Hz -> 1e14 Hz which is THz\n",
    "# Discard negative frequencies (at nlen/2 and above), keep DC (at 0)\n",
    "incf = incf[0:int(nlen/2)]\n",
    "nf = nf[0:int(nlen/2)]\n",
    "# Plot\n",
    "fig, (ax0, ax1) = plt.subplots(nrows=2, sharex=True)\n",
    "ax0.plot(nf, np.absolute(incf))\n",
    "ax0.set_title('$E_i(\\omega)$')\n",
    "ax0.set_ylabel('magnitude [?]')\n",
    "ax1.plot(nf, np.angle(incf))\n",
    "ax1.set_ylabel('phase [rad]')\n",
    "plt.xlabel('frequency [THz]')\n",
    "plt.xlim(0, 6000) # Truncate at 6000THz\n",
    "plt.show()"
   ]
  },
  {
   "cell_type": "markdown",
   "metadata": {},
   "source": [
    "We can determine the transmitted E-field $E_t$ from the E-field passing through $i=\\text{ilen}-2$. We plot this field below"
   ]
  },
  {
   "cell_type": "code",
   "execution_count": 19,
   "metadata": {},
   "outputs": [],
   "source": [
    "# Extract the E-field as the transmitted field\n",
    "trans = els[:,1]"
   ]
  },
  {
   "cell_type": "markdown",
   "metadata": {},
   "source": [
    "Since there will be an infinite number of reflections inside of the material, we will never capture the entire transmitted E-field. However, if we run the simulation for a long enough time the E-field remaining in the material will become negligable. We extract $E_t(\\omega)$ via\n",
    "$$\\mathcal{F}\\left\\{E^{i=\\text{ilen}-2}(t)\\right\\}=E_t(\\omega)$$\n",
    "where again $\\mathcal{F}\\left\\{A(t)\\right\\}=A(\\omega)$ denotes a Fourier Transform on $A$"
   ]
  },
  {
   "cell_type": "code",
   "execution_count": 20,
   "metadata": {},
   "outputs": [],
   "source": [
    "# Perform FFT\n",
    "transf = fft(trans)\n",
    "# Discard negative frequencies (at nlen/2 and above), keep DC (at 0)\n",
    "transf = transf[0:int(nlen/2)]\n",
    "# Plot\n",
    "fig, (ax0, ax1) = plt.subplots(nrows=2, sharex=True)\n",
    "ax0.plot(nf, np.absolute(transf))\n",
    "ax0.set_title('$E_t(\\omega)$')\n",
    "ax0.set_ylabel('magnitude [?]')\n",
    "ax1.plot(nf, np.angle(transf))\n",
    "ax1.set_ylabel('phase [rad]')\n",
    "plt.xlabel('frequency [THz]')\n",
    "plt.xlim(0, 6000) # Truncate at 6000THz\n",
    "plt.show()"
   ]
  },
  {
   "cell_type": "markdown",
   "metadata": {},
   "source": [
    "Now all that remains is to determine the reflected E-field $E_r(\\omega)$. This field is slightly harder to calculate than $E_i$ and $E_t$ as the current pulse that generates the EM pulse in the simulation actually produces two EM pulses, one traveling towards each end of the simulation. The forward propegating pulse is our incident pulse (we used this to calculate $E_i(\\omega)$ previously), while the backward propegating pulse is unwanted. Since the reference field never interacts with a material, $E^{i=1}_\\text{ref}(t)$ will only contain the backward propegating pulse. As such, we can determine the reflected field $E_r(t)$ from\n",
    "$$E_r(t)=E^{i=1}(t)-E^{i=1}_\\text{ref}(t)$$\n",
    "As in the case of determining the transmitted field $E_t$ we can never capture the entire transmitted E-field as there will be an infinite number of reflections inside the material. However, as before, if we run the simulation for a long enough time the E-field remaining in the material will become negligable."
   ]
  },
  {
   "cell_type": "code",
   "execution_count": 21,
   "metadata": {},
   "outputs": [],
   "source": [
    "# Plot the reflected E-field passing through i=1\n",
    "r = els[:,0] # Extract the transmitted E-field\n",
    "rref = erls[:,0]\n",
    "refl = r - rref"
   ]
  },
  {
   "cell_type": "markdown",
   "metadata": {},
   "source": [
    "We extract $E_t(\\omega)$ via a Fourier transform as usual\n",
    "$$\\mathcal{F}\\left\\{E_r(t)\\right\\}=E_r(\\omega)$$\n",
    "where again $\\mathcal{F}\\left\\{A(t)\\right\\}=A(\\omega)$ denotes a Fourier Transform on $A$"
   ]
  },
  {
   "cell_type": "code",
   "execution_count": 22,
   "metadata": {},
   "outputs": [],
   "source": [
    "# Perform FFT\n",
    "reflf = fft(refl)\n",
    "# Discard negative frequencies (at nlen/2 and above), keep DC (at 0)\n",
    "reflf = reflf[0:int(nlen/2)]\n",
    "# Plot\n",
    "fig, (ax0, ax1) = plt.subplots(nrows=2, sharex=True)\n",
    "ax0.plot(nf, np.absolute(reflf))\n",
    "ax0.set_title('$E_r(\\omega)$')\n",
    "ax0.set_ylabel('magnitude [?]')\n",
    "ax1.plot(nf, np.angle(reflf))\n",
    "ax1.set_ylabel('phase [rad]')\n",
    "plt.xlabel('frequency [THz]')\n",
    "plt.xlim(0, 6000) # Truncate at 6000THz\n",
    "plt.show()"
   ]
  },
  {
   "cell_type": "markdown",
   "metadata": {},
   "source": [
    "We plot $E_i(t)$, $E_t(t)$, and $E_r(t)$ together"
   ]
  },
  {
   "cell_type": "code",
   "execution_count": 23,
   "metadata": {},
   "outputs": [],
   "source": [
    "fig, (ax0, ax1) = plt.subplots(nrows=2, sharex=True)\n",
    "ax0.plot(n * 1e-3, np.real(inc)+0.00005, label='$\\Re(E_i(t))$') # 1e-3 scale factor converts from fs -> ps\n",
    "ax0.plot(n * 1e-3, np.real(trans), label='$\\Re(E_t(t))$') # 1e-3 scale factor converts from fs -> ps\n",
    "ax0.plot(n * 1e-3, np.real(refl)-0.00005, label='$\\Re(E_r(t))$') # 1e-3 scale factor converts from fs -> ps\n",
    "ax1.plot(n * 1e-3, np.imag(inc)+0.00005, label='$\\Im(E_i(t))$') # 1e-3 scale factor converts from fs -> ps\n",
    "ax1.plot(n * 1e-3, np.imag(trans), label='$\\Im(E_t(t))$') # 1e-3 scale factor converts from fs -> ps\n",
    "ax1.plot(n * 1e-3, np.imag(refl)-0.00005, label='$\\Im(E_r(t))$') # 1e-3 scale factor converts from fs -> ps\n",
    "ax0.legend(loc=1)\n",
    "ax1.legend(loc=1)\n",
    "ax1.set_xlabel('time [ps]')\n",
    "plt.show()"
   ]
  },
  {
   "cell_type": "markdown",
   "metadata": {},
   "source": [
    "### Finding the Reflection and Transmission Coefficients"
   ]
  },
  {
   "cell_type": "markdown",
   "metadata": {},
   "source": [
    "We can now finally calculate\n",
    "$$R(\\omega)=\\frac{E_r(\\omega)}{E_i(\\omega)} \\qquad T(\\omega)=\\frac{E_t(\\omega)}{E_i(\\omega)}$$"
   ]
  },
  {
   "cell_type": "code",
   "execution_count": 24,
   "metadata": {},
   "outputs": [],
   "source": [
    "# Calculate coefficients\n",
    "R = np.divide(reflf, incf)\n",
    "T = np.divide(transf, incf)\n",
    "# Plot\n",
    "fig, (ax0, ax1) = plt.subplots(nrows=2, sharex=True)\n",
    "ax0.plot(nf, np.absolute(R), label='R')\n",
    "ax0.plot(nf, np.absolute(T), label='T')\n",
    "ax0.plot(nf, np.absolute(R)+np.absolute(T), label='R+T')\n",
    "ax0.legend(loc=1)\n",
    "ax0.set_ylabel('coefficient')\n",
    "ax0.set_ylim(0, 1.5)\n",
    "ax1.plot(nf, np.angle(R), label='R')\n",
    "ax1.plot(nf, np.angle(T), label='T')\n",
    "ax1.plot(nf, np.angle(R)+np.angle(T), label='R+T')\n",
    "ax1.legend(loc=1)\n",
    "ax1.set_ylabel('phase [rad]')\n",
    "ax1.set_xlabel('frequency [THz]')\n",
    "ax1.set_xlim(0, 6000) # Truncate at 6000THz, otherwise signal-to-noise becomes unweildy\n",
    "plt.show()"
   ]
  },
  {
   "cell_type": "markdown",
   "metadata": {},
   "source": [
    "There is a clear Fabry-Perot effect present in the material transmission. Notably $R(\\omega)+T(\\omega)\\neq1$, which suggests values are being incorrectly normalized somewhere in the simulation. Hopefully further investigation will determine the cause of this issue."
   ]
  }
 ],
 "metadata": {
  "kernelspec": {
   "display_name": "Python 3",
   "language": "python",
   "name": "python3"
  },
  "language_info": {
   "codemirror_mode": {
    "name": "ipython",
    "version": 3
   },
   "file_extension": ".py",
   "mimetype": "text/x-python",
   "name": "python",
   "nbconvert_exporter": "python",
   "pygments_lexer": "ipython3",
   "version": "3.6.5"
  }
 },
 "nbformat": 4,
 "nbformat_minor": 2
}
