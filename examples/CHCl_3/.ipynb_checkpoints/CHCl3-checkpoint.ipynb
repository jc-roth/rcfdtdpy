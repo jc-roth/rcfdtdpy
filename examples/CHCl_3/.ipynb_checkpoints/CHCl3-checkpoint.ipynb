{
 "cells": [
  {
   "cell_type": "markdown",
   "metadata": {},
   "source": [
    "Setup simulation"
   ]
  },
  {
   "cell_type": "code",
   "execution_count": null,
   "metadata": {},
   "outputs": [],
   "source": [
    "%matplotlib inline\n",
    "# Imports\n",
    "from rcfdtd_sim import Sim, Current, Mat, vis\n",
    "import numpy as np\n",
    "from scipy.fftpack import fft, fftfreq, fftshift\n",
    "from matplotlib import pyplot as plt\n",
    "from pathlib import Path\n",
    "# Determine file save name\n",
    "fsave = 'chcl3_sim.npz'\n",
    "# Constants\n",
    "c0 = 3e8 # um/ps\n",
    "di = 0.03e-6 # 0.03 um\n",
    "dn = di/c0 # (0.03 um) / (3e8 m/s) = 0.1 fs\n",
    "epsilon0 = 8.854187e-12\n",
    "mu0 = np.divide(1, np.multiply(epsilon0, np.square(c0)))\n",
    "# Define bounds\n",
    "i0 = -1e-6 # -1 um\n",
    "i1 = 2e-6 # 2 um\n",
    "n0 = -0.5e-12 # -0.5 ps\n",
    "n1 = 8.5e-12 # 8.5 ps\n",
    "# Calculate dimensions\n",
    "nlen, ilen = Sim.calc_dims(n0, n1, dn, i0, i1, di)\n",
    "# Create a arrays that hold the value of the center of each cell\n",
    "t = np.linspace(n0+dn/2, n1+dn/2, nlen, endpoint=False)\n",
    "z = np.linspace(i0+di/2, i1+di/2, ilen, endpoint=False)\n",
    "# Notify user\n",
    "print('nlen=%i, ilen=%i' % (nlen, ilen))"
   ]
  },
  {
   "cell_type": "markdown",
   "metadata": {},
   "source": [
    "Setup current"
   ]
  },
  {
   "cell_type": "code",
   "execution_count": null,
   "metadata": {},
   "outputs": [],
   "source": [
    "cp_loc_val = -0.5e-6 # -0.5 um\n",
    "cp_time_val = 0 # 0 fs\n",
    "# Find indicies\n",
    "cp_loc_ind = np.argmin(np.abs(np.subtract(z, cp_loc_val)))\n",
    "cp_time_ind = np.argmin(np.abs(np.subtract(t, cp_time_val)))\n",
    "# Find start and end indicies in time\n",
    "spread = 3500\n",
    "cp_time_s = cp_time_ind - spread\n",
    "cp_time_e = cp_time_ind + spread\n",
    "# Make pulse\n",
    "cpulse = np.append(np.diff(np.diff(np.exp(-((t[cp_time_s:cp_time_e]-cp_time_val)**2)/(8e-27)))), [0,0])\n",
    "# Plot\n",
    "plt.plot(t[cp_time_s:cp_time_e]*1e15, cpulse)\n",
    "plt.gca().ticklabel_format(style='sci', axis='y', scilimits=(0,0))\n",
    "plt.xlabel('time [fs]')\n",
    "plt.ylabel('current [A]')\n",
    "plt.show()\n",
    "# Create Current object\n",
    "current = Current(nlen, ilen, cp_time_s, cp_loc_ind, cpulse)"
   ]
  },
  {
   "cell_type": "markdown",
   "metadata": {},
   "source": [
    "Setup material"
   ]
  },
  {
   "cell_type": "code",
   "execution_count": null,
   "metadata": {},
   "outputs": [],
   "source": [
    "# Set material length\n",
    "m_len = 0.050e-6 # 50 nm\n",
    "# Set locations\n",
    "m_s_val = 0\n",
    "m_e_val = m_s_val + m_len\n",
    "# Calculate starting and ending indicies\n",
    "m_s_ind = np.argmin(np.abs(np.subtract(z, m_s_val)))\n",
    "m_e_ind = np.argmin(np.abs(np.subtract(z, m_e_val)))\n",
    "# Determine matrix length\n",
    "mlen = m_e_ind - m_s_ind\n",
    "\n",
    "# Define infinity permittivity\n",
    "inf_perm = np.complex64(2.13e0) # 2.13\n",
    "\n",
    "# Set A oscillator constants\n",
    "a_gamma = np.complex64(199e9) # 41.604 cm^-1 = 199 GHz\n",
    "a_freq = np.complex64(146e9) # 30.56 cm^-1 = 146 GHz\n",
    "# Calculate beta\n",
    "a_ang_gamma = np.complex64(a_gamma * 2 * np.pi)\n",
    "a_omega = np.complex64(a_freq * 2 * np.pi)\n",
    "a_beta = np.sqrt(np.add(np.square(a_ang_gamma), -np.square(a_omega)), dtype=np.complex64)\n",
    "\n",
    "# Set B oscillator constants\n",
    "b_gamma = np.complex64(31e9) # 6.57 cm^-1 = 31 GHz\n",
    "b_freq = np.complex64(97e9) # 20.40 cm^-1 = 97 GHz\n",
    "# Calculate beta\n",
    "b_ang_gamma = np.complex64(b_gamma * 2 * np.pi)\n",
    "b_omega = np.complex64(b_freq * 2 * np.pi)\n",
    "b_beta = np.sqrt(np.add(np.square(b_ang_gamma), -np.square(b_omega)), dtype=np.complex64)\n",
    "\n",
    "# Set A_1 and A_2\n",
    "a_a1 = (1e12) / (2*a_beta)\n",
    "b_a1 = (1e11) / (2*b_beta)\n",
    "a_a2 = -a_a1\n",
    "b_a2 = -b_a1\n",
    "\n",
    "# Create matrices\n",
    "a_m = np.ones((1, mlen), dtype=np.complex64)\n",
    "a_mgamma = a_m * a_ang_gamma\n",
    "a_mbeta = a_m * a_beta\n",
    "a_ma1 = a_m * a_a1\n",
    "a_ma2 = a_m * a_a2\n",
    "# Create matrices\n",
    "b_m = np.ones((1, mlen), dtype=np.complex64)\n",
    "b_mgamma = b_m * b_ang_gamma\n",
    "b_mbeta = b_m * b_beta\n",
    "b_ma1 = b_m * b_a1\n",
    "b_ma2 = b_m * b_a2\n",
    "\n",
    "# Combine oscillators\n",
    "ma1 = np.vstack((a_ma1, b_ma1))\n",
    "ma2 = np.vstack((a_ma2, b_ma2))\n",
    "mgamma = np.vstack((a_mgamma, b_mgamma))\n",
    "mbeta = np.vstack((a_mbeta, b_mbeta))\n",
    "# Create material\n",
    "material = Mat(dn, ilen, nlen, m_s_ind, inf_perm, ma1, ma2, mgamma, mbeta, storelocs=[1])"
   ]
  },
  {
   "cell_type": "markdown",
   "metadata": {},
   "source": [
    "Run the simulation"
   ]
  },
  {
   "cell_type": "code",
   "execution_count": null,
   "metadata": {},
   "outputs": [],
   "source": [
    "# Create Sim object\n",
    "tqdmarg = {'desc': 'Executing simulation', 'leave': False}\n",
    "s = Sim(i0, i1, di, n0, n1, dn, epsilon0, mu0, 'absorbing', current, material, nstore=int(nlen/50), storelocs=[5,ilen-6])\n",
    "# Run simulation if simulation save doesn't exist\n",
    "sim_file = Path(fsave)\n",
    "if sim_file.is_file():\n",
    "    # Load results\n",
    "    dat = np.load(fsave)\n",
    "    n = dat['n']\n",
    "    ls = dat['ls']\n",
    "    els = dat['els']\n",
    "    erls = dat['erls']\n",
    "    hls = dat['hls']\n",
    "    hrls = dat['hrls']\n",
    "    chi = dat['chi']\n",
    "else:\n",
    "    # Run simulation\n",
    "    s.simulate(tqdmarg)\n",
    "    # Export visualization\n",
    "    #vis.timeseries(s, iunit='um', fname=fsave+'.mp4')\n",
    "    # Export and save arrays\n",
    "    n, ls, els, erls, hls, hrls = s.export_locs()\n",
    "    ls_mat, chi = material.export_locs()\n",
    "    #np.savez(fsave, n=n, ls=ls, els=els, erls=erls, hls=hls, hrls=hrls, chi=chi)"
   ]
  },
  {
   "cell_type": "markdown",
   "metadata": {},
   "source": [
    "Plot results"
   ]
  },
  {
   "cell_type": "code",
   "execution_count": null,
   "metadata": {},
   "outputs": [],
   "source": [
    "plt.plot(n*1e12, np.real(chi))\n",
    "plt.xlabel('time [ps]')\n",
    "plt.show()"
   ]
  },
  {
   "cell_type": "code",
   "execution_count": null,
   "metadata": {},
   "outputs": [],
   "source": [
    "# Extract incident, transmitted, and reflected fields\n",
    "inc = erls[:,1]\n",
    "trans = els[:,1]\n",
    "refl = els[:,0] - erls[:,0]\n",
    "\n",
    "# Plot\n",
    "plt.plot(n, np.real(inc), label='$E_i(t)$')\n",
    "plt.plot(n, np.real(trans), label='$E_t(t)$')\n",
    "plt.plot(n, np.real(refl), label='$E_r(t)$')\n",
    "plt.ylabel('Amplitude [?]')\n",
    "plt.xlabel('time [s]')\n",
    "plt.legend()\n",
    "plt.show()"
   ]
  },
  {
   "cell_type": "code",
   "execution_count": null,
   "metadata": {},
   "outputs": [],
   "source": [
    "# Calculate time difference\n",
    "dn = np.diff(n)[0] # Calculate time step difference in fs\n",
    "\n",
    "# Calculate Fourier transforms\n",
    "freq = fftfreq(nlen, dn) # in THz (since [dn]=[fs], 1/[dn] = 1/[fs] = 10^15/[s] = 10^3*10^12/[s] = 10^4*[THz])\n",
    "incf = fft(inc)\n",
    "transf = fft(trans)\n",
    "reflf = fft(refl)\n",
    "\n",
    "# Removeunwanted frequencies\n",
    "freq = freq[1:int(nlen/2)]\n",
    "incf = incf[1:int(nlen/2)]\n",
    "transf = transf[1:int(nlen/2)]\n",
    "reflf = reflf[1:int(nlen/2)]\n",
    "\n",
    "# Plot transformed fields\n",
    "plt.plot(freq * 1e-12, np.abs(incf), label='$E_i(\\omega)$')\n",
    "plt.plot(freq * 1e-12, np.abs(transf), label='$E_t(\\omega)$')\n",
    "plt.plot(freq * 1e-12, np.abs(reflf), label='$E_r(\\omega)$')\n",
    "plt.xlabel(r'frequency [THz]')\n",
    "plt.xlim(0, 10)\n",
    "plt.legend()\n",
    "plt.show()"
   ]
  },
  {
   "cell_type": "code",
   "execution_count": null,
   "metadata": {},
   "outputs": [],
   "source": [
    "# Remove zero indicies from all arrays\n",
    "nonzero_ind = np.nonzero(incf)\n",
    "freq = freq[nonzero_ind]\n",
    "incf = incf[nonzero_ind]\n",
    "transf = transf[nonzero_ind]\n",
    "reflf = reflf[nonzero_ind]\n",
    "\n",
    "# Calculate spectrum in frequency\n",
    "spec = np.divide(transf, incf)\n",
    "\n",
    "# Remove zero indicies from all arrays\n",
    "nonzero_ind = np.nonzero(spec)\n",
    "freq = freq[nonzero_ind]\n",
    "incf = incf[nonzero_ind]\n",
    "transf = transf[nonzero_ind]\n",
    "spec = spec[nonzero_ind]\n",
    "\n",
    "# Extract phase and magnitude\n",
    "spec_m = np.absolute(spec)\n",
    "spec_a = np.abs(np.unwrap(np.angle(spec)))\n",
    "\n",
    "# Plot\n",
    "fig, (ax0, ax1) = plt.subplots(nrows=2, sharex=True, dpi=100)\n",
    "ax0.plot(freq * 1e-12, spec_m)\n",
    "ax1.plot(freq * 1e-12, spec_a)\n",
    "ax1.set_xlim(0, 15)\n",
    "ax0.set_ylim(0, 2)\n",
    "ax1.set_ylim(0, 0.5)\n",
    "ax0.set_ylabel(r'$\\left|E_t(\\omega)/E_i(\\omega)\\right|$')\n",
    "ax1.set_ylabel(r'$\\phi$ [radians]')\n",
    "ax1.set_xlabel(r'frequency [THz]')\n",
    "plt.show()"
   ]
  },
  {
   "cell_type": "code",
   "execution_count": null,
   "metadata": {},
   "outputs": [],
   "source": [
    "# Set constants\n",
    "Z0 = np.multiply(mu0, c0) # Ohms (impedance of free space)\n",
    "\n",
    "# Calculate the angular frequency\n",
    "ang_freq = 2 * np.pi * freq # THz * 2pi\n",
    "\n",
    "# Calculate conductivity\n",
    "conductivity = np.multiply(np.divide(2, Z0*m_len), np.subtract(np.divide(1, spec), 1))\n",
    "\n",
    "# Setup plot\n",
    "fig, (ax0, ax1) = plt.subplots(2, 1, sharex=True, dpi=100)\n",
    "ax0.set_ylabel(r'$\\sigma_1$')\n",
    "ax1.set_ylabel(r'$\\sigma_2$')\n",
    "ax1.set_xlabel(r'$\\omega$ [THz]')\n",
    "ax1.set_xlim(0, 15)\n",
    "ax0.ticklabel_format(style='sci', scilimits=(0,0), axis='y')\n",
    "ax0.set_ylim(0, 1.1e5)\n",
    "ax1.ticklabel_format(style='sci', scilimits=(0,0), axis='y')\n",
    "ax1.set_ylim(-6e4, 0)\n",
    "\n",
    "# Plot conductivity\n",
    "ax0.plot(freq * 1e-12, np.real(conductivity), 'b-')\n",
    "ax1.plot(freq * 1e-12, np.imag(conductivity), 'b-')"
   ]
  },
  {
   "cell_type": "markdown",
   "metadata": {},
   "source": [
    "Calculate index of refraction"
   ]
  },
  {
   "cell_type": "code",
   "execution_count": null,
   "metadata": {},
   "outputs": [],
   "source": [
    "# Calculate index of refraction\n",
    "n_complex = np.sqrt(inf_perm + np.divide(np.multiply(1j, conductivity), np.multiply(ang_freq, epsilon0)))\n",
    "\n",
    "# Calculate the imaginary part of the index of refraction\n",
    "n1 = np.real(n_complex)\n",
    "kappa1 = np.imag(n_complex)\n",
    "\n",
    "plt.plot(freq * 1e-12, n1)\n",
    "plt.xlim(0, 15)\n",
    "plt.show()"
   ]
  },
  {
   "cell_type": "code",
   "execution_count": null,
   "metadata": {},
   "outputs": [],
   "source": []
  }
 ],
 "metadata": {
  "kernelspec": {
   "display_name": "Python 3",
   "language": "python",
   "name": "python3"
  },
  "language_info": {
   "codemirror_mode": {
    "name": "ipython",
    "version": 3
   },
   "file_extension": ".py",
   "mimetype": "text/x-python",
   "name": "python",
   "nbconvert_exporter": "python",
   "pygments_lexer": "ipython3",
   "version": "3.6.5"
  }
 },
 "nbformat": 4,
 "nbformat_minor": 2
}
