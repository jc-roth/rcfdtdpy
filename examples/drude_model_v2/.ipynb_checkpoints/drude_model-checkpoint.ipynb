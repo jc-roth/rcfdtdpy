{
 "cells": [
  {
   "cell_type": "markdown",
   "metadata": {},
   "source": [
    "## Drude Model\n",
    "\n",
    "Recall that the electric susceptability of our material is modeled by\n",
    "$$\n",
    "\\chi_j(t)=e^{-\\gamma_jt}\\left[A_{1,j}e^{\\beta_jt}+A_{2,j}e^{-\\beta_jt}\\right]\n",
    "$$\n",
    "where $\\beta=\\sqrt{\\gamma^2-\\omega_0^2}$. To obtain the Drude model we choose the natural frequency $\\omega_0=0$ and $A_{1,j}=-A_{2,j}$ for all $j$, which reduces $\\chi_j(t)$ to\n",
    "$$\n",
    "\\chi_j(t)=A_{1,j}\\left[1-e^{-2\\gamma_jt}\\right]\n",
    "$$\n",
    "How do we transform this into frequency space?\n",
    "which results in\n",
    "$$\n",
    "\\sigma(\\omega)=\\frac{\\omega_0}{1+i\\omega t}\n",
    "$$"
   ]
  },
  {
   "cell_type": "markdown",
   "metadata": {},
   "source": [
    "We start by importing the needed libraries and defining our simulation bounds and constants. Our simulation will begin at time index $-1$ps and end at time index $1.5$ps. The simulations spatial bounds will span from $-5$um to $10$um."
   ]
  },
  {
   "cell_type": "code",
   "execution_count": null,
   "metadata": {},
   "outputs": [],
   "source": [
    "%matplotlib inline\n",
    "# Imports\n",
    "from rcfdtd_sim import Simulation as Sim\n",
    "from rcfdtd_sim import Material as Mat\n",
    "from rcfdtd_sim import StaticMaterial as StaticMat\n",
    "from rcfdtd_sim import Current, vis\n",
    "import numpy as np\n",
    "from scipy.fftpack import fft, fftfreq, fftshift\n",
    "from scipy.optimize import curve_fit\n",
    "from matplotlib import pyplot as plt\n",
    "from pathlib import Path\n",
    "# Determine file save name\n",
    "fsave = 'drude_model.npz'\n",
    "# Constants\n",
    "c0 = 3e8 # um/ps\n",
    "di = 0.03e-6 # 0.03 um\n",
    "dn = di/c0 # (0.03 um) / (3e8 m/s) = 0.1 fs\n",
    "epsilon0 = 8.854187e-12\n",
    "mu0 = np.divide(1, np.multiply(epsilon0, np.square(c0)))\n",
    "# Define bounds\n",
    "i0 = -1e-6 # -1 um\n",
    "i1 = 1e-6 # 1 um\n",
    "n0 = -0.5e-12 # -0.5 ps\n",
    "n1 = 0.5e-12 # 0.5 ps\n",
    "# Calculate dimensions and arrays to hold cell values\n",
    "ilen, nlen = Sim.calc_dims(i0, i1, di, n0, n1, dn)\n",
    "z, t = Sim.calc_arrays(i0, i1, di, n0, n1, dn)\n",
    "print('nlen=%i, ilen=%i' % (nlen, ilen))"
   ]
  },
  {
   "cell_type": "markdown",
   "metadata": {},
   "source": [
    "## Setup Current\n",
    "\n",
    "Specify the location of our current pulse in time and space"
   ]
  },
  {
   "cell_type": "code",
   "execution_count": null,
   "metadata": {},
   "outputs": [],
   "source": [
    "cp_loc_val = -0.5e-6 # -0.5 um\n",
    "cp_time_val = 0 # 0 fs"
   ]
  },
  {
   "cell_type": "markdown",
   "metadata": {},
   "source": [
    "Determine the simulation indicies that correspond to these locations"
   ]
  },
  {
   "cell_type": "code",
   "execution_count": null,
   "metadata": {},
   "outputs": [],
   "source": [
    "# Find indicies\n",
    "cp_loc_ind = np.argmin(np.abs(np.subtract(z, cp_loc_val)))\n",
    "cp_time_ind = np.argmin(np.abs(np.subtract(t, cp_time_val)))\n",
    "# Find start and end indicies in time\n",
    "spread = 3500\n",
    "cp_time_s = cp_time_ind - spread\n",
    "cp_time_e = cp_time_ind + spread"
   ]
  },
  {
   "cell_type": "markdown",
   "metadata": {},
   "source": [
    "Create the current pulse"
   ]
  },
  {
   "cell_type": "code",
   "execution_count": null,
   "metadata": {},
   "outputs": [],
   "source": [
    "# Make pulse\n",
    "cpulse = np.append(np.diff(np.diff(np.exp(-((t[cp_time_s:cp_time_e]-cp_time_val)**2)/(8e-27)))), [0,0])\n",
    "# Plot\n",
    "plt.plot(t[cp_time_s:cp_time_e]*1e15, cpulse)\n",
    "plt.gca().ticklabel_format(style='sci', axis='y', scilimits=(0,0))\n",
    "plt.xlabel('time [fs]')\n",
    "plt.ylabel('current [A]')\n",
    "plt.show()\n",
    "# Create Current object\n",
    "current = Current(cp_loc_ind, cp_time_s, ilen, nlen, cpulse)"
   ]
  },
  {
   "cell_type": "markdown",
   "metadata": {},
   "source": [
    "## Setup Material\n",
    "\n",
    "Specify the location of our material (which will be $12$nm in length)"
   ]
  },
  {
   "cell_type": "code",
   "execution_count": null,
   "metadata": {},
   "outputs": [],
   "source": [
    "# Set material length\n",
    "m_len = 0.050e-6 # 50 nm\n",
    "# Set locations\n",
    "m_s_val = 0\n",
    "m_e_val = m_s_val + m_len"
   ]
  },
  {
   "cell_type": "markdown",
   "metadata": {},
   "source": [
    "Calculate the starting and ending indicies of our material"
   ]
  },
  {
   "cell_type": "code",
   "execution_count": null,
   "metadata": {},
   "outputs": [],
   "source": [
    "m_s_ind = np.argmin(np.abs(np.subtract(z, m_s_val)))\n",
    "m_e_ind = np.argmin(np.abs(np.subtract(z, m_e_val)))"
   ]
  },
  {
   "cell_type": "markdown",
   "metadata": {},
   "source": [
    "Setup material behavior"
   ]
  },
  {
   "cell_type": "code",
   "execution_count": null,
   "metadata": {},
   "outputs": [],
   "source": [
    "# Set constants\n",
    "a1 = np.complex64(1e16)\n",
    "gamma = np.complex64(1e12)\n",
    "freq = np.complex64(0)\n",
    "inf_perm = np.complex64(1e0)\n",
    "# Calculate beta\n",
    "ang_gamma = np.complex64(gamma * 2 * np.pi)\n",
    "omega = np.complex64(freq * 2 * np.pi)\n",
    "beta = np.sqrt(np.add(np.square(ang_gamma), -np.square(omega)), dtype=np.complex64)\n",
    "a2 = -a1"
   ]
  },
  {
   "cell_type": "markdown",
   "metadata": {},
   "source": [
    "Create our material behavior matrices"
   ]
  },
  {
   "cell_type": "code",
   "execution_count": null,
   "metadata": {},
   "outputs": [],
   "source": [
    "# Determine matrix length\n",
    "mlen = m_e_ind - m_s_ind\n",
    "# Create matrices\n",
    "m = np.ones((1, mlen), dtype=np.complex64)\n",
    "mgamma = m * ang_gamma\n",
    "mbeta = m * beta\n",
    "ma1 = m * a1\n",
    "ma2 = m * a2"
   ]
  },
  {
   "cell_type": "markdown",
   "metadata": {},
   "source": [
    "Create our material object"
   ]
  },
  {
   "cell_type": "code",
   "execution_count": null,
   "metadata": {},
   "outputs": [],
   "source": [
    "material = StaticMat(di, dn, ilen, nlen, m_s_ind, inf_perm, ma1, ma2, mgamma, mbeta, istore=[1])"
   ]
  },
  {
   "cell_type": "markdown",
   "metadata": {},
   "source": [
    "## Running the Simulation\n",
    "\n",
    "Create and run our simulation (or load simulation if one already exists)"
   ]
  },
  {
   "cell_type": "code",
   "execution_count": null,
   "metadata": {},
   "outputs": [],
   "source": [
    "# Create Sim object\n",
    "tqdmarg = {'desc': 'Executing simulation', 'leave': False}\n",
    "s = Sim(i0, i1, di, n0, n1, dn, epsilon0, mu0, 'absorbing', current, material, nstore=np.arange(0, nlen, 50), istore=[5,ilen-6])\n",
    "# Run simulation if simulation save doesn't exist\n",
    "sim_file = Path(fsave)\n",
    "if sim_file.is_file():\n",
    "    # Load results\n",
    "    dat = np.load(fsave)\n",
    "    t = dat['t']\n",
    "    els = dat['els']\n",
    "    erls = dat['erls']\n",
    "    hls = dat['hls']\n",
    "    hrls = dat['hrls']\n",
    "    chi = dat['chi']\n",
    "else:\n",
    "    # Run simulation\n",
    "    s.simulate(tqdmarg)\n",
    "    # Export visualization\n",
    "    vis.timeseries(s, z, iunit='um')\n",
    "    # Export and save arrays\n",
    "    hls, els, hrls, erls = s.export_ifields()\n",
    "    chi = material.export_ifields()\n",
    "    np.savez(fsave, t=t, els=els, erls=erls, hls=hls, hrls=hrls, chi=chi)"
   ]
  },
  {
   "cell_type": "markdown",
   "metadata": {},
   "source": [
    "Plot $\\chi$"
   ]
  },
  {
   "cell_type": "code",
   "execution_count": null,
   "metadata": {},
   "outputs": [],
   "source": [
    "# Plot\n",
    "fig, ax0 = plt.subplots(1, 1, sharex=True, dpi=100)\n",
    "ax0.set_ylabel(r'$\\chi(t)$', fontsize=15)\n",
    "ax0.set_xlabel(r'time [ps]', fontsize=15)\n",
    "ax0.set_title(r'Drude Model', fontsize=15)\n",
    "ax0.ticklabel_format(style='sci', scilimits=(0,0), axis='y', fontsize=15)\n",
    "ax0.tick_params(labelsize=15)\n",
    "\n",
    "ax0.plot(t*1e12, np.real(chi))\n",
    "\n",
    "plt.tight_layout()\n",
    "\n",
    "plt.savefig('drude_model_chi.pdf', format='pdf')\n",
    "plt.show()"
   ]
  },
  {
   "cell_type": "markdown",
   "metadata": {},
   "source": [
    "Plot fields in time"
   ]
  },
  {
   "cell_type": "code",
   "execution_count": null,
   "metadata": {},
   "outputs": [],
   "source": [
    "# Extract incident, transmitted, and reflected fields\n",
    "inc = erls[:,1]\n",
    "trans = els[:,1]\n",
    "refl = els[:,0] - erls[:,0]\n",
    "\n",
    "# Plot\n",
    "plt.plot(t, np.real(inc), label='$E_i(t)$')\n",
    "plt.plot(t, np.real(trans), label='$E_t(t)$')\n",
    "plt.plot(t, np.real(refl), label='$E_r(t)$')\n",
    "plt.ylabel('Amplitude [?]')\n",
    "plt.xlabel('time [s]')\n",
    "plt.legend()\n",
    "plt.show()"
   ]
  },
  {
   "cell_type": "markdown",
   "metadata": {},
   "source": [
    "Transform time-domain fields into frequency domain fields and plot."
   ]
  },
  {
   "cell_type": "code",
   "execution_count": null,
   "metadata": {},
   "outputs": [],
   "source": [
    "# Calculate time difference\n",
    "dt = np.diff(t)[0] # Calculate time step difference in fs\n",
    "\n",
    "# Calculate Fourier transforms\n",
    "freq = fftfreq(nlen, dt) # in THz (since [dt]=[fs], 1/[dt] = 1/[fs] = 10^15/[s] = 10^3*10^12/[s] = 10^4*[THz])\n",
    "incf = fft(inc)\n",
    "transf = fft(trans)\n",
    "reflf = fft(refl)\n",
    "\n",
    "# Removeunwanted frequencies\n",
    "freq = freq[1:int(nlen/2)]\n",
    "incf = incf[1:int(nlen/2)]\n",
    "transf = transf[1:int(nlen/2)]\n",
    "reflf = reflf[1:int(nlen/2)]\n",
    "\n",
    "# Plot transformed fields\n",
    "plt.plot(freq * 1e-12, np.abs(incf), label='$E_i(\\omega)$')\n",
    "plt.plot(freq * 1e-12, np.abs(transf), label='$E_t(\\omega)$')\n",
    "plt.plot(freq * 1e-12, np.abs(reflf), label='$E_r(\\omega)$')\n",
    "plt.xlabel(r'frequency [THz]')\n",
    "plt.xlim(0, 10)\n",
    "plt.legend()\n",
    "plt.show()"
   ]
  },
  {
   "cell_type": "markdown",
   "metadata": {},
   "source": [
    "Extract transmission coefficient $\\tilde T=A(\\omega)+i\\phi(\\omega)$ into `spec_m` and `spec_a` arrays representing $A(\\omega)$ and $\\phi(\\omega)$, respectively. To prevent a `divide by zero` error we remove the indicies at which the incident field $E_i(\\omega)$ is zero."
   ]
  },
  {
   "cell_type": "code",
   "execution_count": null,
   "metadata": {},
   "outputs": [],
   "source": [
    "# Remove zero indicies from all arrays\n",
    "nonzero_ind = np.nonzero(incf)\n",
    "freq = freq[nonzero_ind]\n",
    "incf = incf[nonzero_ind]\n",
    "transf = transf[nonzero_ind]\n",
    "reflf = reflf[nonzero_ind]\n",
    "\n",
    "# Calculate spectrum in frequency\n",
    "spec = np.divide(transf, incf)\n",
    "\n",
    "# Remove zero indicies from all arrays\n",
    "nonzero_ind = np.nonzero(spec)\n",
    "freq = freq[nonzero_ind]\n",
    "incf = incf[nonzero_ind]\n",
    "transf = transf[nonzero_ind]\n",
    "spec = spec[nonzero_ind]\n",
    "\n",
    "# Extract phase and magnitude\n",
    "spec_m = np.absolute(spec)\n",
    "spec_a = np.abs(np.unwrap(np.angle(spec)))\n",
    "\n",
    "# Plot\n",
    "fig, (ax0, ax1) = plt.subplots(nrows=2, sharex=True, dpi=100)\n",
    "ax0.plot(freq * 1e-12, spec_m)\n",
    "ax1.plot(freq * 1e-12, spec_a)\n",
    "ax1.set_xlim(0, 15)\n",
    "ax0.set_ylim(0, 2)\n",
    "ax1.set_ylim(0, 0.5)\n",
    "ax0.set_ylabel(r'$\\left|E_t(\\omega)/E_i(\\omega)\\right|$')\n",
    "ax1.set_ylabel(r'$\\phi$ [radians]')\n",
    "ax1.set_xlabel(r'frequency [THz]')\n",
    "plt.show()"
   ]
  },
  {
   "cell_type": "markdown",
   "metadata": {},
   "source": [
    "We wish to calculate the index of refraction\n",
    "$$\\tilde{n}(\\omega)=n(\\omega)+i\\kappa(\\omega)$$\n",
    "where $\\kappa\\ll n$. From Benjamin Ofori-Okai's 2016 PhD thesis Eq.(5.41) we note that conductivity is defined as\n",
    "$$\n",
    "\\tilde{\\sigma}(\\omega)=\\frac{2}{Z_0d}\\left(\\frac{1}{\\tilde{t}(\\omega)}-1\\right)\n",
    "$$\n",
    "for a sample in vacuum where $Z_0$ is the impedance of free space, $d$ is the sample width, and $\\tilde{t}(\\omega)=\\frac{E_t(\\omega)}{E_i(\\omega)}$. The index of refraction $\\tilde{n}(\\omega)$ is related to the conductivity $\\tilde{\\sigma}(\\omega)$ via\n",
    "$$\n",
    "\\tilde{n}(\\omega)=\\sqrt{\\epsilon_\\infty+\\frac{i\\tilde{\\sigma}(\\omega)}{\\omega\\epsilon_0}}\n",
    "$$\n",
    "\n",
    "This calculation is valid in the limit $\\kappa\\gg n$, or the _thin sample limit_. This simulation operates in this regime."
   ]
  },
  {
   "cell_type": "code",
   "execution_count": null,
   "metadata": {},
   "outputs": [],
   "source": [
    "# Set constants\n",
    "Z0 = np.multiply(mu0, c0) # Ohms (impedance of free space)\n",
    "\n",
    "# Calculate the angular frequency\n",
    "ang_freq = 2 * np.pi * freq # THz * 2pi\n",
    "\n",
    "# Calculate conductivity\n",
    "conductivity = np.multiply(np.divide(2, Z0*m_len), np.subtract(np.divide(1, spec), 1))\n",
    "\n",
    "# Calculate index of refraction\n",
    "#n_complex = np.sqrt(inf_perm + np.divide(np.multiply(1j, conductivity), np.multiply(ang_freq, epsilon0)))\n",
    "\n",
    "# Calculate the imaginary part of the index of refraction\n",
    "#n1 = np.real(n_complex)\n",
    "#kappa1 = np.imag(n_complex)\n",
    "\n",
    "# Setup plot\n",
    "fig, (ax0, ax1) = plt.subplots(2, 1, sharex=True, dpi=100)\n",
    "ax0.set_ylabel(r'$\\sigma_1$')\n",
    "ax1.set_ylabel(r'$\\sigma_2$')\n",
    "ax1.set_xlabel(r'$\\omega$ [THz]')\n",
    "ax1.set_xlim(0, 15)\n",
    "ax0.ticklabel_format(style='sci', scilimits=(0,0), axis='y')\n",
    "ax0.set_ylim(0, 1.1e5)\n",
    "ax1.ticklabel_format(style='sci', scilimits=(0,0), axis='y')\n",
    "ax1.set_ylim(-6e4, 0)\n",
    "\n",
    "# Plot conductivity\n",
    "ax0.plot(freq * 1e-12, np.real(conductivity), 'b-')\n",
    "ax1.plot(freq * 1e-12, np.imag(conductivity), 'b-')"
   ]
  },
  {
   "cell_type": "code",
   "execution_count": null,
   "metadata": {},
   "outputs": [],
   "source": [
    "# Find max frequency\n",
    "freq_max = np.argmin(np.abs(np.subtract(14e12, freq)))\n",
    "\n",
    "# Define fit functions\n",
    "def cond_real(omega, sigma0, tau):\n",
    "    return sigma0/(1+(tau*omega)**2)\n",
    "\n",
    "def cond_imag(omega, sigma0, tau):\n",
    "    return (-omega*tau*sigma0)/(1+(tau*omega)**2)\n",
    "\n",
    "# Take real and imaginary parts\n",
    "cfreq = freq[:freq_max]\n",
    "creal = np.real(conductivity)[:freq_max]\n",
    "cimag = np.imag(conductivity)[:freq_max]\n",
    "\n",
    "# Run curve fit\n",
    "popt_real, pcov_real = curve_fit(cond_real, cfreq, creal, p0=[1e5, 0.4e-12])\n",
    "popt_imag, pcov_imag = curve_fit(cond_imag, cfreq, cimag, p0=[1e5, 0.2e-12])\n",
    "\n",
    "fit_real = cond_real(freq, *popt_real)\n",
    "fit_imag = cond_imag(freq, *popt_imag)\n",
    "\n",
    "# Setup plot\n",
    "fig, (ax0, ax1) = plt.subplots(2, 1, sharex=True, dpi=100)\n",
    "ax0.set_ylabel(r'$\\sigma_1$', fontsize=15)\n",
    "ax1.set_ylabel(r'$\\sigma_2$', fontsize=15)\n",
    "ax1.set_xlabel(r'$\\omega$ [THz]', fontsize=15)\n",
    "ax0.set_title(r'Drude Model', fontsize=15)\n",
    "ax1.set_xlim(0, 15)\n",
    "ax0.ticklabel_format(style='sci', scilimits=(0,0), axis='y')\n",
    "ax0.tick_params(labelsize=15)\n",
    "ax0.set_ylim(0, 1.1e5)\n",
    "ax1.ticklabel_format(style='sci', scilimits=(0,0), axis='y')\n",
    "ax1.tick_params(labelsize=15)\n",
    "ax1.set_ylim(-6e4, 0)\n",
    "\n",
    "# Plot simulated conductivity\n",
    "ax0.plot(freq*1e-12, np.real(conductivity), 'b-', label='simulation')\n",
    "ax1.plot(freq*1e-12, np.imag(conductivity), 'b-', label='simulation')\n",
    "\n",
    "# Plot analytic conductivity\n",
    "ax0.plot(freq*1e-12, fit_real, 'r--', label='analytic')\n",
    "ax1.plot(freq*1e-12, fit_imag, 'r--', label='analytic')\n",
    "\n",
    "ax0.legend()\n",
    "ax1.legend()\n",
    "\n",
    "plt.tight_layout()\n",
    "\n",
    "plt.savefig('drude_model.pdf', format='pdf')\n",
    "plt.show()"
   ]
  },
  {
   "cell_type": "code",
   "execution_count": null,
   "metadata": {},
   "outputs": [],
   "source": []
  }
 ],
 "metadata": {
  "kernelspec": {
   "display_name": "Python 3",
   "language": "python",
   "name": "python3"
  },
  "language_info": {
   "codemirror_mode": {
    "name": "ipython",
    "version": 3
   },
   "file_extension": ".py",
   "mimetype": "text/x-python",
   "name": "python",
   "nbconvert_exporter": "python",
   "pygments_lexer": "ipython3",
   "version": "3.6.6"
  }
 },
 "nbformat": 4,
 "nbformat_minor": 2
}
